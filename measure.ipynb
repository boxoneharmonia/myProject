{
 "cells": [
  {
   "cell_type": "code",
   "execution_count": 1,
   "id": "07890bac",
   "metadata": {},
   "outputs": [],
   "source": [
    "from config import config\n",
    "import torch\n",
    "import logging\n",
    "import os\n",
    "from PIL import Image\n",
    "import pandas as pd\n",
    "import numpy as np\n",
    "from torchvision import transforms\n",
    "\n",
    "from src.net import build_model\n",
    "from src.utils import set_all_seeds\n",
    "\n",
    "logger = logging.getLogger(__name__)"
   ]
  },
  {
   "cell_type": "code",
   "execution_count": 2,
   "id": "3f3a5036",
   "metadata": {},
   "outputs": [
    {
     "name": "stderr",
     "output_type": "stream",
     "text": [
      "INFO:__main__:Test on device cuda:0\n",
      "INFO:__main__:Random seed value: 42\n"
     ]
    }
   ],
   "source": [
    "logging.basicConfig(level=logging.INFO)\n",
    "if config.use_cuda and torch.cuda.is_available():\n",
    "    device = torch.device(\"cuda:0\")\n",
    "else:\n",
    "    device = torch.device(\"cpu\")\n",
    "\n",
    "logger.info(f\"Test on device {device}\")\n",
    "\n",
    "set_all_seeds(config)\n",
    "logger.info(f\"Random seed value: {config.seed}\")"
   ]
  },
  {
   "cell_type": "code",
   "execution_count": 3,
   "id": "64e614cf",
   "metadata": {},
   "outputs": [
    {
     "name": "stderr",
     "output_type": "stream",
     "text": [
      "INFO:__main__:Loading pretrained weights from ./weight/event_bert_v2.pth\n"
     ]
    },
    {
     "data": {
      "text/plain": [
       "EventBERTV2(\n",
       "  (eventImg2Token): EventImg2TokenV2(\n",
       "    (conv): Sequential(\n",
       "      (0): ConvDw(\n",
       "        (conv): Sequential(\n",
       "          (0): Conv2d(2, 2, kernel_size=(3, 3), stride=(2, 2), padding=(1, 1), groups=2, bias=False)\n",
       "          (1): BatchNorm2d(2, eps=1e-05, momentum=0.1, affine=True, track_running_stats=True)\n",
       "          (2): LeakyReLU(negative_slope=0.01, inplace=True)\n",
       "          (3): Conv2d(2, 32, kernel_size=(1, 1), stride=(1, 1), bias=False)\n",
       "          (4): BatchNorm2d(32, eps=1e-05, momentum=0.1, affine=True, track_running_stats=True)\n",
       "          (5): LeakyReLU(negative_slope=0.01, inplace=True)\n",
       "        )\n",
       "      )\n",
       "      (1): ConvDw(\n",
       "        (conv): Sequential(\n",
       "          (0): Conv2d(32, 32, kernel_size=(3, 3), stride=(2, 2), padding=(1, 1), groups=32, bias=False)\n",
       "          (1): BatchNorm2d(32, eps=1e-05, momentum=0.1, affine=True, track_running_stats=True)\n",
       "          (2): LeakyReLU(negative_slope=0.01, inplace=True)\n",
       "          (3): Conv2d(32, 128, kernel_size=(1, 1), stride=(1, 1), bias=False)\n",
       "          (4): BatchNorm2d(128, eps=1e-05, momentum=0.1, affine=True, track_running_stats=True)\n",
       "          (5): LeakyReLU(negative_slope=0.01, inplace=True)\n",
       "        )\n",
       "      )\n",
       "      (2): ConvDw(\n",
       "        (conv): Sequential(\n",
       "          (0): Conv2d(128, 128, kernel_size=(3, 3), stride=(2, 2), padding=(1, 1), groups=128, bias=False)\n",
       "          (1): BatchNorm2d(128, eps=1e-05, momentum=0.1, affine=True, track_running_stats=True)\n",
       "          (2): LeakyReLU(negative_slope=0.01, inplace=True)\n",
       "          (3): Conv2d(128, 512, kernel_size=(1, 1), stride=(1, 1), bias=False)\n",
       "          (4): BatchNorm2d(512, eps=1e-05, momentum=0.1, affine=True, track_running_stats=True)\n",
       "          (5): LeakyReLU(negative_slope=0.01, inplace=True)\n",
       "        )\n",
       "      )\n",
       "      (3): ConvDw(\n",
       "        (conv): Sequential(\n",
       "          (0): Conv2d(512, 512, kernel_size=(3, 3), stride=(2, 2), padding=(1, 1), groups=512, bias=False)\n",
       "          (1): BatchNorm2d(512, eps=1e-05, momentum=0.1, affine=True, track_running_stats=True)\n",
       "          (2): LeakyReLU(negative_slope=0.01, inplace=True)\n",
       "          (3): Conv2d(512, 1024, kernel_size=(1, 1), stride=(1, 1), bias=False)\n",
       "          (4): BatchNorm2d(1024, eps=1e-05, momentum=0.1, affine=True, track_running_stats=True)\n",
       "          (5): LeakyReLU(negative_slope=0.01, inplace=True)\n",
       "        )\n",
       "      )\n",
       "      (4): ConvDw(\n",
       "        (conv): Sequential(\n",
       "          (0): Conv2d(1024, 1024, kernel_size=(3, 3), stride=(2, 2), padding=(1, 1), groups=1024, bias=False)\n",
       "          (1): BatchNorm2d(1024, eps=1e-05, momentum=0.1, affine=True, track_running_stats=True)\n",
       "          (2): LeakyReLU(negative_slope=0.01, inplace=True)\n",
       "          (3): Conv2d(1024, 1536, kernel_size=(1, 1), stride=(1, 1), bias=False)\n",
       "          (4): BatchNorm2d(1536, eps=1e-05, momentum=0.1, affine=True, track_running_stats=True)\n",
       "          (5): LeakyReLU(negative_slope=0.01, inplace=True)\n",
       "        )\n",
       "      )\n",
       "    )\n",
       "    (fcOut): MLPSwiGLU(\n",
       "      (fc1): Linear(in_features=1536, out_features=4096, bias=True)\n",
       "      (fc2): Linear(in_features=2048, out_features=768, bias=True)\n",
       "      (drop): Identity()\n",
       "    )\n",
       "  )\n",
       "  (transformer): TransformerV2(\n",
       "    (encoder): Sequential(\n",
       "      (0): BlockFT(\n",
       "        (norm1): LayerNormCompatible()\n",
       "        (attn1): FrameAttention(\n",
       "          (qkv): Linear(in_features=768, out_features=2304, bias=True)\n",
       "          (attn_drop): Dropout(p=0.0, inplace=False)\n",
       "          (proj): Linear(in_features=768, out_features=768, bias=True)\n",
       "          (proj_drop): Dropout(p=0.0, inplace=False)\n",
       "        )\n",
       "        (norm2): LayerNormCompatible()\n",
       "        (attn2): TimeAttention(\n",
       "          (qkv): Linear(in_features=768, out_features=2304, bias=True)\n",
       "          (attn_drop): Dropout(p=0.0, inplace=False)\n",
       "          (proj): Linear(in_features=768, out_features=768, bias=True)\n",
       "          (proj_drop): Dropout(p=0.0, inplace=False)\n",
       "        )\n",
       "        (drop_path): Identity()\n",
       "        (norm3): LayerNormCompatible()\n",
       "        (mlp): MLPSwiGLU(\n",
       "          (fc1): Linear(in_features=768, out_features=4096, bias=True)\n",
       "          (fc2): Linear(in_features=2048, out_features=768, bias=True)\n",
       "          (drop): Identity()\n",
       "        )\n",
       "        (ls1): LayerScale()\n",
       "        (ls2): LayerScale()\n",
       "        (ls3): LayerScale()\n",
       "      )\n",
       "      (1): BlockFT(\n",
       "        (norm1): LayerNormCompatible()\n",
       "        (attn1): FrameAttention(\n",
       "          (qkv): Linear(in_features=768, out_features=2304, bias=True)\n",
       "          (attn_drop): Dropout(p=0.0, inplace=False)\n",
       "          (proj): Linear(in_features=768, out_features=768, bias=True)\n",
       "          (proj_drop): Dropout(p=0.0, inplace=False)\n",
       "        )\n",
       "        (norm2): LayerNormCompatible()\n",
       "        (attn2): TimeAttention(\n",
       "          (qkv): Linear(in_features=768, out_features=2304, bias=True)\n",
       "          (attn_drop): Dropout(p=0.0, inplace=False)\n",
       "          (proj): Linear(in_features=768, out_features=768, bias=True)\n",
       "          (proj_drop): Dropout(p=0.0, inplace=False)\n",
       "        )\n",
       "        (drop_path): Identity()\n",
       "        (norm3): LayerNormCompatible()\n",
       "        (mlp): MLPSwiGLU(\n",
       "          (fc1): Linear(in_features=768, out_features=4096, bias=True)\n",
       "          (fc2): Linear(in_features=2048, out_features=768, bias=True)\n",
       "          (drop): Identity()\n",
       "        )\n",
       "        (ls1): LayerScale()\n",
       "        (ls2): LayerScale()\n",
       "        (ls3): LayerScale()\n",
       "      )\n",
       "      (2): BlockFT(\n",
       "        (norm1): LayerNormCompatible()\n",
       "        (attn1): FrameAttention(\n",
       "          (qkv): Linear(in_features=768, out_features=2304, bias=True)\n",
       "          (attn_drop): Dropout(p=0.0, inplace=False)\n",
       "          (proj): Linear(in_features=768, out_features=768, bias=True)\n",
       "          (proj_drop): Dropout(p=0.0, inplace=False)\n",
       "        )\n",
       "        (norm2): LayerNormCompatible()\n",
       "        (attn2): TimeAttention(\n",
       "          (qkv): Linear(in_features=768, out_features=2304, bias=True)\n",
       "          (attn_drop): Dropout(p=0.0, inplace=False)\n",
       "          (proj): Linear(in_features=768, out_features=768, bias=True)\n",
       "          (proj_drop): Dropout(p=0.0, inplace=False)\n",
       "        )\n",
       "        (drop_path): Identity()\n",
       "        (norm3): LayerNormCompatible()\n",
       "        (mlp): MLPSwiGLU(\n",
       "          (fc1): Linear(in_features=768, out_features=4096, bias=True)\n",
       "          (fc2): Linear(in_features=2048, out_features=768, bias=True)\n",
       "          (drop): Identity()\n",
       "        )\n",
       "        (ls1): LayerScale()\n",
       "        (ls2): LayerScale()\n",
       "        (ls3): LayerScale()\n",
       "      )\n",
       "      (3): BlockFT(\n",
       "        (norm1): LayerNormCompatible()\n",
       "        (attn1): FrameAttention(\n",
       "          (qkv): Linear(in_features=768, out_features=2304, bias=True)\n",
       "          (attn_drop): Dropout(p=0.0, inplace=False)\n",
       "          (proj): Linear(in_features=768, out_features=768, bias=True)\n",
       "          (proj_drop): Dropout(p=0.0, inplace=False)\n",
       "        )\n",
       "        (norm2): LayerNormCompatible()\n",
       "        (attn2): TimeAttention(\n",
       "          (qkv): Linear(in_features=768, out_features=2304, bias=True)\n",
       "          (attn_drop): Dropout(p=0.0, inplace=False)\n",
       "          (proj): Linear(in_features=768, out_features=768, bias=True)\n",
       "          (proj_drop): Dropout(p=0.0, inplace=False)\n",
       "        )\n",
       "        (drop_path): Identity()\n",
       "        (norm3): LayerNormCompatible()\n",
       "        (mlp): MLPSwiGLU(\n",
       "          (fc1): Linear(in_features=768, out_features=4096, bias=True)\n",
       "          (fc2): Linear(in_features=2048, out_features=768, bias=True)\n",
       "          (drop): Identity()\n",
       "        )\n",
       "        (ls1): LayerScale()\n",
       "        (ls2): LayerScale()\n",
       "        (ls3): LayerScale()\n",
       "      )\n",
       "      (4): BlockFT(\n",
       "        (norm1): LayerNormCompatible()\n",
       "        (attn1): FrameAttention(\n",
       "          (qkv): Linear(in_features=768, out_features=2304, bias=True)\n",
       "          (attn_drop): Dropout(p=0.0, inplace=False)\n",
       "          (proj): Linear(in_features=768, out_features=768, bias=True)\n",
       "          (proj_drop): Dropout(p=0.0, inplace=False)\n",
       "        )\n",
       "        (norm2): LayerNormCompatible()\n",
       "        (attn2): TimeAttention(\n",
       "          (qkv): Linear(in_features=768, out_features=2304, bias=True)\n",
       "          (attn_drop): Dropout(p=0.0, inplace=False)\n",
       "          (proj): Linear(in_features=768, out_features=768, bias=True)\n",
       "          (proj_drop): Dropout(p=0.0, inplace=False)\n",
       "        )\n",
       "        (drop_path): Identity()\n",
       "        (norm3): LayerNormCompatible()\n",
       "        (mlp): MLPSwiGLU(\n",
       "          (fc1): Linear(in_features=768, out_features=4096, bias=True)\n",
       "          (fc2): Linear(in_features=2048, out_features=768, bias=True)\n",
       "          (drop): Identity()\n",
       "        )\n",
       "        (ls1): LayerScale()\n",
       "        (ls2): LayerScale()\n",
       "        (ls3): LayerScale()\n",
       "      )\n",
       "      (5): BlockFT(\n",
       "        (norm1): LayerNormCompatible()\n",
       "        (attn1): FrameAttention(\n",
       "          (qkv): Linear(in_features=768, out_features=2304, bias=True)\n",
       "          (attn_drop): Dropout(p=0.0, inplace=False)\n",
       "          (proj): Linear(in_features=768, out_features=768, bias=True)\n",
       "          (proj_drop): Dropout(p=0.0, inplace=False)\n",
       "        )\n",
       "        (norm2): LayerNormCompatible()\n",
       "        (attn2): TimeAttention(\n",
       "          (qkv): Linear(in_features=768, out_features=2304, bias=True)\n",
       "          (attn_drop): Dropout(p=0.0, inplace=False)\n",
       "          (proj): Linear(in_features=768, out_features=768, bias=True)\n",
       "          (proj_drop): Dropout(p=0.0, inplace=False)\n",
       "        )\n",
       "        (drop_path): Identity()\n",
       "        (norm3): LayerNormCompatible()\n",
       "        (mlp): MLPSwiGLU(\n",
       "          (fc1): Linear(in_features=768, out_features=4096, bias=True)\n",
       "          (fc2): Linear(in_features=2048, out_features=768, bias=True)\n",
       "          (drop): Identity()\n",
       "        )\n",
       "        (ls1): LayerScale()\n",
       "        (ls2): LayerScale()\n",
       "        (ls3): LayerScale()\n",
       "      )\n",
       "      (6): BlockFT(\n",
       "        (norm1): LayerNormCompatible()\n",
       "        (attn1): FrameAttention(\n",
       "          (qkv): Linear(in_features=768, out_features=2304, bias=True)\n",
       "          (attn_drop): Dropout(p=0.0, inplace=False)\n",
       "          (proj): Linear(in_features=768, out_features=768, bias=True)\n",
       "          (proj_drop): Dropout(p=0.0, inplace=False)\n",
       "        )\n",
       "        (norm2): LayerNormCompatible()\n",
       "        (attn2): TimeAttention(\n",
       "          (qkv): Linear(in_features=768, out_features=2304, bias=True)\n",
       "          (attn_drop): Dropout(p=0.0, inplace=False)\n",
       "          (proj): Linear(in_features=768, out_features=768, bias=True)\n",
       "          (proj_drop): Dropout(p=0.0, inplace=False)\n",
       "        )\n",
       "        (drop_path): Identity()\n",
       "        (norm3): LayerNormCompatible()\n",
       "        (mlp): MLPSwiGLU(\n",
       "          (fc1): Linear(in_features=768, out_features=4096, bias=True)\n",
       "          (fc2): Linear(in_features=2048, out_features=768, bias=True)\n",
       "          (drop): Identity()\n",
       "        )\n",
       "        (ls1): LayerScale()\n",
       "        (ls2): LayerScale()\n",
       "        (ls3): LayerScale()\n",
       "      )\n",
       "      (7): BlockFT(\n",
       "        (norm1): LayerNormCompatible()\n",
       "        (attn1): FrameAttention(\n",
       "          (qkv): Linear(in_features=768, out_features=2304, bias=True)\n",
       "          (attn_drop): Dropout(p=0.0, inplace=False)\n",
       "          (proj): Linear(in_features=768, out_features=768, bias=True)\n",
       "          (proj_drop): Dropout(p=0.0, inplace=False)\n",
       "        )\n",
       "        (norm2): LayerNormCompatible()\n",
       "        (attn2): TimeAttention(\n",
       "          (qkv): Linear(in_features=768, out_features=2304, bias=True)\n",
       "          (attn_drop): Dropout(p=0.0, inplace=False)\n",
       "          (proj): Linear(in_features=768, out_features=768, bias=True)\n",
       "          (proj_drop): Dropout(p=0.0, inplace=False)\n",
       "        )\n",
       "        (drop_path): Identity()\n",
       "        (norm3): LayerNormCompatible()\n",
       "        (mlp): MLPSwiGLU(\n",
       "          (fc1): Linear(in_features=768, out_features=4096, bias=True)\n",
       "          (fc2): Linear(in_features=2048, out_features=768, bias=True)\n",
       "          (drop): Identity()\n",
       "        )\n",
       "        (ls1): LayerScale()\n",
       "        (ls2): LayerScale()\n",
       "        (ls3): LayerScale()\n",
       "      )\n",
       "      (8): BlockFT(\n",
       "        (norm1): LayerNormCompatible()\n",
       "        (attn1): FrameAttention(\n",
       "          (qkv): Linear(in_features=768, out_features=2304, bias=True)\n",
       "          (attn_drop): Dropout(p=0.0, inplace=False)\n",
       "          (proj): Linear(in_features=768, out_features=768, bias=True)\n",
       "          (proj_drop): Dropout(p=0.0, inplace=False)\n",
       "        )\n",
       "        (norm2): LayerNormCompatible()\n",
       "        (attn2): TimeAttention(\n",
       "          (qkv): Linear(in_features=768, out_features=2304, bias=True)\n",
       "          (attn_drop): Dropout(p=0.0, inplace=False)\n",
       "          (proj): Linear(in_features=768, out_features=768, bias=True)\n",
       "          (proj_drop): Dropout(p=0.0, inplace=False)\n",
       "        )\n",
       "        (drop_path): Identity()\n",
       "        (norm3): LayerNormCompatible()\n",
       "        (mlp): MLPSwiGLU(\n",
       "          (fc1): Linear(in_features=768, out_features=4096, bias=True)\n",
       "          (fc2): Linear(in_features=2048, out_features=768, bias=True)\n",
       "          (drop): Identity()\n",
       "        )\n",
       "        (ls1): LayerScale()\n",
       "        (ls2): LayerScale()\n",
       "        (ls3): LayerScale()\n",
       "      )\n",
       "      (9): BlockFT(\n",
       "        (norm1): LayerNormCompatible()\n",
       "        (attn1): FrameAttention(\n",
       "          (qkv): Linear(in_features=768, out_features=2304, bias=True)\n",
       "          (attn_drop): Dropout(p=0.0, inplace=False)\n",
       "          (proj): Linear(in_features=768, out_features=768, bias=True)\n",
       "          (proj_drop): Dropout(p=0.0, inplace=False)\n",
       "        )\n",
       "        (norm2): LayerNormCompatible()\n",
       "        (attn2): TimeAttention(\n",
       "          (qkv): Linear(in_features=768, out_features=2304, bias=True)\n",
       "          (attn_drop): Dropout(p=0.0, inplace=False)\n",
       "          (proj): Linear(in_features=768, out_features=768, bias=True)\n",
       "          (proj_drop): Dropout(p=0.0, inplace=False)\n",
       "        )\n",
       "        (drop_path): Identity()\n",
       "        (norm3): LayerNormCompatible()\n",
       "        (mlp): MLPSwiGLU(\n",
       "          (fc1): Linear(in_features=768, out_features=4096, bias=True)\n",
       "          (fc2): Linear(in_features=2048, out_features=768, bias=True)\n",
       "          (drop): Identity()\n",
       "        )\n",
       "        (ls1): LayerScale()\n",
       "        (ls2): LayerScale()\n",
       "        (ls3): LayerScale()\n",
       "      )\n",
       "      (10): BlockFT(\n",
       "        (norm1): LayerNormCompatible()\n",
       "        (attn1): FrameAttention(\n",
       "          (qkv): Linear(in_features=768, out_features=2304, bias=True)\n",
       "          (attn_drop): Dropout(p=0.0, inplace=False)\n",
       "          (proj): Linear(in_features=768, out_features=768, bias=True)\n",
       "          (proj_drop): Dropout(p=0.0, inplace=False)\n",
       "        )\n",
       "        (norm2): LayerNormCompatible()\n",
       "        (attn2): TimeAttention(\n",
       "          (qkv): Linear(in_features=768, out_features=2304, bias=True)\n",
       "          (attn_drop): Dropout(p=0.0, inplace=False)\n",
       "          (proj): Linear(in_features=768, out_features=768, bias=True)\n",
       "          (proj_drop): Dropout(p=0.0, inplace=False)\n",
       "        )\n",
       "        (drop_path): Identity()\n",
       "        (norm3): LayerNormCompatible()\n",
       "        (mlp): MLPSwiGLU(\n",
       "          (fc1): Linear(in_features=768, out_features=4096, bias=True)\n",
       "          (fc2): Linear(in_features=2048, out_features=768, bias=True)\n",
       "          (drop): Identity()\n",
       "        )\n",
       "        (ls1): LayerScale()\n",
       "        (ls2): LayerScale()\n",
       "        (ls3): LayerScale()\n",
       "      )\n",
       "      (11): BlockFT(\n",
       "        (norm1): LayerNormCompatible()\n",
       "        (attn1): FrameAttention(\n",
       "          (qkv): Linear(in_features=768, out_features=2304, bias=True)\n",
       "          (attn_drop): Dropout(p=0.0, inplace=False)\n",
       "          (proj): Linear(in_features=768, out_features=768, bias=True)\n",
       "          (proj_drop): Dropout(p=0.0, inplace=False)\n",
       "        )\n",
       "        (norm2): LayerNormCompatible()\n",
       "        (attn2): TimeAttention(\n",
       "          (qkv): Linear(in_features=768, out_features=2304, bias=True)\n",
       "          (attn_drop): Dropout(p=0.0, inplace=False)\n",
       "          (proj): Linear(in_features=768, out_features=768, bias=True)\n",
       "          (proj_drop): Dropout(p=0.0, inplace=False)\n",
       "        )\n",
       "        (drop_path): Identity()\n",
       "        (norm3): LayerNormCompatible()\n",
       "        (mlp): MLPSwiGLU(\n",
       "          (fc1): Linear(in_features=768, out_features=4096, bias=True)\n",
       "          (fc2): Linear(in_features=2048, out_features=768, bias=True)\n",
       "          (drop): Identity()\n",
       "        )\n",
       "        (ls1): LayerScale()\n",
       "        (ls2): LayerScale()\n",
       "        (ls3): LayerScale()\n",
       "      )\n",
       "    )\n",
       "    (fcOut): Sequential(\n",
       "      (0): MLPSwiGLU(\n",
       "        (fc1): Linear(in_features=768, out_features=1024, bias=True)\n",
       "        (fc2): Linear(in_features=512, out_features=768, bias=True)\n",
       "        (drop): Identity()\n",
       "      )\n",
       "      (1): LayerNormCompatible()\n",
       "    )\n",
       "  )\n",
       "  (trajHead): Token2TrajV2(\n",
       "    (fcIn): MLPSwiGLU(\n",
       "      (fc1): Linear(in_features=7, out_features=2048, bias=True)\n",
       "      (fc2): Linear(in_features=1024, out_features=768, bias=True)\n",
       "      (drop): Identity()\n",
       "    )\n",
       "    (fusionEncoder): Sequential(\n",
       "      (0): BlockV2(\n",
       "        (norm1): LayerNormCompatible()\n",
       "        (attn): AttentionV2(\n",
       "          (qkv): Linear(in_features=768, out_features=2304, bias=True)\n",
       "          (attn_drop): Dropout(p=0.0, inplace=False)\n",
       "          (proj): Linear(in_features=768, out_features=768, bias=True)\n",
       "          (proj_drop): Dropout(p=0.0, inplace=False)\n",
       "        )\n",
       "        (drop_path): Identity()\n",
       "        (norm2): LayerNormCompatible()\n",
       "        (mlp): MLPSwiGLU(\n",
       "          (fc1): Linear(in_features=768, out_features=4096, bias=True)\n",
       "          (fc2): Linear(in_features=2048, out_features=768, bias=True)\n",
       "          (drop): Identity()\n",
       "        )\n",
       "      )\n",
       "      (1): BlockV2(\n",
       "        (norm1): LayerNormCompatible()\n",
       "        (attn): AttentionV2(\n",
       "          (qkv): Linear(in_features=768, out_features=2304, bias=True)\n",
       "          (attn_drop): Dropout(p=0.0, inplace=False)\n",
       "          (proj): Linear(in_features=768, out_features=768, bias=True)\n",
       "          (proj_drop): Dropout(p=0.0, inplace=False)\n",
       "        )\n",
       "        (drop_path): Identity()\n",
       "        (norm2): LayerNormCompatible()\n",
       "        (mlp): MLPSwiGLU(\n",
       "          (fc1): Linear(in_features=768, out_features=4096, bias=True)\n",
       "          (fc2): Linear(in_features=2048, out_features=768, bias=True)\n",
       "          (drop): Identity()\n",
       "        )\n",
       "      )\n",
       "      (2): BlockV2(\n",
       "        (norm1): LayerNormCompatible()\n",
       "        (attn): AttentionV2(\n",
       "          (qkv): Linear(in_features=768, out_features=2304, bias=True)\n",
       "          (attn_drop): Dropout(p=0.0, inplace=False)\n",
       "          (proj): Linear(in_features=768, out_features=768, bias=True)\n",
       "          (proj_drop): Dropout(p=0.0, inplace=False)\n",
       "        )\n",
       "        (drop_path): Identity()\n",
       "        (norm2): LayerNormCompatible()\n",
       "        (mlp): MLPSwiGLU(\n",
       "          (fc1): Linear(in_features=768, out_features=4096, bias=True)\n",
       "          (fc2): Linear(in_features=2048, out_features=768, bias=True)\n",
       "          (drop): Identity()\n",
       "        )\n",
       "      )\n",
       "      (3): BlockV2(\n",
       "        (norm1): LayerNormCompatible()\n",
       "        (attn): AttentionV2(\n",
       "          (qkv): Linear(in_features=768, out_features=2304, bias=True)\n",
       "          (attn_drop): Dropout(p=0.0, inplace=False)\n",
       "          (proj): Linear(in_features=768, out_features=768, bias=True)\n",
       "          (proj_drop): Dropout(p=0.0, inplace=False)\n",
       "        )\n",
       "        (drop_path): Identity()\n",
       "        (norm2): LayerNormCompatible()\n",
       "        (mlp): MLPSwiGLU(\n",
       "          (fc1): Linear(in_features=768, out_features=4096, bias=True)\n",
       "          (fc2): Linear(in_features=2048, out_features=768, bias=True)\n",
       "          (drop): Identity()\n",
       "        )\n",
       "      )\n",
       "    )\n",
       "    (head): Linear(in_features=768, out_features=3, bias=True)\n",
       "  )\n",
       ")"
      ]
     },
     "execution_count": 3,
     "metadata": {},
     "output_type": "execute_result"
    }
   ],
   "source": [
    "model = build_model(config)\n",
    "weight_path = os.path.join(config.weight_dir, config.weight_name + \".pth\")\n",
    "if os.path.exists(weight_path):\n",
    "    logger.info(f\"Loading pretrained weights from {weight_path}\")\n",
    "    model.load_state_dict(torch.load(weight_path, map_location='cpu'), strict=False)\n",
    "else:\n",
    "    logger.warning(f\"Pretrained weights not found at {weight_path}\")\n",
    "    exit(0)    \n",
    "\n",
    "model.eval()\n",
    "model.to(device)    "
   ]
  },
  {
   "cell_type": "code",
   "execution_count": 4,
   "id": "86bf4729",
   "metadata": {},
   "outputs": [],
   "source": [
    "from tqdm import tqdm\n",
    "def measure(model, root_dir, log_dir, config, device):\n",
    "    transform_base = transforms.Compose([\n",
    "            transforms.ToTensor(), \n",
    "            transforms.Normalize(mean=[0.5], std=[0.5])\n",
    "    ])      \n",
    "    img_dir = os.path.join(root_dir, 'img')\n",
    "    csv_path = os.path.join(root_dir, 'data', 'trajectory.csv')\n",
    "    df = pd.read_csv(csv_path)\n",
    "    image_files = sorted([f for f in os.listdir(img_dir) if f.endswith('_pos.png')])\n",
    "    num_timestamps = len(image_files)\n",
    "    vx_results = np.full((num_timestamps, num_timestamps), np.nan)\n",
    "    vy_results = np.full((num_timestamps, num_timestamps), np.nan)\n",
    "    vz_results = np.full((num_timestamps, num_timestamps), np.nan)\n",
    "    num_windows = num_timestamps - config.max_seq_len + 1\n",
    "    for i in tqdm(range(num_windows), desc=\"Measuring\"):\n",
    "        pos_images = []\n",
    "        neg_images = []\n",
    "        traj_list = []\n",
    "        for j in range(config.max_seq_len):\n",
    "            frame_idx = i + j\n",
    "            frame_name = str(frame_idx).zfill(4)\n",
    "            pos_image_path = os.path.join(img_dir, f'{frame_name}_pos.png')\n",
    "            neg_image_path = os.path.join(img_dir, f'{frame_name}_neg.png')\n",
    "            pos_image = Image.open(pos_image_path).convert('L')\n",
    "            neg_image = Image.open(neg_image_path).convert('L')\n",
    "            pos_image = transform_base(pos_image)\n",
    "            neg_image = transform_base(neg_image)\n",
    "            pos_images.append(pos_image)\n",
    "            neg_images.append(neg_image)\n",
    "            data = df.iloc[frame_idx, -7:].to_numpy()\n",
    "            data_tensor = torch.tensor(data).float()\n",
    "            traj_list.append(data_tensor)\n",
    "            \n",
    "            # It selects the last 7 columns of the dataframe row at index frame_idx\n",
    "            \n",
    "        x_pos_seq = torch.stack(pos_images) \n",
    "        x_neg_seq = torch.stack(neg_images)        \n",
    "        x_seq = torch.cat([x_pos_seq, x_neg_seq], dim=1).unsqueeze(0)\n",
    "        traj_seq = torch.stack(traj_list).unsqueeze(0)\n",
    "\n",
    "        x_seq = x_seq.to(device)\n",
    "        traj_seq = traj_seq.to(device)\n",
    "\n",
    "        with torch.no_grad():\n",
    "            output = model(x_seq, traj_seq)\n",
    "\n",
    "        velocities = output[0].detach().cpu().numpy()\n",
    "        vx_results[i, i : i + config.max_seq_len] = velocities[:, 0]\n",
    "        vy_results[i, i : i + config.max_seq_len] = velocities[:, 1]\n",
    "        vz_results[i, i : i + config.max_seq_len] = velocities[:, 2]\n",
    "        \n",
    "    os.makedirs(log_dir, exist_ok=True)\n",
    "    pd.DataFrame(vx_results).to_csv(os.path.join(log_dir, 'predicted_vx.csv'), index=False, header=False)\n",
    "    pd.DataFrame(vy_results).to_csv(os.path.join(log_dir, 'predicted_vy.csv'), index=False, header=False)\n",
    "    pd.DataFrame(vz_results).to_csv(os.path.join(log_dir, 'predicted_vz.csv'), index=False, header=False)\n",
    "    \n",
    "    print(f\"Measurement finished. Predicted velocity matrices saved in {log_dir}\")\n"
   ]
  },
  {
   "cell_type": "code",
   "execution_count": 5,
   "id": "67ac4861",
   "metadata": {},
   "outputs": [],
   "source": [
    "def analyze_results(log_dir):\n",
    "\n",
    "    print(\"Analyzing prediction matrices...\")\n",
    "    \n",
    "    try:\n",
    "        vx_df = pd.read_csv(os.path.join(log_dir, 'predicted_vx.csv'), header=None)\n",
    "        vy_df = pd.read_csv(os.path.join(log_dir, 'predicted_vy.csv'), header=None)\n",
    "        vz_df = pd.read_csv(os.path.join(log_dir, 'predicted_vz.csv'), header=None)\n",
    "    except FileNotFoundError:\n",
    "        print(f\"Prediction files not found in {log_dir}. Please run measure() first.\")\n",
    "        return\n",
    "\n",
    "    # --- 核心计算：对每一列求平均值 ---\n",
    "    # axis=0 表示沿着列的方向操作。pandas会自动忽略NaN。\n",
    "\n",
    "    original_cols_indices = [k for k in range(120)]\n",
    "    vx_df_original = vx_df.iloc[:, original_cols_indices]\n",
    "    vy_df_original = vy_df.iloc[:, original_cols_indices]\n",
    "    vz_df_original = vz_df.iloc[:, original_cols_indices]\n",
    "\n",
    "    final_vx = vx_df_original.mean(axis=0)\n",
    "    final_vy = vy_df_original.mean(axis=0)\n",
    "    final_vz = vz_df_original.mean(axis=0)\n",
    "\n",
    "    # --- 组合成最终的轨迹DataFrame ---\n",
    "    final_trajectory_df = pd.DataFrame({\n",
    "        'vx_final': final_vx,\n",
    "        'vy_final': final_vy,\n",
    "        'vz_final': final_vz\n",
    "    })\n",
    "\n",
    "    # --- 保存最终结果 ---\n",
    "    output_path = os.path.join(log_dir, 'final_estimated_velocity.csv')\n",
    "    final_trajectory_df.to_csv(output_path, index_label='timestamp_idx')\n",
    "    \n",
    "    print(f\"Final estimated velocity trajectory saved to {output_path}\")\n"
   ]
  },
  {
   "cell_type": "code",
   "execution_count": 7,
   "id": "f53b5432",
   "metadata": {},
   "outputs": [
    {
     "name": "stderr",
     "output_type": "stream",
     "text": [
      "Measuring: 100%|██████████| 115/115 [00:04<00:00, 27.87it/s]\n"
     ]
    },
    {
     "name": "stdout",
     "output_type": "stream",
     "text": [
      "Measurement finished. Predicted velocity matrices saved in ./log/testv2/0028_1\n"
     ]
    },
    {
     "name": "stderr",
     "output_type": "stream",
     "text": [
      "Measuring: 100%|██████████| 115/115 [00:03<00:00, 31.31it/s]\n"
     ]
    },
    {
     "name": "stdout",
     "output_type": "stream",
     "text": [
      "Measurement finished. Predicted velocity matrices saved in ./log/testv2/0029_1\n"
     ]
    },
    {
     "name": "stderr",
     "output_type": "stream",
     "text": [
      "Measuring: 100%|██████████| 115/115 [00:03<00:00, 31.01it/s]\n"
     ]
    },
    {
     "name": "stdout",
     "output_type": "stream",
     "text": [
      "Measurement finished. Predicted velocity matrices saved in ./log/testv2/0030_1\n"
     ]
    },
    {
     "name": "stderr",
     "output_type": "stream",
     "text": [
      "Measuring: 100%|██████████| 115/115 [00:03<00:00, 29.56it/s]\n"
     ]
    },
    {
     "name": "stdout",
     "output_type": "stream",
     "text": [
      "Measurement finished. Predicted velocity matrices saved in ./log/testv2/0031_1\n"
     ]
    },
    {
     "name": "stderr",
     "output_type": "stream",
     "text": [
      "Measuring: 100%|██████████| 115/115 [00:03<00:00, 31.09it/s]\n"
     ]
    },
    {
     "name": "stdout",
     "output_type": "stream",
     "text": [
      "Measurement finished. Predicted velocity matrices saved in ./log/testv2/0032_1\n"
     ]
    },
    {
     "name": "stderr",
     "output_type": "stream",
     "text": [
      "Measuring: 100%|██████████| 115/115 [00:03<00:00, 30.92it/s]\n"
     ]
    },
    {
     "name": "stdout",
     "output_type": "stream",
     "text": [
      "Measurement finished. Predicted velocity matrices saved in ./log/testv2/0033_1\n"
     ]
    },
    {
     "name": "stderr",
     "output_type": "stream",
     "text": [
      "Measuring: 100%|██████████| 115/115 [00:03<00:00, 30.60it/s]\n"
     ]
    },
    {
     "name": "stdout",
     "output_type": "stream",
     "text": [
      "Measurement finished. Predicted velocity matrices saved in ./log/testv2/0034_1\n"
     ]
    },
    {
     "name": "stderr",
     "output_type": "stream",
     "text": [
      "Measuring: 100%|██████████| 115/115 [00:03<00:00, 30.84it/s]\n"
     ]
    },
    {
     "name": "stdout",
     "output_type": "stream",
     "text": [
      "Measurement finished. Predicted velocity matrices saved in ./log/testv2/0035_1\n"
     ]
    },
    {
     "name": "stderr",
     "output_type": "stream",
     "text": [
      "Measuring: 100%|██████████| 115/115 [00:03<00:00, 30.21it/s]\n"
     ]
    },
    {
     "name": "stdout",
     "output_type": "stream",
     "text": [
      "Measurement finished. Predicted velocity matrices saved in ./log/testv2/0036_1\n"
     ]
    },
    {
     "name": "stderr",
     "output_type": "stream",
     "text": [
      "Measuring: 100%|██████████| 115/115 [00:03<00:00, 31.17it/s]\n"
     ]
    },
    {
     "name": "stdout",
     "output_type": "stream",
     "text": [
      "Measurement finished. Predicted velocity matrices saved in ./log/testv2/0037_1\n"
     ]
    },
    {
     "name": "stderr",
     "output_type": "stream",
     "text": [
      "Measuring: 100%|██████████| 115/115 [00:03<00:00, 31.06it/s]\n"
     ]
    },
    {
     "name": "stdout",
     "output_type": "stream",
     "text": [
      "Measurement finished. Predicted velocity matrices saved in ./log/testv2/0038_1\n"
     ]
    },
    {
     "name": "stderr",
     "output_type": "stream",
     "text": [
      "Measuring: 100%|██████████| 115/115 [00:03<00:00, 30.92it/s]\n"
     ]
    },
    {
     "name": "stdout",
     "output_type": "stream",
     "text": [
      "Measurement finished. Predicted velocity matrices saved in ./log/testv2/0039_1\n"
     ]
    },
    {
     "name": "stderr",
     "output_type": "stream",
     "text": [
      "Measuring: 100%|██████████| 115/115 [00:03<00:00, 30.33it/s]\n"
     ]
    },
    {
     "name": "stdout",
     "output_type": "stream",
     "text": [
      "Measurement finished. Predicted velocity matrices saved in ./log/testv2/0040_1\n"
     ]
    },
    {
     "name": "stderr",
     "output_type": "stream",
     "text": [
      "Measuring: 100%|██████████| 115/115 [00:03<00:00, 31.09it/s]\n"
     ]
    },
    {
     "name": "stdout",
     "output_type": "stream",
     "text": [
      "Measurement finished. Predicted velocity matrices saved in ./log/testv2/0041_1\n"
     ]
    },
    {
     "name": "stderr",
     "output_type": "stream",
     "text": [
      "Measuring: 100%|██████████| 115/115 [00:03<00:00, 29.57it/s]\n"
     ]
    },
    {
     "name": "stdout",
     "output_type": "stream",
     "text": [
      "Measurement finished. Predicted velocity matrices saved in ./log/testv2/0042_1\n"
     ]
    },
    {
     "name": "stderr",
     "output_type": "stream",
     "text": [
      "Measuring: 100%|██████████| 115/115 [00:03<00:00, 31.10it/s]\n"
     ]
    },
    {
     "name": "stdout",
     "output_type": "stream",
     "text": [
      "Measurement finished. Predicted velocity matrices saved in ./log/testv2/0043_1\n"
     ]
    },
    {
     "name": "stderr",
     "output_type": "stream",
     "text": [
      "Measuring: 100%|██████████| 115/115 [00:03<00:00, 29.64it/s]\n"
     ]
    },
    {
     "name": "stdout",
     "output_type": "stream",
     "text": [
      "Measurement finished. Predicted velocity matrices saved in ./log/testv2/0044_1\n"
     ]
    },
    {
     "name": "stderr",
     "output_type": "stream",
     "text": [
      "Measuring: 100%|██████████| 115/115 [00:03<00:00, 31.10it/s]\n"
     ]
    },
    {
     "name": "stdout",
     "output_type": "stream",
     "text": [
      "Measurement finished. Predicted velocity matrices saved in ./log/testv2/0045_1\n"
     ]
    },
    {
     "name": "stderr",
     "output_type": "stream",
     "text": [
      "Measuring: 100%|██████████| 115/115 [00:03<00:00, 31.05it/s]\n"
     ]
    },
    {
     "name": "stdout",
     "output_type": "stream",
     "text": [
      "Measurement finished. Predicted velocity matrices saved in ./log/testv2/0046_1\n"
     ]
    },
    {
     "name": "stderr",
     "output_type": "stream",
     "text": [
      "Measuring: 100%|██████████| 115/115 [00:03<00:00, 29.15it/s]\n"
     ]
    },
    {
     "name": "stdout",
     "output_type": "stream",
     "text": [
      "Measurement finished. Predicted velocity matrices saved in ./log/testv2/0047_1\n"
     ]
    },
    {
     "name": "stderr",
     "output_type": "stream",
     "text": [
      "Measuring: 100%|██████████| 115/115 [00:03<00:00, 30.82it/s]\n"
     ]
    },
    {
     "name": "stdout",
     "output_type": "stream",
     "text": [
      "Measurement finished. Predicted velocity matrices saved in ./log/testv2/0048_1\n"
     ]
    },
    {
     "name": "stderr",
     "output_type": "stream",
     "text": [
      "Measuring: 100%|██████████| 115/115 [00:03<00:00, 30.13it/s]\n"
     ]
    },
    {
     "name": "stdout",
     "output_type": "stream",
     "text": [
      "Measurement finished. Predicted velocity matrices saved in ./log/testv2/0049_1\n"
     ]
    },
    {
     "name": "stderr",
     "output_type": "stream",
     "text": [
      "Measuring: 100%|██████████| 115/115 [00:03<00:00, 30.92it/s]\n"
     ]
    },
    {
     "name": "stdout",
     "output_type": "stream",
     "text": [
      "Measurement finished. Predicted velocity matrices saved in ./log/testv2/0050_1\n"
     ]
    },
    {
     "name": "stderr",
     "output_type": "stream",
     "text": [
      "Measuring: 100%|██████████| 115/115 [00:03<00:00, 29.02it/s]\n"
     ]
    },
    {
     "name": "stdout",
     "output_type": "stream",
     "text": [
      "Measurement finished. Predicted velocity matrices saved in ./log/testv2/0051_1\n"
     ]
    },
    {
     "name": "stderr",
     "output_type": "stream",
     "text": [
      "Measuring: 100%|██████████| 115/115 [00:03<00:00, 30.40it/s]\n"
     ]
    },
    {
     "name": "stdout",
     "output_type": "stream",
     "text": [
      "Measurement finished. Predicted velocity matrices saved in ./log/testv2/0052_1\n"
     ]
    },
    {
     "name": "stderr",
     "output_type": "stream",
     "text": [
      "Measuring: 100%|██████████| 115/115 [00:03<00:00, 29.73it/s]\n"
     ]
    },
    {
     "name": "stdout",
     "output_type": "stream",
     "text": [
      "Measurement finished. Predicted velocity matrices saved in ./log/testv2/0053_1\n"
     ]
    },
    {
     "name": "stderr",
     "output_type": "stream",
     "text": [
      "Measuring: 100%|██████████| 115/115 [00:03<00:00, 30.60it/s]\n"
     ]
    },
    {
     "name": "stdout",
     "output_type": "stream",
     "text": [
      "Measurement finished. Predicted velocity matrices saved in ./log/testv2/0054_1\n"
     ]
    },
    {
     "name": "stderr",
     "output_type": "stream",
     "text": [
      "Measuring: 100%|██████████| 115/115 [00:03<00:00, 29.89it/s]\n"
     ]
    },
    {
     "name": "stdout",
     "output_type": "stream",
     "text": [
      "Measurement finished. Predicted velocity matrices saved in ./log/testv2/0055_1\n"
     ]
    },
    {
     "name": "stderr",
     "output_type": "stream",
     "text": [
      "Measuring: 100%|██████████| 115/115 [00:03<00:00, 30.84it/s]\n"
     ]
    },
    {
     "name": "stdout",
     "output_type": "stream",
     "text": [
      "Measurement finished. Predicted velocity matrices saved in ./log/testv2/0056_1\n"
     ]
    },
    {
     "name": "stderr",
     "output_type": "stream",
     "text": [
      "Measuring: 100%|██████████| 115/115 [00:03<00:00, 31.27it/s]\n"
     ]
    },
    {
     "name": "stdout",
     "output_type": "stream",
     "text": [
      "Measurement finished. Predicted velocity matrices saved in ./log/testv2/0057_1\n"
     ]
    },
    {
     "name": "stderr",
     "output_type": "stream",
     "text": [
      "Measuring: 100%|██████████| 115/115 [00:03<00:00, 29.37it/s]\n"
     ]
    },
    {
     "name": "stdout",
     "output_type": "stream",
     "text": [
      "Measurement finished. Predicted velocity matrices saved in ./log/testv2/0058_1\n"
     ]
    },
    {
     "name": "stderr",
     "output_type": "stream",
     "text": [
      "Measuring: 100%|██████████| 115/115 [00:03<00:00, 30.48it/s]\n"
     ]
    },
    {
     "name": "stdout",
     "output_type": "stream",
     "text": [
      "Measurement finished. Predicted velocity matrices saved in ./log/testv2/0059_1\n"
     ]
    },
    {
     "name": "stderr",
     "output_type": "stream",
     "text": [
      "Measuring: 100%|██████████| 115/115 [00:03<00:00, 30.94it/s]\n"
     ]
    },
    {
     "name": "stdout",
     "output_type": "stream",
     "text": [
      "Measurement finished. Predicted velocity matrices saved in ./log/testv2/0060_1\n"
     ]
    },
    {
     "name": "stderr",
     "output_type": "stream",
     "text": [
      "Measuring: 100%|██████████| 115/115 [00:03<00:00, 30.01it/s]\n"
     ]
    },
    {
     "name": "stdout",
     "output_type": "stream",
     "text": [
      "Measurement finished. Predicted velocity matrices saved in ./log/testv2/0061_1\n"
     ]
    },
    {
     "name": "stderr",
     "output_type": "stream",
     "text": [
      "Measuring: 100%|██████████| 115/115 [00:03<00:00, 29.35it/s]\n"
     ]
    },
    {
     "name": "stdout",
     "output_type": "stream",
     "text": [
      "Measurement finished. Predicted velocity matrices saved in ./log/testv2/0062_1\n"
     ]
    },
    {
     "name": "stderr",
     "output_type": "stream",
     "text": [
      "Measuring: 100%|██████████| 115/115 [00:03<00:00, 30.32it/s]\n"
     ]
    },
    {
     "name": "stdout",
     "output_type": "stream",
     "text": [
      "Measurement finished. Predicted velocity matrices saved in ./log/testv2/0063_1\n"
     ]
    },
    {
     "name": "stderr",
     "output_type": "stream",
     "text": [
      "Measuring: 100%|██████████| 115/115 [00:03<00:00, 30.17it/s]\n"
     ]
    },
    {
     "name": "stdout",
     "output_type": "stream",
     "text": [
      "Measurement finished. Predicted velocity matrices saved in ./log/testv2/0064_1\n"
     ]
    },
    {
     "name": "stderr",
     "output_type": "stream",
     "text": [
      "Measuring: 100%|██████████| 115/115 [00:03<00:00, 31.16it/s]\n"
     ]
    },
    {
     "name": "stdout",
     "output_type": "stream",
     "text": [
      "Measurement finished. Predicted velocity matrices saved in ./log/testv2/0065_1\n"
     ]
    },
    {
     "name": "stderr",
     "output_type": "stream",
     "text": [
      "Measuring: 100%|██████████| 115/115 [00:03<00:00, 28.81it/s]\n"
     ]
    },
    {
     "name": "stdout",
     "output_type": "stream",
     "text": [
      "Measurement finished. Predicted velocity matrices saved in ./log/testv2/0066_1\n"
     ]
    },
    {
     "name": "stderr",
     "output_type": "stream",
     "text": [
      "Measuring: 100%|██████████| 115/115 [00:03<00:00, 29.25it/s]\n"
     ]
    },
    {
     "name": "stdout",
     "output_type": "stream",
     "text": [
      "Measurement finished. Predicted velocity matrices saved in ./log/testv2/0067_1\n"
     ]
    },
    {
     "name": "stderr",
     "output_type": "stream",
     "text": [
      "Measuring: 100%|██████████| 115/115 [00:03<00:00, 30.47it/s]\n"
     ]
    },
    {
     "name": "stdout",
     "output_type": "stream",
     "text": [
      "Measurement finished. Predicted velocity matrices saved in ./log/testv2/0068_1\n"
     ]
    },
    {
     "name": "stderr",
     "output_type": "stream",
     "text": [
      "Measuring: 100%|██████████| 115/115 [00:03<00:00, 31.21it/s]\n"
     ]
    },
    {
     "name": "stdout",
     "output_type": "stream",
     "text": [
      "Measurement finished. Predicted velocity matrices saved in ./log/testv2/0069_1\n"
     ]
    },
    {
     "name": "stderr",
     "output_type": "stream",
     "text": [
      "Measuring: 100%|██████████| 115/115 [00:03<00:00, 30.47it/s]\n"
     ]
    },
    {
     "name": "stdout",
     "output_type": "stream",
     "text": [
      "Measurement finished. Predicted velocity matrices saved in ./log/testv2/0070_1\n"
     ]
    },
    {
     "name": "stderr",
     "output_type": "stream",
     "text": [
      "Measuring: 100%|██████████| 115/115 [00:03<00:00, 30.35it/s]\n"
     ]
    },
    {
     "name": "stdout",
     "output_type": "stream",
     "text": [
      "Measurement finished. Predicted velocity matrices saved in ./log/testv2/0071_1\n"
     ]
    },
    {
     "name": "stderr",
     "output_type": "stream",
     "text": [
      "Measuring: 100%|██████████| 115/115 [00:03<00:00, 30.56it/s]\n"
     ]
    },
    {
     "name": "stdout",
     "output_type": "stream",
     "text": [
      "Measurement finished. Predicted velocity matrices saved in ./log/testv2/0072_1\n"
     ]
    },
    {
     "name": "stderr",
     "output_type": "stream",
     "text": [
      "Measuring: 100%|██████████| 115/115 [00:03<00:00, 29.50it/s]\n"
     ]
    },
    {
     "name": "stdout",
     "output_type": "stream",
     "text": [
      "Measurement finished. Predicted velocity matrices saved in ./log/testv2/0073_1\n"
     ]
    },
    {
     "name": "stderr",
     "output_type": "stream",
     "text": [
      "Measuring: 100%|██████████| 115/115 [00:03<00:00, 29.26it/s]\n"
     ]
    },
    {
     "name": "stdout",
     "output_type": "stream",
     "text": [
      "Measurement finished. Predicted velocity matrices saved in ./log/testv2/0074_1\n"
     ]
    },
    {
     "name": "stderr",
     "output_type": "stream",
     "text": [
      "Measuring: 100%|██████████| 115/115 [00:03<00:00, 30.81it/s]\n"
     ]
    },
    {
     "name": "stdout",
     "output_type": "stream",
     "text": [
      "Measurement finished. Predicted velocity matrices saved in ./log/testv2/0075_1\n"
     ]
    },
    {
     "name": "stderr",
     "output_type": "stream",
     "text": [
      "Measuring: 100%|██████████| 115/115 [00:03<00:00, 31.22it/s]\n"
     ]
    },
    {
     "name": "stdout",
     "output_type": "stream",
     "text": [
      "Measurement finished. Predicted velocity matrices saved in ./log/testv2/0076_1\n"
     ]
    },
    {
     "name": "stderr",
     "output_type": "stream",
     "text": [
      "Measuring: 100%|██████████| 115/115 [00:03<00:00, 30.42it/s]\n"
     ]
    },
    {
     "name": "stdout",
     "output_type": "stream",
     "text": [
      "Measurement finished. Predicted velocity matrices saved in ./log/testv2/0077_1\n"
     ]
    },
    {
     "name": "stderr",
     "output_type": "stream",
     "text": [
      "Measuring: 100%|██████████| 115/115 [00:03<00:00, 30.38it/s]\n"
     ]
    },
    {
     "name": "stdout",
     "output_type": "stream",
     "text": [
      "Measurement finished. Predicted velocity matrices saved in ./log/testv2/0078_1\n"
     ]
    },
    {
     "name": "stderr",
     "output_type": "stream",
     "text": [
      "Measuring: 100%|██████████| 115/115 [00:03<00:00, 31.17it/s]\n"
     ]
    },
    {
     "name": "stdout",
     "output_type": "stream",
     "text": [
      "Measurement finished. Predicted velocity matrices saved in ./log/testv2/0079_1\n"
     ]
    },
    {
     "name": "stderr",
     "output_type": "stream",
     "text": [
      "Measuring: 100%|██████████| 115/115 [00:03<00:00, 30.93it/s]\n"
     ]
    },
    {
     "name": "stdout",
     "output_type": "stream",
     "text": [
      "Measurement finished. Predicted velocity matrices saved in ./log/testv2/0080_1\n"
     ]
    },
    {
     "name": "stderr",
     "output_type": "stream",
     "text": [
      "Measuring: 100%|██████████| 115/115 [00:03<00:00, 30.75it/s]\n"
     ]
    },
    {
     "name": "stdout",
     "output_type": "stream",
     "text": [
      "Measurement finished. Predicted velocity matrices saved in ./log/testv2/0081_1\n"
     ]
    },
    {
     "name": "stderr",
     "output_type": "stream",
     "text": [
      "Measuring: 100%|██████████| 115/115 [00:03<00:00, 29.59it/s]\n"
     ]
    },
    {
     "name": "stdout",
     "output_type": "stream",
     "text": [
      "Measurement finished. Predicted velocity matrices saved in ./log/testv2/0082_1\n"
     ]
    },
    {
     "name": "stderr",
     "output_type": "stream",
     "text": [
      "Measuring: 100%|██████████| 115/115 [00:03<00:00, 30.57it/s]\n"
     ]
    },
    {
     "name": "stdout",
     "output_type": "stream",
     "text": [
      "Measurement finished. Predicted velocity matrices saved in ./log/testv2/0083_1\n"
     ]
    },
    {
     "name": "stderr",
     "output_type": "stream",
     "text": [
      "Measuring: 100%|██████████| 115/115 [00:03<00:00, 30.08it/s]\n"
     ]
    },
    {
     "name": "stdout",
     "output_type": "stream",
     "text": [
      "Measurement finished. Predicted velocity matrices saved in ./log/testv2/0084_1\n"
     ]
    },
    {
     "name": "stderr",
     "output_type": "stream",
     "text": [
      "Measuring: 100%|██████████| 115/115 [00:03<00:00, 30.91it/s]\n"
     ]
    },
    {
     "name": "stdout",
     "output_type": "stream",
     "text": [
      "Measurement finished. Predicted velocity matrices saved in ./log/testv2/0085_1\n"
     ]
    },
    {
     "name": "stderr",
     "output_type": "stream",
     "text": [
      "Measuring: 100%|██████████| 115/115 [00:03<00:00, 30.75it/s]\n"
     ]
    },
    {
     "name": "stdout",
     "output_type": "stream",
     "text": [
      "Measurement finished. Predicted velocity matrices saved in ./log/testv2/0086_1\n"
     ]
    },
    {
     "name": "stderr",
     "output_type": "stream",
     "text": [
      "Measuring: 100%|██████████| 115/115 [00:03<00:00, 28.78it/s]\n"
     ]
    },
    {
     "name": "stdout",
     "output_type": "stream",
     "text": [
      "Measurement finished. Predicted velocity matrices saved in ./log/testv2/0087_1\n"
     ]
    },
    {
     "name": "stderr",
     "output_type": "stream",
     "text": [
      "Measuring: 100%|██████████| 115/115 [00:03<00:00, 31.00it/s]\n"
     ]
    },
    {
     "name": "stdout",
     "output_type": "stream",
     "text": [
      "Measurement finished. Predicted velocity matrices saved in ./log/testv2/0088_1\n"
     ]
    },
    {
     "name": "stderr",
     "output_type": "stream",
     "text": [
      "Measuring: 100%|██████████| 115/115 [00:03<00:00, 30.56it/s]\n"
     ]
    },
    {
     "name": "stdout",
     "output_type": "stream",
     "text": [
      "Measurement finished. Predicted velocity matrices saved in ./log/testv2/0089_1\n"
     ]
    },
    {
     "name": "stderr",
     "output_type": "stream",
     "text": [
      "Measuring: 100%|██████████| 115/115 [00:03<00:00, 29.54it/s]\n"
     ]
    },
    {
     "name": "stdout",
     "output_type": "stream",
     "text": [
      "Measurement finished. Predicted velocity matrices saved in ./log/testv2/0090_1\n"
     ]
    },
    {
     "name": "stderr",
     "output_type": "stream",
     "text": [
      "Measuring: 100%|██████████| 115/115 [00:03<00:00, 30.12it/s]\n"
     ]
    },
    {
     "name": "stdout",
     "output_type": "stream",
     "text": [
      "Measurement finished. Predicted velocity matrices saved in ./log/testv2/0091_1\n"
     ]
    },
    {
     "name": "stderr",
     "output_type": "stream",
     "text": [
      "Measuring: 100%|██████████| 115/115 [00:03<00:00, 30.11it/s]"
     ]
    },
    {
     "name": "stdout",
     "output_type": "stream",
     "text": [
      "Measurement finished. Predicted velocity matrices saved in ./log/testv2/0092_1\n"
     ]
    },
    {
     "name": "stderr",
     "output_type": "stream",
     "text": [
      "\n"
     ]
    }
   ],
   "source": [
    "for idx in range(28, 93):\n",
    "    root_dir = f'./dataset/testv2/{idx:04d}_1'\n",
    "    log_dir = f'./log/testv2/{idx:04d}_1'\n",
    "    measure(model, root_dir, log_dir, config, device)"
   ]
  },
  {
   "cell_type": "code",
   "execution_count": 9,
   "id": "4342f5a0",
   "metadata": {},
   "outputs": [
    {
     "name": "stdout",
     "output_type": "stream",
     "text": [
      "Analyzing prediction matrices...\n",
      "Final estimated velocity trajectory saved to ./log/testv2/0028_1/final_estimated_velocity.csv\n",
      "Analyzing prediction matrices...\n",
      "Final estimated velocity trajectory saved to ./log/testv2/0029_1/final_estimated_velocity.csv\n",
      "Analyzing prediction matrices...\n",
      "Final estimated velocity trajectory saved to ./log/testv2/0030_1/final_estimated_velocity.csv\n",
      "Analyzing prediction matrices...\n",
      "Final estimated velocity trajectory saved to ./log/testv2/0031_1/final_estimated_velocity.csv\n",
      "Analyzing prediction matrices...\n",
      "Final estimated velocity trajectory saved to ./log/testv2/0032_1/final_estimated_velocity.csv\n",
      "Analyzing prediction matrices...\n",
      "Final estimated velocity trajectory saved to ./log/testv2/0033_1/final_estimated_velocity.csv\n",
      "Analyzing prediction matrices...\n",
      "Final estimated velocity trajectory saved to ./log/testv2/0034_1/final_estimated_velocity.csv\n",
      "Analyzing prediction matrices...\n",
      "Final estimated velocity trajectory saved to ./log/testv2/0035_1/final_estimated_velocity.csv\n",
      "Analyzing prediction matrices...\n",
      "Final estimated velocity trajectory saved to ./log/testv2/0036_1/final_estimated_velocity.csv\n",
      "Analyzing prediction matrices...\n",
      "Final estimated velocity trajectory saved to ./log/testv2/0037_1/final_estimated_velocity.csv\n",
      "Analyzing prediction matrices...\n",
      "Final estimated velocity trajectory saved to ./log/testv2/0038_1/final_estimated_velocity.csv\n",
      "Analyzing prediction matrices...\n",
      "Final estimated velocity trajectory saved to ./log/testv2/0039_1/final_estimated_velocity.csv\n",
      "Analyzing prediction matrices...\n",
      "Final estimated velocity trajectory saved to ./log/testv2/0040_1/final_estimated_velocity.csv\n",
      "Analyzing prediction matrices...\n",
      "Final estimated velocity trajectory saved to ./log/testv2/0041_1/final_estimated_velocity.csv\n",
      "Analyzing prediction matrices...\n",
      "Final estimated velocity trajectory saved to ./log/testv2/0042_1/final_estimated_velocity.csv\n",
      "Analyzing prediction matrices...\n",
      "Final estimated velocity trajectory saved to ./log/testv2/0043_1/final_estimated_velocity.csv\n",
      "Analyzing prediction matrices...\n",
      "Final estimated velocity trajectory saved to ./log/testv2/0044_1/final_estimated_velocity.csv\n",
      "Analyzing prediction matrices...\n",
      "Final estimated velocity trajectory saved to ./log/testv2/0045_1/final_estimated_velocity.csv\n",
      "Analyzing prediction matrices...\n",
      "Final estimated velocity trajectory saved to ./log/testv2/0046_1/final_estimated_velocity.csv\n",
      "Analyzing prediction matrices...\n",
      "Final estimated velocity trajectory saved to ./log/testv2/0047_1/final_estimated_velocity.csv\n",
      "Analyzing prediction matrices...\n",
      "Final estimated velocity trajectory saved to ./log/testv2/0048_1/final_estimated_velocity.csv\n",
      "Analyzing prediction matrices...\n",
      "Final estimated velocity trajectory saved to ./log/testv2/0049_1/final_estimated_velocity.csv\n",
      "Analyzing prediction matrices...\n",
      "Final estimated velocity trajectory saved to ./log/testv2/0050_1/final_estimated_velocity.csv\n",
      "Analyzing prediction matrices...\n",
      "Final estimated velocity trajectory saved to ./log/testv2/0051_1/final_estimated_velocity.csv\n",
      "Analyzing prediction matrices...\n",
      "Final estimated velocity trajectory saved to ./log/testv2/0052_1/final_estimated_velocity.csv\n",
      "Analyzing prediction matrices...\n",
      "Final estimated velocity trajectory saved to ./log/testv2/0053_1/final_estimated_velocity.csv\n",
      "Analyzing prediction matrices...\n",
      "Final estimated velocity trajectory saved to ./log/testv2/0054_1/final_estimated_velocity.csv\n",
      "Analyzing prediction matrices...\n",
      "Final estimated velocity trajectory saved to ./log/testv2/0055_1/final_estimated_velocity.csv\n",
      "Analyzing prediction matrices...\n",
      "Final estimated velocity trajectory saved to ./log/testv2/0056_1/final_estimated_velocity.csv\n",
      "Analyzing prediction matrices...\n",
      "Final estimated velocity trajectory saved to ./log/testv2/0057_1/final_estimated_velocity.csv\n",
      "Analyzing prediction matrices...\n",
      "Final estimated velocity trajectory saved to ./log/testv2/0058_1/final_estimated_velocity.csv\n",
      "Analyzing prediction matrices...\n",
      "Final estimated velocity trajectory saved to ./log/testv2/0059_1/final_estimated_velocity.csv\n",
      "Analyzing prediction matrices...\n",
      "Final estimated velocity trajectory saved to ./log/testv2/0060_1/final_estimated_velocity.csv\n",
      "Analyzing prediction matrices...\n",
      "Final estimated velocity trajectory saved to ./log/testv2/0061_1/final_estimated_velocity.csv\n",
      "Analyzing prediction matrices...\n",
      "Final estimated velocity trajectory saved to ./log/testv2/0062_1/final_estimated_velocity.csv\n",
      "Analyzing prediction matrices...\n",
      "Final estimated velocity trajectory saved to ./log/testv2/0063_1/final_estimated_velocity.csv\n",
      "Analyzing prediction matrices...\n",
      "Final estimated velocity trajectory saved to ./log/testv2/0064_1/final_estimated_velocity.csv\n",
      "Analyzing prediction matrices...\n",
      "Final estimated velocity trajectory saved to ./log/testv2/0065_1/final_estimated_velocity.csv\n",
      "Analyzing prediction matrices...\n",
      "Final estimated velocity trajectory saved to ./log/testv2/0066_1/final_estimated_velocity.csv\n",
      "Analyzing prediction matrices...\n",
      "Final estimated velocity trajectory saved to ./log/testv2/0067_1/final_estimated_velocity.csv\n",
      "Analyzing prediction matrices...\n",
      "Final estimated velocity trajectory saved to ./log/testv2/0068_1/final_estimated_velocity.csv\n",
      "Analyzing prediction matrices...\n",
      "Final estimated velocity trajectory saved to ./log/testv2/0069_1/final_estimated_velocity.csv\n",
      "Analyzing prediction matrices...\n",
      "Final estimated velocity trajectory saved to ./log/testv2/0070_1/final_estimated_velocity.csv\n",
      "Analyzing prediction matrices...\n",
      "Final estimated velocity trajectory saved to ./log/testv2/0071_1/final_estimated_velocity.csv\n",
      "Analyzing prediction matrices...\n",
      "Final estimated velocity trajectory saved to ./log/testv2/0072_1/final_estimated_velocity.csv\n",
      "Analyzing prediction matrices...\n",
      "Final estimated velocity trajectory saved to ./log/testv2/0073_1/final_estimated_velocity.csv\n",
      "Analyzing prediction matrices...\n",
      "Final estimated velocity trajectory saved to ./log/testv2/0074_1/final_estimated_velocity.csv\n",
      "Analyzing prediction matrices...\n",
      "Final estimated velocity trajectory saved to ./log/testv2/0075_1/final_estimated_velocity.csv\n",
      "Analyzing prediction matrices...\n",
      "Final estimated velocity trajectory saved to ./log/testv2/0076_1/final_estimated_velocity.csv\n",
      "Analyzing prediction matrices...\n",
      "Final estimated velocity trajectory saved to ./log/testv2/0077_1/final_estimated_velocity.csv\n",
      "Analyzing prediction matrices...\n",
      "Final estimated velocity trajectory saved to ./log/testv2/0078_1/final_estimated_velocity.csv\n",
      "Analyzing prediction matrices...\n",
      "Final estimated velocity trajectory saved to ./log/testv2/0079_1/final_estimated_velocity.csv\n",
      "Analyzing prediction matrices...\n",
      "Final estimated velocity trajectory saved to ./log/testv2/0080_1/final_estimated_velocity.csv\n",
      "Analyzing prediction matrices...\n",
      "Final estimated velocity trajectory saved to ./log/testv2/0081_1/final_estimated_velocity.csv\n",
      "Analyzing prediction matrices...\n",
      "Final estimated velocity trajectory saved to ./log/testv2/0082_1/final_estimated_velocity.csv\n",
      "Analyzing prediction matrices...\n",
      "Final estimated velocity trajectory saved to ./log/testv2/0083_1/final_estimated_velocity.csv\n",
      "Analyzing prediction matrices...\n",
      "Final estimated velocity trajectory saved to ./log/testv2/0084_1/final_estimated_velocity.csv\n",
      "Analyzing prediction matrices...\n",
      "Final estimated velocity trajectory saved to ./log/testv2/0085_1/final_estimated_velocity.csv\n",
      "Analyzing prediction matrices...\n",
      "Final estimated velocity trajectory saved to ./log/testv2/0086_1/final_estimated_velocity.csv\n",
      "Analyzing prediction matrices...\n",
      "Final estimated velocity trajectory saved to ./log/testv2/0087_1/final_estimated_velocity.csv\n",
      "Analyzing prediction matrices...\n",
      "Final estimated velocity trajectory saved to ./log/testv2/0088_1/final_estimated_velocity.csv\n",
      "Analyzing prediction matrices...\n",
      "Final estimated velocity trajectory saved to ./log/testv2/0089_1/final_estimated_velocity.csv\n",
      "Analyzing prediction matrices...\n",
      "Final estimated velocity trajectory saved to ./log/testv2/0090_1/final_estimated_velocity.csv\n",
      "Analyzing prediction matrices...\n",
      "Final estimated velocity trajectory saved to ./log/testv2/0091_1/final_estimated_velocity.csv\n",
      "Analyzing prediction matrices...\n",
      "Final estimated velocity trajectory saved to ./log/testv2/0092_1/final_estimated_velocity.csv\n"
     ]
    }
   ],
   "source": [
    "for idx in range(28, 93):\n",
    "    log_dir = f'./log/testv2/{idx:04d}_1'\n",
    "    analyze_results(log_dir)"
   ]
  },
  {
   "cell_type": "code",
   "execution_count": 11,
   "id": "aa7304c1",
   "metadata": {},
   "outputs": [],
   "source": [
    "output = dict()\n",
    "for idx in range(28, 93):\n",
    "    log_dir = f'./log/testv2/{idx:04d}_1'\n",
    "    df = pd.read_csv(os.path.join(log_dir, 'final_estimated_velocity.csv'))\n",
    "    output[idx] = {\"vx\": df['vx_final'].tolist(), \"vy\": df['vy_final'].tolist(), \"vz\": df['vz_final'].tolist()}\n",
    "\n",
    "import json\n",
    "with open('submission.json', 'wt') as f:\n",
    "    json.dump(output, f, indent=4)"
   ]
  }
 ],
 "metadata": {
  "kernelspec": {
   "display_name": "Python 3",
   "language": "python",
   "name": "python3"
  },
  "language_info": {
   "codemirror_mode": {
    "name": "ipython",
    "version": 3
   },
   "file_extension": ".py",
   "mimetype": "text/x-python",
   "name": "python",
   "nbconvert_exporter": "python",
   "pygments_lexer": "ipython3",
   "version": "3.10.12"
  }
 },
 "nbformat": 4,
 "nbformat_minor": 5
}
