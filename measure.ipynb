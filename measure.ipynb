{
 "cells": [
  {
   "cell_type": "code",
   "execution_count": 4,
   "id": "07890bac",
   "metadata": {},
   "outputs": [],
   "source": [
    "from config import config\n",
    "import torch\n",
    "import logging\n",
    "import os\n",
    "from PIL import Image\n",
    "import pandas as pd\n",
    "import numpy as np\n",
    "from torchvision import transforms\n",
    "\n",
    "from src.net import build_model\n",
    "from src.utils import set_all_seeds\n",
    "\n",
    "logger = logging.getLogger(__name__)"
   ]
  },
  {
   "cell_type": "code",
   "execution_count": 2,
   "id": "3f3a5036",
   "metadata": {},
   "outputs": [
    {
     "name": "stderr",
     "output_type": "stream",
     "text": [
      "INFO:__main__:Test on device cuda:0\n",
      "INFO:__main__:Random seed value: 42\n"
     ]
    }
   ],
   "source": [
    "logging.basicConfig(level=logging.INFO)\n",
    "if config.use_cuda and torch.cuda.is_available():\n",
    "    device = torch.device(\"cuda:0\")\n",
    "else:\n",
    "    device = torch.device(\"cpu\")\n",
    "\n",
    "logger.info(f\"Test on device {device}\")\n",
    "\n",
    "set_all_seeds(config)\n",
    "logger.info(f\"Random seed value: {config.seed}\")"
   ]
  },
  {
   "cell_type": "code",
   "execution_count": 3,
   "id": "64e614cf",
   "metadata": {},
   "outputs": [
    {
     "name": "stderr",
     "output_type": "stream",
     "text": [
      "INFO:__main__:Loading pretrained weights from ./weight/event_bert.pth\n"
     ]
    },
    {
     "data": {
      "text/plain": [
       "EventBERT(\n",
       "  (eventImg2Token): EventImg2Token(\n",
       "    (conv): Sequential(\n",
       "      (0): ConvDw(\n",
       "        (conv): Sequential(\n",
       "          (0): Conv2d(2, 2, kernel_size=(3, 3), stride=(1, 1), padding=(1, 1), groups=2, bias=False)\n",
       "          (1): BatchNorm2d(2, eps=1e-05, momentum=0.1, affine=True, track_running_stats=True)\n",
       "          (2): LeakyReLU(negative_slope=0.01, inplace=True)\n",
       "          (3): Conv2d(2, 32, kernel_size=(1, 1), stride=(1, 1), bias=False)\n",
       "          (4): BatchNorm2d(32, eps=1e-05, momentum=0.1, affine=True, track_running_stats=True)\n",
       "          (5): LeakyReLU(negative_slope=0.01, inplace=True)\n",
       "        )\n",
       "      )\n",
       "      (1): ConvDw(\n",
       "        (conv): Sequential(\n",
       "          (0): Conv2d(32, 32, kernel_size=(3, 3), stride=(2, 2), padding=(1, 1), groups=32, bias=False)\n",
       "          (1): BatchNorm2d(32, eps=1e-05, momentum=0.1, affine=True, track_running_stats=True)\n",
       "          (2): LeakyReLU(negative_slope=0.01, inplace=True)\n",
       "          (3): Conv2d(32, 64, kernel_size=(1, 1), stride=(1, 1), bias=False)\n",
       "          (4): BatchNorm2d(64, eps=1e-05, momentum=0.1, affine=True, track_running_stats=True)\n",
       "          (5): LeakyReLU(negative_slope=0.01, inplace=True)\n",
       "        )\n",
       "      )\n",
       "      (2): ConvDw(\n",
       "        (conv): Sequential(\n",
       "          (0): Conv2d(64, 64, kernel_size=(3, 3), stride=(2, 2), padding=(1, 1), groups=64, bias=False)\n",
       "          (1): BatchNorm2d(64, eps=1e-05, momentum=0.1, affine=True, track_running_stats=True)\n",
       "          (2): LeakyReLU(negative_slope=0.01, inplace=True)\n",
       "          (3): Conv2d(64, 128, kernel_size=(1, 1), stride=(1, 1), bias=False)\n",
       "          (4): BatchNorm2d(128, eps=1e-05, momentum=0.1, affine=True, track_running_stats=True)\n",
       "          (5): LeakyReLU(negative_slope=0.01, inplace=True)\n",
       "        )\n",
       "      )\n",
       "      (3): ConvDw(\n",
       "        (conv): Sequential(\n",
       "          (0): Conv2d(128, 128, kernel_size=(3, 3), stride=(2, 2), padding=(1, 1), groups=128, bias=False)\n",
       "          (1): BatchNorm2d(128, eps=1e-05, momentum=0.1, affine=True, track_running_stats=True)\n",
       "          (2): LeakyReLU(negative_slope=0.01, inplace=True)\n",
       "          (3): Conv2d(128, 512, kernel_size=(1, 1), stride=(1, 1), bias=False)\n",
       "          (4): BatchNorm2d(512, eps=1e-05, momentum=0.1, affine=True, track_running_stats=True)\n",
       "          (5): LeakyReLU(negative_slope=0.01, inplace=True)\n",
       "        )\n",
       "      )\n",
       "      (4): ConvDw(\n",
       "        (conv): Sequential(\n",
       "          (0): Conv2d(512, 512, kernel_size=(3, 3), stride=(2, 2), padding=(1, 1), groups=512, bias=False)\n",
       "          (1): BatchNorm2d(512, eps=1e-05, momentum=0.1, affine=True, track_running_stats=True)\n",
       "          (2): LeakyReLU(negative_slope=0.01, inplace=True)\n",
       "          (3): Conv2d(512, 1024, kernel_size=(1, 1), stride=(1, 1), bias=False)\n",
       "          (4): BatchNorm2d(1024, eps=1e-05, momentum=0.1, affine=True, track_running_stats=True)\n",
       "          (5): LeakyReLU(negative_slope=0.01, inplace=True)\n",
       "        )\n",
       "      )\n",
       "      (5): ConvDw(\n",
       "        (conv): Sequential(\n",
       "          (0): Conv2d(1024, 1024, kernel_size=(3, 3), stride=(2, 2), padding=(1, 1), groups=1024, bias=False)\n",
       "          (1): BatchNorm2d(1024, eps=1e-05, momentum=0.1, affine=True, track_running_stats=True)\n",
       "          (2): LeakyReLU(negative_slope=0.01, inplace=True)\n",
       "          (3): Conv2d(1024, 1536, kernel_size=(1, 1), stride=(1, 1), bias=False)\n",
       "          (4): BatchNorm2d(1536, eps=1e-05, momentum=0.1, affine=True, track_running_stats=True)\n",
       "          (5): LeakyReLU(negative_slope=0.01, inplace=True)\n",
       "        )\n",
       "      )\n",
       "    )\n",
       "    (fcOut): MLP_base(\n",
       "      (fc1): Linear(in_features=1536, out_features=3072, bias=True)\n",
       "      (fc2): Sequential(\n",
       "        (0): LayerNormCompatible()\n",
       "        (1): GELU(approximate='none')\n",
       "        (2): Linear(in_features=3072, out_features=768, bias=True)\n",
       "      )\n",
       "      (drop): Identity()\n",
       "    )\n",
       "  )\n",
       "  (transformer): Transformer(\n",
       "    (encoder): Sequential(\n",
       "      (0): Block(\n",
       "        (norm1): LayerNormCompatible()\n",
       "        (attn): Attention(\n",
       "          (qkv): Linear(in_features=768, out_features=2304, bias=True)\n",
       "          (attn_drop): Dropout(p=0.0, inplace=False)\n",
       "          (proj): Linear(in_features=768, out_features=768, bias=True)\n",
       "          (proj_drop): Dropout(p=0.0, inplace=False)\n",
       "        )\n",
       "        (drop_path): Identity()\n",
       "        (norm2): LayerNormCompatible()\n",
       "        (mlp): MLP_base(\n",
       "          (fc1): Linear(in_features=768, out_features=3072, bias=True)\n",
       "          (fc2): Sequential(\n",
       "            (0): LayerNormCompatible()\n",
       "            (1): GELU(approximate='none')\n",
       "            (2): Linear(in_features=3072, out_features=768, bias=True)\n",
       "          )\n",
       "          (drop): Identity()\n",
       "        )\n",
       "      )\n",
       "      (1): Block(\n",
       "        (norm1): LayerNormCompatible()\n",
       "        (attn): Attention(\n",
       "          (qkv): Linear(in_features=768, out_features=2304, bias=True)\n",
       "          (attn_drop): Dropout(p=0.0, inplace=False)\n",
       "          (proj): Linear(in_features=768, out_features=768, bias=True)\n",
       "          (proj_drop): Dropout(p=0.0, inplace=False)\n",
       "        )\n",
       "        (drop_path): Identity()\n",
       "        (norm2): LayerNormCompatible()\n",
       "        (mlp): MLP_base(\n",
       "          (fc1): Linear(in_features=768, out_features=3072, bias=True)\n",
       "          (fc2): Sequential(\n",
       "            (0): LayerNormCompatible()\n",
       "            (1): GELU(approximate='none')\n",
       "            (2): Linear(in_features=3072, out_features=768, bias=True)\n",
       "          )\n",
       "          (drop): Identity()\n",
       "        )\n",
       "      )\n",
       "      (2): Block(\n",
       "        (norm1): LayerNormCompatible()\n",
       "        (attn): Attention(\n",
       "          (qkv): Linear(in_features=768, out_features=2304, bias=True)\n",
       "          (attn_drop): Dropout(p=0.0, inplace=False)\n",
       "          (proj): Linear(in_features=768, out_features=768, bias=True)\n",
       "          (proj_drop): Dropout(p=0.0, inplace=False)\n",
       "        )\n",
       "        (drop_path): Identity()\n",
       "        (norm2): LayerNormCompatible()\n",
       "        (mlp): MLP_base(\n",
       "          (fc1): Linear(in_features=768, out_features=3072, bias=True)\n",
       "          (fc2): Sequential(\n",
       "            (0): LayerNormCompatible()\n",
       "            (1): GELU(approximate='none')\n",
       "            (2): Linear(in_features=3072, out_features=768, bias=True)\n",
       "          )\n",
       "          (drop): Identity()\n",
       "        )\n",
       "      )\n",
       "      (3): Block(\n",
       "        (norm1): LayerNormCompatible()\n",
       "        (attn): Attention(\n",
       "          (qkv): Linear(in_features=768, out_features=2304, bias=True)\n",
       "          (attn_drop): Dropout(p=0.0, inplace=False)\n",
       "          (proj): Linear(in_features=768, out_features=768, bias=True)\n",
       "          (proj_drop): Dropout(p=0.0, inplace=False)\n",
       "        )\n",
       "        (drop_path): Identity()\n",
       "        (norm2): LayerNormCompatible()\n",
       "        (mlp): MLP_base(\n",
       "          (fc1): Linear(in_features=768, out_features=3072, bias=True)\n",
       "          (fc2): Sequential(\n",
       "            (0): LayerNormCompatible()\n",
       "            (1): GELU(approximate='none')\n",
       "            (2): Linear(in_features=3072, out_features=768, bias=True)\n",
       "          )\n",
       "          (drop): Identity()\n",
       "        )\n",
       "      )\n",
       "      (4): Block(\n",
       "        (norm1): LayerNormCompatible()\n",
       "        (attn): Attention(\n",
       "          (qkv): Linear(in_features=768, out_features=2304, bias=True)\n",
       "          (attn_drop): Dropout(p=0.0, inplace=False)\n",
       "          (proj): Linear(in_features=768, out_features=768, bias=True)\n",
       "          (proj_drop): Dropout(p=0.0, inplace=False)\n",
       "        )\n",
       "        (drop_path): Identity()\n",
       "        (norm2): LayerNormCompatible()\n",
       "        (mlp): MLP_base(\n",
       "          (fc1): Linear(in_features=768, out_features=3072, bias=True)\n",
       "          (fc2): Sequential(\n",
       "            (0): LayerNormCompatible()\n",
       "            (1): GELU(approximate='none')\n",
       "            (2): Linear(in_features=3072, out_features=768, bias=True)\n",
       "          )\n",
       "          (drop): Identity()\n",
       "        )\n",
       "      )\n",
       "      (5): Block(\n",
       "        (norm1): LayerNormCompatible()\n",
       "        (attn): Attention(\n",
       "          (qkv): Linear(in_features=768, out_features=2304, bias=True)\n",
       "          (attn_drop): Dropout(p=0.0, inplace=False)\n",
       "          (proj): Linear(in_features=768, out_features=768, bias=True)\n",
       "          (proj_drop): Dropout(p=0.0, inplace=False)\n",
       "        )\n",
       "        (drop_path): Identity()\n",
       "        (norm2): LayerNormCompatible()\n",
       "        (mlp): MLP_base(\n",
       "          (fc1): Linear(in_features=768, out_features=3072, bias=True)\n",
       "          (fc2): Sequential(\n",
       "            (0): LayerNormCompatible()\n",
       "            (1): GELU(approximate='none')\n",
       "            (2): Linear(in_features=3072, out_features=768, bias=True)\n",
       "          )\n",
       "          (drop): Identity()\n",
       "        )\n",
       "      )\n",
       "      (6): Block(\n",
       "        (norm1): LayerNormCompatible()\n",
       "        (attn): Attention(\n",
       "          (qkv): Linear(in_features=768, out_features=2304, bias=True)\n",
       "          (attn_drop): Dropout(p=0.0, inplace=False)\n",
       "          (proj): Linear(in_features=768, out_features=768, bias=True)\n",
       "          (proj_drop): Dropout(p=0.0, inplace=False)\n",
       "        )\n",
       "        (drop_path): Identity()\n",
       "        (norm2): LayerNormCompatible()\n",
       "        (mlp): MLP_base(\n",
       "          (fc1): Linear(in_features=768, out_features=3072, bias=True)\n",
       "          (fc2): Sequential(\n",
       "            (0): LayerNormCompatible()\n",
       "            (1): GELU(approximate='none')\n",
       "            (2): Linear(in_features=3072, out_features=768, bias=True)\n",
       "          )\n",
       "          (drop): Identity()\n",
       "        )\n",
       "      )\n",
       "      (7): Block(\n",
       "        (norm1): LayerNormCompatible()\n",
       "        (attn): Attention(\n",
       "          (qkv): Linear(in_features=768, out_features=2304, bias=True)\n",
       "          (attn_drop): Dropout(p=0.0, inplace=False)\n",
       "          (proj): Linear(in_features=768, out_features=768, bias=True)\n",
       "          (proj_drop): Dropout(p=0.0, inplace=False)\n",
       "        )\n",
       "        (drop_path): Identity()\n",
       "        (norm2): LayerNormCompatible()\n",
       "        (mlp): MLP_base(\n",
       "          (fc1): Linear(in_features=768, out_features=3072, bias=True)\n",
       "          (fc2): Sequential(\n",
       "            (0): LayerNormCompatible()\n",
       "            (1): GELU(approximate='none')\n",
       "            (2): Linear(in_features=3072, out_features=768, bias=True)\n",
       "          )\n",
       "          (drop): Identity()\n",
       "        )\n",
       "      )\n",
       "      (8): Block(\n",
       "        (norm1): LayerNormCompatible()\n",
       "        (attn): Attention(\n",
       "          (qkv): Linear(in_features=768, out_features=2304, bias=True)\n",
       "          (attn_drop): Dropout(p=0.0, inplace=False)\n",
       "          (proj): Linear(in_features=768, out_features=768, bias=True)\n",
       "          (proj_drop): Dropout(p=0.0, inplace=False)\n",
       "        )\n",
       "        (drop_path): Identity()\n",
       "        (norm2): LayerNormCompatible()\n",
       "        (mlp): MLP_base(\n",
       "          (fc1): Linear(in_features=768, out_features=3072, bias=True)\n",
       "          (fc2): Sequential(\n",
       "            (0): LayerNormCompatible()\n",
       "            (1): GELU(approximate='none')\n",
       "            (2): Linear(in_features=3072, out_features=768, bias=True)\n",
       "          )\n",
       "          (drop): Identity()\n",
       "        )\n",
       "      )\n",
       "      (9): Block(\n",
       "        (norm1): LayerNormCompatible()\n",
       "        (attn): Attention(\n",
       "          (qkv): Linear(in_features=768, out_features=2304, bias=True)\n",
       "          (attn_drop): Dropout(p=0.0, inplace=False)\n",
       "          (proj): Linear(in_features=768, out_features=768, bias=True)\n",
       "          (proj_drop): Dropout(p=0.0, inplace=False)\n",
       "        )\n",
       "        (drop_path): Identity()\n",
       "        (norm2): LayerNormCompatible()\n",
       "        (mlp): MLP_base(\n",
       "          (fc1): Linear(in_features=768, out_features=3072, bias=True)\n",
       "          (fc2): Sequential(\n",
       "            (0): LayerNormCompatible()\n",
       "            (1): GELU(approximate='none')\n",
       "            (2): Linear(in_features=3072, out_features=768, bias=True)\n",
       "          )\n",
       "          (drop): Identity()\n",
       "        )\n",
       "      )\n",
       "      (10): Block(\n",
       "        (norm1): LayerNormCompatible()\n",
       "        (attn): Attention(\n",
       "          (qkv): Linear(in_features=768, out_features=2304, bias=True)\n",
       "          (attn_drop): Dropout(p=0.0, inplace=False)\n",
       "          (proj): Linear(in_features=768, out_features=768, bias=True)\n",
       "          (proj_drop): Dropout(p=0.0, inplace=False)\n",
       "        )\n",
       "        (drop_path): Identity()\n",
       "        (norm2): LayerNormCompatible()\n",
       "        (mlp): MLP_base(\n",
       "          (fc1): Linear(in_features=768, out_features=3072, bias=True)\n",
       "          (fc2): Sequential(\n",
       "            (0): LayerNormCompatible()\n",
       "            (1): GELU(approximate='none')\n",
       "            (2): Linear(in_features=3072, out_features=768, bias=True)\n",
       "          )\n",
       "          (drop): Identity()\n",
       "        )\n",
       "      )\n",
       "      (11): Block(\n",
       "        (norm1): LayerNormCompatible()\n",
       "        (attn): Attention(\n",
       "          (qkv): Linear(in_features=768, out_features=2304, bias=True)\n",
       "          (attn_drop): Dropout(p=0.0, inplace=False)\n",
       "          (proj): Linear(in_features=768, out_features=768, bias=True)\n",
       "          (proj_drop): Dropout(p=0.0, inplace=False)\n",
       "        )\n",
       "        (drop_path): Identity()\n",
       "        (norm2): LayerNormCompatible()\n",
       "        (mlp): MLP_base(\n",
       "          (fc1): Linear(in_features=768, out_features=3072, bias=True)\n",
       "          (fc2): Sequential(\n",
       "            (0): LayerNormCompatible()\n",
       "            (1): GELU(approximate='none')\n",
       "            (2): Linear(in_features=3072, out_features=768, bias=True)\n",
       "          )\n",
       "          (drop): Identity()\n",
       "        )\n",
       "      )\n",
       "    )\n",
       "    (fcOut): Sequential(\n",
       "      (0): MLP_base(\n",
       "        (fc1): Linear(in_features=768, out_features=768, bias=True)\n",
       "        (fc2): Sequential(\n",
       "          (0): LayerNormCompatible()\n",
       "          (1): GELU(approximate='none')\n",
       "          (2): Linear(in_features=768, out_features=768, bias=True)\n",
       "        )\n",
       "        (drop): Identity()\n",
       "      )\n",
       "      (1): LayerNormCompatible()\n",
       "    )\n",
       "  )\n",
       "  (fcIn): MLP_base(\n",
       "    (fc1): Linear(in_features=7, out_features=768, bias=True)\n",
       "    (fc2): Sequential(\n",
       "      (0): LayerNormCompatible()\n",
       "      (1): GELU(approximate='none')\n",
       "      (2): Linear(in_features=768, out_features=768, bias=True)\n",
       "    )\n",
       "    (drop): Identity()\n",
       "  )\n",
       "  (fusionEncoder): Sequential(\n",
       "    (0): Block(\n",
       "      (norm1): LayerNormCompatible()\n",
       "      (attn): Attention(\n",
       "        (qkv): Linear(in_features=768, out_features=2304, bias=True)\n",
       "        (attn_drop): Dropout(p=0.0, inplace=False)\n",
       "        (proj): Linear(in_features=768, out_features=768, bias=True)\n",
       "        (proj_drop): Dropout(p=0.0, inplace=False)\n",
       "      )\n",
       "      (drop_path): Identity()\n",
       "      (norm2): LayerNormCompatible()\n",
       "      (mlp): MLP_base(\n",
       "        (fc1): Linear(in_features=768, out_features=3072, bias=True)\n",
       "        (fc2): Sequential(\n",
       "          (0): LayerNormCompatible()\n",
       "          (1): GELU(approximate='none')\n",
       "          (2): Linear(in_features=3072, out_features=768, bias=True)\n",
       "        )\n",
       "        (drop): Identity()\n",
       "      )\n",
       "    )\n",
       "    (1): Block(\n",
       "      (norm1): LayerNormCompatible()\n",
       "      (attn): Attention(\n",
       "        (qkv): Linear(in_features=768, out_features=2304, bias=True)\n",
       "        (attn_drop): Dropout(p=0.0, inplace=False)\n",
       "        (proj): Linear(in_features=768, out_features=768, bias=True)\n",
       "        (proj_drop): Dropout(p=0.0, inplace=False)\n",
       "      )\n",
       "      (drop_path): Identity()\n",
       "      (norm2): LayerNormCompatible()\n",
       "      (mlp): MLP_base(\n",
       "        (fc1): Linear(in_features=768, out_features=3072, bias=True)\n",
       "        (fc2): Sequential(\n",
       "          (0): LayerNormCompatible()\n",
       "          (1): GELU(approximate='none')\n",
       "          (2): Linear(in_features=3072, out_features=768, bias=True)\n",
       "        )\n",
       "        (drop): Identity()\n",
       "      )\n",
       "    )\n",
       "  )\n",
       "  (head): Linear(in_features=768, out_features=3, bias=True)\n",
       ")"
      ]
     },
     "execution_count": 3,
     "metadata": {},
     "output_type": "execute_result"
    }
   ],
   "source": [
    "model = build_model(config)\n",
    "weight_path = os.path.join(config.weight_dir, config.weight_name + \".pth\")\n",
    "if os.path.exists(weight_path):\n",
    "    logger.info(f\"Loading pretrained weights from {weight_path}\")\n",
    "    model.load_state_dict(torch.load(weight_path, map_location='cpu'), strict=False)\n",
    "else:\n",
    "    logger.warning(f\"Pretrained weights not found at {weight_path}\")\n",
    "    exit(0)    \n",
    "\n",
    "model.eval()\n",
    "model.to(device)    "
   ]
  },
  {
   "cell_type": "code",
   "execution_count": 4,
   "id": "86bf4729",
   "metadata": {},
   "outputs": [],
   "source": [
    "from tqdm import tqdm\n",
    "def measure(model, root_dir, log_dir, config, device):\n",
    "    transform_base = transforms.Compose([\n",
    "            transforms.ToTensor(), \n",
    "            transforms.Normalize(mean=[0.5], std=[0.5])\n",
    "    ])      \n",
    "    img_dir = os.path.join(root_dir, 'img')\n",
    "    csv_path = os.path.join(root_dir, 'data', 'trajectory.csv')\n",
    "    df = pd.read_csv(csv_path)\n",
    "    image_files = sorted([f for f in os.listdir(img_dir) if f.endswith('_pos.png')])\n",
    "    num_timestamps = len(image_files)\n",
    "    vx_results = np.full((num_timestamps, num_timestamps), np.nan)\n",
    "    vy_results = np.full((num_timestamps, num_timestamps), np.nan)\n",
    "    vz_results = np.full((num_timestamps, num_timestamps), np.nan)\n",
    "    num_windows = num_timestamps - config.max_seq_len + 1\n",
    "    for i in tqdm(range(num_windows), desc=\"Measuring\"):\n",
    "        pos_images = []\n",
    "        neg_images = []\n",
    "        traj_list = []\n",
    "        for j in range(config.max_seq_len):\n",
    "            frame_idx = i + j\n",
    "            frame_name = str(frame_idx).zfill(4)\n",
    "            pos_image_path = os.path.join(img_dir, f'{frame_name}_pos.png')\n",
    "            neg_image_path = os.path.join(img_dir, f'{frame_name}_neg.png')\n",
    "            pos_image = Image.open(pos_image_path).convert('L')\n",
    "            neg_image = Image.open(neg_image_path).convert('L')\n",
    "            pos_image = transform_base(pos_image)\n",
    "            neg_image = transform_base(neg_image)\n",
    "            pos_images.append(pos_image)\n",
    "            neg_images.append(neg_image)\n",
    "            data = df.iloc[frame_idx, -7:].to_numpy()\n",
    "            data_tensor = torch.tensor(data).float()\n",
    "            traj_list.append(data_tensor)\n",
    "            \n",
    "            # It selects the last 7 columns of the dataframe row at index frame_idx\n",
    "            \n",
    "        x_pos_seq = torch.stack(pos_images) \n",
    "        x_neg_seq = torch.stack(neg_images)        \n",
    "        x_seq = torch.cat([x_pos_seq, x_neg_seq], dim=1).unsqueeze(0)\n",
    "        traj_seq = torch.stack(traj_list).unsqueeze(0)\n",
    "\n",
    "        x_seq = x_seq.to(device)\n",
    "        traj_seq = traj_seq.to(device)\n",
    "\n",
    "        with torch.no_grad():\n",
    "            output = model(x_seq, traj_seq)\n",
    "\n",
    "        velocities = output[0].detach().cpu().numpy()\n",
    "        vx_results[i, i : i + config.max_seq_len] = velocities[:, 0]\n",
    "        vy_results[i, i : i + config.max_seq_len] = velocities[:, 1]\n",
    "        vz_results[i, i : i + config.max_seq_len] = velocities[:, 2]\n",
    "        \n",
    "    os.makedirs(log_dir, exist_ok=True)\n",
    "    pd.DataFrame(vx_results).to_csv(os.path.join(log_dir, 'predicted_vx.csv'), index=False, header=False)\n",
    "    pd.DataFrame(vy_results).to_csv(os.path.join(log_dir, 'predicted_vy.csv'), index=False, header=False)\n",
    "    pd.DataFrame(vz_results).to_csv(os.path.join(log_dir, 'predicted_vz.csv'), index=False, header=False)\n",
    "    \n",
    "    print(f\"Measurement finished. Predicted velocity matrices saved in {log_dir}\")\n"
   ]
  },
  {
   "cell_type": "code",
   "execution_count": 2,
   "id": "67ac4861",
   "metadata": {},
   "outputs": [],
   "source": [
    "def analyze_results(log_dir):\n",
    "\n",
    "    print(\"Analyzing prediction matrices...\")\n",
    "    \n",
    "    try:\n",
    "        vx_df = pd.read_csv(os.path.join(log_dir, 'predicted_vx.csv'), header=None)\n",
    "        vy_df = pd.read_csv(os.path.join(log_dir, 'predicted_vy.csv'), header=None)\n",
    "        vz_df = pd.read_csv(os.path.join(log_dir, 'predicted_vz.csv'), header=None)\n",
    "    except FileNotFoundError:\n",
    "        print(f\"Prediction files not found in {log_dir}. Please run measure() first.\")\n",
    "        return\n",
    "\n",
    "    # --- 核心计算：对每一列求平均值 ---\n",
    "    # axis=0 表示沿着列的方向操作。pandas会自动忽略NaN。\n",
    "\n",
    "    original_cols_indices = [k * 4 for k in range(120)]\n",
    "    vx_df_original = vx_df.iloc[:, original_cols_indices]\n",
    "    vy_df_original = vy_df.iloc[:, original_cols_indices]\n",
    "    vz_df_original = vz_df.iloc[:, original_cols_indices]\n",
    "\n",
    "    final_vx = vx_df_original.mean(axis=0)\n",
    "    final_vy = vy_df_original.mean(axis=0)\n",
    "    final_vz = vz_df_original.mean(axis=0)\n",
    "\n",
    "    # --- 组合成最终的轨迹DataFrame ---\n",
    "    final_trajectory_df = pd.DataFrame({\n",
    "        'vx_final': final_vx,\n",
    "        'vy_final': final_vy,\n",
    "        'vz_final': final_vz\n",
    "    })\n",
    "\n",
    "    # --- 保存最终结果 ---\n",
    "    output_path = os.path.join(log_dir, 'final_estimated_velocity.csv')\n",
    "    final_trajectory_df.to_csv(output_path, index_label='timestamp_idx')\n",
    "    \n",
    "    print(f\"Final estimated velocity trajectory saved to {output_path}\")\n"
   ]
  },
  {
   "cell_type": "code",
   "execution_count": 6,
   "id": "f53b5432",
   "metadata": {},
   "outputs": [
    {
     "name": "stderr",
     "output_type": "stream",
     "text": [
      "Measuring: 100%|██████████| 454/454 [00:20<00:00, 22.01it/s]\n"
     ]
    },
    {
     "name": "stdout",
     "output_type": "stream",
     "text": [
      "Measurement finished. Predicted velocity matrices saved in ./log/test/0028_4\n"
     ]
    },
    {
     "name": "stderr",
     "output_type": "stream",
     "text": [
      "Measuring: 100%|██████████| 454/454 [00:20<00:00, 22.44it/s]\n"
     ]
    },
    {
     "name": "stdout",
     "output_type": "stream",
     "text": [
      "Measurement finished. Predicted velocity matrices saved in ./log/test/0029_4\n"
     ]
    },
    {
     "name": "stderr",
     "output_type": "stream",
     "text": [
      "Measuring: 100%|██████████| 454/454 [00:20<00:00, 21.95it/s]\n"
     ]
    },
    {
     "name": "stdout",
     "output_type": "stream",
     "text": [
      "Measurement finished. Predicted velocity matrices saved in ./log/test/0030_4\n"
     ]
    },
    {
     "name": "stderr",
     "output_type": "stream",
     "text": [
      "Measuring: 100%|██████████| 454/454 [00:21<00:00, 21.07it/s]\n"
     ]
    },
    {
     "name": "stdout",
     "output_type": "stream",
     "text": [
      "Measurement finished. Predicted velocity matrices saved in ./log/test/0031_4\n"
     ]
    },
    {
     "name": "stderr",
     "output_type": "stream",
     "text": [
      "Measuring: 100%|██████████| 454/454 [00:20<00:00, 22.52it/s]\n"
     ]
    },
    {
     "name": "stdout",
     "output_type": "stream",
     "text": [
      "Measurement finished. Predicted velocity matrices saved in ./log/test/0032_4\n"
     ]
    },
    {
     "name": "stderr",
     "output_type": "stream",
     "text": [
      "Measuring: 100%|██████████| 454/454 [00:20<00:00, 21.99it/s]\n"
     ]
    },
    {
     "name": "stdout",
     "output_type": "stream",
     "text": [
      "Measurement finished. Predicted velocity matrices saved in ./log/test/0033_4\n"
     ]
    },
    {
     "name": "stderr",
     "output_type": "stream",
     "text": [
      "Measuring: 100%|██████████| 454/454 [00:20<00:00, 21.79it/s]\n"
     ]
    },
    {
     "name": "stdout",
     "output_type": "stream",
     "text": [
      "Measurement finished. Predicted velocity matrices saved in ./log/test/0034_4\n"
     ]
    },
    {
     "name": "stderr",
     "output_type": "stream",
     "text": [
      "Measuring: 100%|██████████| 454/454 [00:20<00:00, 21.98it/s]\n"
     ]
    },
    {
     "name": "stdout",
     "output_type": "stream",
     "text": [
      "Measurement finished. Predicted velocity matrices saved in ./log/test/0035_4\n"
     ]
    },
    {
     "name": "stderr",
     "output_type": "stream",
     "text": [
      "Measuring: 100%|██████████| 454/454 [00:20<00:00, 21.81it/s]\n"
     ]
    },
    {
     "name": "stdout",
     "output_type": "stream",
     "text": [
      "Measurement finished. Predicted velocity matrices saved in ./log/test/0036_4\n"
     ]
    },
    {
     "name": "stderr",
     "output_type": "stream",
     "text": [
      "Measuring: 100%|██████████| 454/454 [00:20<00:00, 22.33it/s]\n"
     ]
    },
    {
     "name": "stdout",
     "output_type": "stream",
     "text": [
      "Measurement finished. Predicted velocity matrices saved in ./log/test/0037_4\n"
     ]
    },
    {
     "name": "stderr",
     "output_type": "stream",
     "text": [
      "Measuring: 100%|██████████| 454/454 [00:20<00:00, 21.98it/s]\n"
     ]
    },
    {
     "name": "stdout",
     "output_type": "stream",
     "text": [
      "Measurement finished. Predicted velocity matrices saved in ./log/test/0038_4\n"
     ]
    },
    {
     "name": "stderr",
     "output_type": "stream",
     "text": [
      "Measuring: 100%|██████████| 454/454 [00:20<00:00, 21.96it/s]\n"
     ]
    },
    {
     "name": "stdout",
     "output_type": "stream",
     "text": [
      "Measurement finished. Predicted velocity matrices saved in ./log/test/0039_4\n"
     ]
    },
    {
     "name": "stderr",
     "output_type": "stream",
     "text": [
      "Measuring: 100%|██████████| 454/454 [00:20<00:00, 22.10it/s]\n"
     ]
    },
    {
     "name": "stdout",
     "output_type": "stream",
     "text": [
      "Measurement finished. Predicted velocity matrices saved in ./log/test/0040_4\n"
     ]
    },
    {
     "name": "stderr",
     "output_type": "stream",
     "text": [
      "Measuring: 100%|██████████| 454/454 [00:20<00:00, 22.29it/s]\n"
     ]
    },
    {
     "name": "stdout",
     "output_type": "stream",
     "text": [
      "Measurement finished. Predicted velocity matrices saved in ./log/test/0041_4\n"
     ]
    },
    {
     "name": "stderr",
     "output_type": "stream",
     "text": [
      "Measuring: 100%|██████████| 454/454 [00:21<00:00, 20.96it/s]\n"
     ]
    },
    {
     "name": "stdout",
     "output_type": "stream",
     "text": [
      "Measurement finished. Predicted velocity matrices saved in ./log/test/0042_4\n"
     ]
    },
    {
     "name": "stderr",
     "output_type": "stream",
     "text": [
      "Measuring: 100%|██████████| 454/454 [00:20<00:00, 21.85it/s]\n"
     ]
    },
    {
     "name": "stdout",
     "output_type": "stream",
     "text": [
      "Measurement finished. Predicted velocity matrices saved in ./log/test/0043_4\n"
     ]
    },
    {
     "name": "stderr",
     "output_type": "stream",
     "text": [
      "Measuring: 100%|██████████| 454/454 [00:21<00:00, 21.44it/s]\n"
     ]
    },
    {
     "name": "stdout",
     "output_type": "stream",
     "text": [
      "Measurement finished. Predicted velocity matrices saved in ./log/test/0044_4\n"
     ]
    },
    {
     "name": "stderr",
     "output_type": "stream",
     "text": [
      "Measuring: 100%|██████████| 454/454 [00:20<00:00, 22.34it/s]\n"
     ]
    },
    {
     "name": "stdout",
     "output_type": "stream",
     "text": [
      "Measurement finished. Predicted velocity matrices saved in ./log/test/0045_4\n"
     ]
    },
    {
     "name": "stderr",
     "output_type": "stream",
     "text": [
      "Measuring: 100%|██████████| 454/454 [00:20<00:00, 22.44it/s]\n"
     ]
    },
    {
     "name": "stdout",
     "output_type": "stream",
     "text": [
      "Measurement finished. Predicted velocity matrices saved in ./log/test/0046_4\n"
     ]
    },
    {
     "name": "stderr",
     "output_type": "stream",
     "text": [
      "Measuring: 100%|██████████| 454/454 [00:22<00:00, 20.48it/s]\n"
     ]
    },
    {
     "name": "stdout",
     "output_type": "stream",
     "text": [
      "Measurement finished. Predicted velocity matrices saved in ./log/test/0047_4\n"
     ]
    },
    {
     "name": "stderr",
     "output_type": "stream",
     "text": [
      "Measuring: 100%|██████████| 454/454 [00:20<00:00, 21.92it/s]\n"
     ]
    },
    {
     "name": "stdout",
     "output_type": "stream",
     "text": [
      "Measurement finished. Predicted velocity matrices saved in ./log/test/0048_4\n"
     ]
    },
    {
     "name": "stderr",
     "output_type": "stream",
     "text": [
      "Measuring: 100%|██████████| 454/454 [00:21<00:00, 21.59it/s]\n"
     ]
    },
    {
     "name": "stdout",
     "output_type": "stream",
     "text": [
      "Measurement finished. Predicted velocity matrices saved in ./log/test/0049_4\n"
     ]
    },
    {
     "name": "stderr",
     "output_type": "stream",
     "text": [
      "Measuring: 100%|██████████| 454/454 [00:20<00:00, 22.18it/s]\n"
     ]
    },
    {
     "name": "stdout",
     "output_type": "stream",
     "text": [
      "Measurement finished. Predicted velocity matrices saved in ./log/test/0050_4\n"
     ]
    },
    {
     "name": "stderr",
     "output_type": "stream",
     "text": [
      "Measuring: 100%|██████████| 454/454 [00:21<00:00, 20.76it/s]\n"
     ]
    },
    {
     "name": "stdout",
     "output_type": "stream",
     "text": [
      "Measurement finished. Predicted velocity matrices saved in ./log/test/0051_4\n"
     ]
    },
    {
     "name": "stderr",
     "output_type": "stream",
     "text": [
      "Measuring: 100%|██████████| 454/454 [00:20<00:00, 22.11it/s]\n"
     ]
    },
    {
     "name": "stdout",
     "output_type": "stream",
     "text": [
      "Measurement finished. Predicted velocity matrices saved in ./log/test/0052_4\n"
     ]
    },
    {
     "name": "stderr",
     "output_type": "stream",
     "text": [
      "Measuring: 100%|██████████| 454/454 [00:21<00:00, 21.56it/s]\n"
     ]
    },
    {
     "name": "stdout",
     "output_type": "stream",
     "text": [
      "Measurement finished. Predicted velocity matrices saved in ./log/test/0053_4\n"
     ]
    },
    {
     "name": "stderr",
     "output_type": "stream",
     "text": [
      "Measuring: 100%|██████████| 454/454 [00:20<00:00, 22.49it/s]\n"
     ]
    },
    {
     "name": "stdout",
     "output_type": "stream",
     "text": [
      "Measurement finished. Predicted velocity matrices saved in ./log/test/0054_4\n"
     ]
    },
    {
     "name": "stderr",
     "output_type": "stream",
     "text": [
      "Measuring: 100%|██████████| 454/454 [00:20<00:00, 22.06it/s]\n"
     ]
    },
    {
     "name": "stdout",
     "output_type": "stream",
     "text": [
      "Measurement finished. Predicted velocity matrices saved in ./log/test/0055_4\n"
     ]
    },
    {
     "name": "stderr",
     "output_type": "stream",
     "text": [
      "Measuring: 100%|██████████| 454/454 [00:20<00:00, 22.36it/s]\n"
     ]
    },
    {
     "name": "stdout",
     "output_type": "stream",
     "text": [
      "Measurement finished. Predicted velocity matrices saved in ./log/test/0056_4\n"
     ]
    },
    {
     "name": "stderr",
     "output_type": "stream",
     "text": [
      "Measuring: 100%|██████████| 454/454 [00:20<00:00, 22.27it/s]\n"
     ]
    },
    {
     "name": "stdout",
     "output_type": "stream",
     "text": [
      "Measurement finished. Predicted velocity matrices saved in ./log/test/0057_4\n"
     ]
    },
    {
     "name": "stderr",
     "output_type": "stream",
     "text": [
      "Measuring: 100%|██████████| 454/454 [00:21<00:00, 20.97it/s]\n"
     ]
    },
    {
     "name": "stdout",
     "output_type": "stream",
     "text": [
      "Measurement finished. Predicted velocity matrices saved in ./log/test/0058_4\n"
     ]
    },
    {
     "name": "stderr",
     "output_type": "stream",
     "text": [
      "Measuring: 100%|██████████| 454/454 [00:20<00:00, 22.01it/s]\n"
     ]
    },
    {
     "name": "stdout",
     "output_type": "stream",
     "text": [
      "Measurement finished. Predicted velocity matrices saved in ./log/test/0059_4\n"
     ]
    },
    {
     "name": "stderr",
     "output_type": "stream",
     "text": [
      "Measuring: 100%|██████████| 454/454 [00:20<00:00, 22.46it/s]\n"
     ]
    },
    {
     "name": "stdout",
     "output_type": "stream",
     "text": [
      "Measurement finished. Predicted velocity matrices saved in ./log/test/0060_4\n"
     ]
    },
    {
     "name": "stderr",
     "output_type": "stream",
     "text": [
      "Measuring: 100%|██████████| 454/454 [00:20<00:00, 21.91it/s]\n"
     ]
    },
    {
     "name": "stdout",
     "output_type": "stream",
     "text": [
      "Measurement finished. Predicted velocity matrices saved in ./log/test/0061_4\n"
     ]
    },
    {
     "name": "stderr",
     "output_type": "stream",
     "text": [
      "Measuring: 100%|██████████| 454/454 [00:22<00:00, 20.38it/s]\n"
     ]
    },
    {
     "name": "stdout",
     "output_type": "stream",
     "text": [
      "Measurement finished. Predicted velocity matrices saved in ./log/test/0062_4\n"
     ]
    },
    {
     "name": "stderr",
     "output_type": "stream",
     "text": [
      "Measuring: 100%|██████████| 454/454 [00:20<00:00, 21.68it/s]\n"
     ]
    },
    {
     "name": "stdout",
     "output_type": "stream",
     "text": [
      "Measurement finished. Predicted velocity matrices saved in ./log/test/0063_4\n"
     ]
    },
    {
     "name": "stderr",
     "output_type": "stream",
     "text": [
      "Measuring: 100%|██████████| 454/454 [00:20<00:00, 22.11it/s]\n"
     ]
    },
    {
     "name": "stdout",
     "output_type": "stream",
     "text": [
      "Measurement finished. Predicted velocity matrices saved in ./log/test/0064_4\n"
     ]
    },
    {
     "name": "stderr",
     "output_type": "stream",
     "text": [
      "Measuring: 100%|██████████| 454/454 [00:20<00:00, 22.23it/s]\n"
     ]
    },
    {
     "name": "stdout",
     "output_type": "stream",
     "text": [
      "Measurement finished. Predicted velocity matrices saved in ./log/test/0065_4\n"
     ]
    },
    {
     "name": "stderr",
     "output_type": "stream",
     "text": [
      "Measuring: 100%|██████████| 454/454 [00:22<00:00, 20.52it/s]\n"
     ]
    },
    {
     "name": "stdout",
     "output_type": "stream",
     "text": [
      "Measurement finished. Predicted velocity matrices saved in ./log/test/0066_4\n"
     ]
    },
    {
     "name": "stderr",
     "output_type": "stream",
     "text": [
      "Measuring: 100%|██████████| 454/454 [00:21<00:00, 21.20it/s]\n"
     ]
    },
    {
     "name": "stdout",
     "output_type": "stream",
     "text": [
      "Measurement finished. Predicted velocity matrices saved in ./log/test/0067_4\n"
     ]
    },
    {
     "name": "stderr",
     "output_type": "stream",
     "text": [
      "Measuring: 100%|██████████| 454/454 [00:20<00:00, 22.08it/s]\n"
     ]
    },
    {
     "name": "stdout",
     "output_type": "stream",
     "text": [
      "Measurement finished. Predicted velocity matrices saved in ./log/test/0068_4\n"
     ]
    },
    {
     "name": "stderr",
     "output_type": "stream",
     "text": [
      "Measuring: 100%|██████████| 454/454 [00:20<00:00, 22.17it/s]\n"
     ]
    },
    {
     "name": "stdout",
     "output_type": "stream",
     "text": [
      "Measurement finished. Predicted velocity matrices saved in ./log/test/0069_4\n"
     ]
    },
    {
     "name": "stderr",
     "output_type": "stream",
     "text": [
      "Measuring: 100%|██████████| 454/454 [00:20<00:00, 22.05it/s]\n"
     ]
    },
    {
     "name": "stdout",
     "output_type": "stream",
     "text": [
      "Measurement finished. Predicted velocity matrices saved in ./log/test/0070_4\n"
     ]
    },
    {
     "name": "stderr",
     "output_type": "stream",
     "text": [
      "Measuring: 100%|██████████| 454/454 [00:20<00:00, 21.81it/s]\n"
     ]
    },
    {
     "name": "stdout",
     "output_type": "stream",
     "text": [
      "Measurement finished. Predicted velocity matrices saved in ./log/test/0071_4\n"
     ]
    },
    {
     "name": "stderr",
     "output_type": "stream",
     "text": [
      "Measuring: 100%|██████████| 454/454 [00:20<00:00, 21.84it/s]\n"
     ]
    },
    {
     "name": "stdout",
     "output_type": "stream",
     "text": [
      "Measurement finished. Predicted velocity matrices saved in ./log/test/0072_4\n"
     ]
    },
    {
     "name": "stderr",
     "output_type": "stream",
     "text": [
      "Measuring: 100%|██████████| 454/454 [00:21<00:00, 20.94it/s]\n"
     ]
    },
    {
     "name": "stdout",
     "output_type": "stream",
     "text": [
      "Measurement finished. Predicted velocity matrices saved in ./log/test/0073_4\n"
     ]
    },
    {
     "name": "stderr",
     "output_type": "stream",
     "text": [
      "Measuring: 100%|██████████| 454/454 [00:21<00:00, 21.29it/s]\n"
     ]
    },
    {
     "name": "stdout",
     "output_type": "stream",
     "text": [
      "Measurement finished. Predicted velocity matrices saved in ./log/test/0074_4\n"
     ]
    },
    {
     "name": "stderr",
     "output_type": "stream",
     "text": [
      "Measuring: 100%|██████████| 454/454 [00:20<00:00, 22.24it/s]\n"
     ]
    },
    {
     "name": "stdout",
     "output_type": "stream",
     "text": [
      "Measurement finished. Predicted velocity matrices saved in ./log/test/0075_4\n"
     ]
    },
    {
     "name": "stderr",
     "output_type": "stream",
     "text": [
      "Measuring: 100%|██████████| 454/454 [00:20<00:00, 22.21it/s]\n"
     ]
    },
    {
     "name": "stdout",
     "output_type": "stream",
     "text": [
      "Measurement finished. Predicted velocity matrices saved in ./log/test/0076_4\n"
     ]
    },
    {
     "name": "stderr",
     "output_type": "stream",
     "text": [
      "Measuring: 100%|██████████| 454/454 [00:20<00:00, 22.00it/s]\n"
     ]
    },
    {
     "name": "stdout",
     "output_type": "stream",
     "text": [
      "Measurement finished. Predicted velocity matrices saved in ./log/test/0077_4\n"
     ]
    },
    {
     "name": "stderr",
     "output_type": "stream",
     "text": [
      "Measuring: 100%|██████████| 454/454 [00:20<00:00, 22.10it/s]\n"
     ]
    },
    {
     "name": "stdout",
     "output_type": "stream",
     "text": [
      "Measurement finished. Predicted velocity matrices saved in ./log/test/0078_4\n"
     ]
    },
    {
     "name": "stderr",
     "output_type": "stream",
     "text": [
      "Measuring: 100%|██████████| 454/454 [00:20<00:00, 22.05it/s]\n"
     ]
    },
    {
     "name": "stdout",
     "output_type": "stream",
     "text": [
      "Measurement finished. Predicted velocity matrices saved in ./log/test/0079_4\n"
     ]
    },
    {
     "name": "stderr",
     "output_type": "stream",
     "text": [
      "Measuring: 100%|██████████| 454/454 [00:20<00:00, 22.39it/s]\n"
     ]
    },
    {
     "name": "stdout",
     "output_type": "stream",
     "text": [
      "Measurement finished. Predicted velocity matrices saved in ./log/test/0080_4\n"
     ]
    },
    {
     "name": "stderr",
     "output_type": "stream",
     "text": [
      "Measuring: 100%|██████████| 454/454 [00:20<00:00, 22.45it/s]\n"
     ]
    },
    {
     "name": "stdout",
     "output_type": "stream",
     "text": [
      "Measurement finished. Predicted velocity matrices saved in ./log/test/0081_4\n"
     ]
    },
    {
     "name": "stderr",
     "output_type": "stream",
     "text": [
      "Measuring: 100%|██████████| 454/454 [00:20<00:00, 21.89it/s]\n"
     ]
    },
    {
     "name": "stdout",
     "output_type": "stream",
     "text": [
      "Measurement finished. Predicted velocity matrices saved in ./log/test/0082_4\n"
     ]
    },
    {
     "name": "stderr",
     "output_type": "stream",
     "text": [
      "Measuring: 100%|██████████| 454/454 [00:20<00:00, 22.33it/s]\n"
     ]
    },
    {
     "name": "stdout",
     "output_type": "stream",
     "text": [
      "Measurement finished. Predicted velocity matrices saved in ./log/test/0083_4\n"
     ]
    },
    {
     "name": "stderr",
     "output_type": "stream",
     "text": [
      "Measuring: 100%|██████████| 454/454 [00:21<00:00, 21.59it/s]\n"
     ]
    },
    {
     "name": "stdout",
     "output_type": "stream",
     "text": [
      "Measurement finished. Predicted velocity matrices saved in ./log/test/0084_4\n"
     ]
    },
    {
     "name": "stderr",
     "output_type": "stream",
     "text": [
      "Measuring: 100%|██████████| 454/454 [00:20<00:00, 22.20it/s]\n"
     ]
    },
    {
     "name": "stdout",
     "output_type": "stream",
     "text": [
      "Measurement finished. Predicted velocity matrices saved in ./log/test/0085_4\n"
     ]
    },
    {
     "name": "stderr",
     "output_type": "stream",
     "text": [
      "Measuring: 100%|██████████| 454/454 [00:20<00:00, 22.15it/s]\n"
     ]
    },
    {
     "name": "stdout",
     "output_type": "stream",
     "text": [
      "Measurement finished. Predicted velocity matrices saved in ./log/test/0086_4\n"
     ]
    },
    {
     "name": "stderr",
     "output_type": "stream",
     "text": [
      "Measuring: 100%|██████████| 454/454 [00:21<00:00, 21.02it/s]\n"
     ]
    },
    {
     "name": "stdout",
     "output_type": "stream",
     "text": [
      "Measurement finished. Predicted velocity matrices saved in ./log/test/0087_4\n"
     ]
    },
    {
     "name": "stderr",
     "output_type": "stream",
     "text": [
      "Measuring: 100%|██████████| 454/454 [00:20<00:00, 21.99it/s]\n"
     ]
    },
    {
     "name": "stdout",
     "output_type": "stream",
     "text": [
      "Measurement finished. Predicted velocity matrices saved in ./log/test/0088_4\n"
     ]
    },
    {
     "name": "stderr",
     "output_type": "stream",
     "text": [
      "Measuring: 100%|██████████| 454/454 [00:20<00:00, 21.68it/s]\n"
     ]
    },
    {
     "name": "stdout",
     "output_type": "stream",
     "text": [
      "Measurement finished. Predicted velocity matrices saved in ./log/test/0089_4\n"
     ]
    },
    {
     "name": "stderr",
     "output_type": "stream",
     "text": [
      "Measuring: 100%|██████████| 454/454 [00:21<00:00, 21.04it/s]\n"
     ]
    },
    {
     "name": "stdout",
     "output_type": "stream",
     "text": [
      "Measurement finished. Predicted velocity matrices saved in ./log/test/0090_4\n"
     ]
    },
    {
     "name": "stderr",
     "output_type": "stream",
     "text": [
      "Measuring: 100%|██████████| 454/454 [00:21<00:00, 21.05it/s]\n"
     ]
    },
    {
     "name": "stdout",
     "output_type": "stream",
     "text": [
      "Measurement finished. Predicted velocity matrices saved in ./log/test/0091_4\n"
     ]
    },
    {
     "name": "stderr",
     "output_type": "stream",
     "text": [
      "Measuring: 100%|██████████| 454/454 [00:21<00:00, 21.21it/s]\n"
     ]
    },
    {
     "name": "stdout",
     "output_type": "stream",
     "text": [
      "Measurement finished. Predicted velocity matrices saved in ./log/test/0092_4\n"
     ]
    }
   ],
   "source": [
    "for idx in range(28, 93):\n",
    "    root_dir = f'./dataset/test/{idx:04d}_4'\n",
    "    log_dir = f'./log/test/{idx:04d}_4'\n",
    "    measure(model, root_dir, log_dir, config, device)"
   ]
  },
  {
   "cell_type": "code",
   "execution_count": null,
   "id": "4342f5a0",
   "metadata": {},
   "outputs": [],
   "source": [
    "for idx in range(28, 93):\n",
    "    log_dir = f'./log/test/{idx:04d}_4'\n",
    "    analyze_results(log_dir)"
   ]
  },
  {
   "cell_type": "code",
   "execution_count": 8,
   "id": "aa7304c1",
   "metadata": {},
   "outputs": [],
   "source": [
    "output = dict()\n",
    "for idx in range(28, 93):\n",
    "    log_dir = f'./log/test/{idx:04d}_4'\n",
    "    df = pd.read_csv(os.path.join(log_dir, 'final_estimated_velocity.csv'))\n",
    "    output[idx] = {\"vx\": df['vx_final'].tolist(), \"vy\": df['vy_final'].tolist(), \"vz\": df['vz_final'].tolist()}\n",
    "\n",
    "import json\n",
    "with open('submission.json', 'wt') as f:\n",
    "    json.dump(output, f, indent=4)"
   ]
  }
 ],
 "metadata": {
  "kernelspec": {
   "display_name": "Python 3",
   "language": "python",
   "name": "python3"
  },
  "language_info": {
   "codemirror_mode": {
    "name": "ipython",
    "version": 3
   },
   "file_extension": ".py",
   "mimetype": "text/x-python",
   "name": "python",
   "nbconvert_exporter": "python",
   "pygments_lexer": "ipython3",
   "version": "3.10.12"
  }
 },
 "nbformat": 4,
 "nbformat_minor": 5
}
