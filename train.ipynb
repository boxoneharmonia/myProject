{
 "cells": [
  {
   "cell_type": "code",
   "execution_count": 1,
   "id": "d0ccd834",
   "metadata": {},
   "outputs": [
    {
     "name": "stdout",
     "output_type": "stream",
     "text": [
      "ipex flag is deprecated, will be removed in Accelerate v1.10. From 2.7.0, PyTorch has all needed optimizations for Intel CPU and XPU.\n",
      "INFO:__main__:Starting training with bf16 mixed precision.\n",
      "INFO:__main__:Random seed value: 42\n",
      "INFO:__main__:Weight saved at: ./weight\n",
      "INFO:__main__:Net created successfully.\n",
      "INFO:__main__:Model parameters: 139307641\n",
      "INFO:__main__:Model trainable parameters: 14583811\n",
      "INFO:__main__:Optimizer: adamw, Learning rate: 0.001\n",
      "INFO:__main__:Loading pretrained weights from ./weight/event_bert_v2.pth\n",
      "INFO:src.dataset:Dataset initialized with 3220 sequences from ./dataset/trainv2.\n",
      "INFO:__main__:Train dataloader created with 20 batches.\n",
      "INFO:__main__:polynomial scheduler created with 50 epochs.\n",
      "/home/box/.local/lib/python3.10/site-packages/torch/distributed/distributed_c10d.py:4631: UserWarning: No device id is provided via `init_process_group` or `barrier `. Using the current device set by the user. \n",
      "  warnings.warn(  # warn only once\n",
      "Epoch: 1, Batch: [  10/10  ], LR: 0.00000000, Loss: 0.132203 (Avg: 0.132959), Elapsed: 840.82 ms\n",
      "/home/box/.local/lib/python3.10/site-packages/torch/distributed/distributed_c10d.py:4631: UserWarning: No device id is provided via `init_process_group` or `barrier `. Using the current device set by the user. \n",
      "  warnings.warn(  # warn only once\n",
      "Epoch: 2, Batch: [  10/10  ], LR: 0.00040000, Loss: 0.130660 (Avg: 0.129883), Elapsed: 845.71 ms\n",
      "Epoch: 3, Batch: [  10/10  ], LR: 0.00080000, Loss: 0.129256 (Avg: 0.129279), Elapsed: 844.65 ms\n",
      "Epoch: 4, Batch: [  10/10  ], LR: 0.00097910, Loss: 0.123795 (Avg: 0.127087), Elapsed: 843.20 ms\n",
      "Epoch: 5, Batch: [  10/10  ], LR: 0.00093797, Loss: 0.126495 (Avg: 0.129088), Elapsed: 857.98 ms\n",
      "Epoch: 6, Batch: [  10/10  ], LR: 0.00089773, Loss: 0.126094 (Avg: 0.129736), Elapsed: 863.83 ms\n",
      "Epoch: 7, Batch: [  10/10  ], LR: 0.00085836, Loss: 0.131031 (Avg: 0.128877), Elapsed: 865.68 ms\n",
      "Epoch: 8, Batch: [  10/10  ], LR: 0.00081988, Loss: 0.128529 (Avg: 0.128522), Elapsed: 869.87 ms\n",
      "Epoch: 9, Batch: [  10/10  ], LR: 0.00078228, Loss: 0.127187 (Avg: 0.130205), Elapsed: 879.28 ms\n",
      "Epoch: 10, Batch: [  10/10  ], LR: 0.00074556, Loss: 0.126067 (Avg: 0.128669), Elapsed: 876.41 ms\n",
      "INFO:__main__:Model weights saved at ./weight/event_bert_v2.pth\n",
      "Epoch: 11, Batch: [  10/10  ], LR: 0.00070973, Loss: 0.118585 (Avg: 0.129535), Elapsed: 879.32 ms\n",
      "Epoch: 12, Batch: [  10/10  ], LR: 0.00067478, Loss: 0.133463 (Avg: 0.129432), Elapsed: 882.38 ms\n",
      "Epoch: 13, Batch: [  10/10  ], LR: 0.00064071, Loss: 0.127263 (Avg: 0.129100), Elapsed: 883.31 ms\n",
      "Epoch: 14, Batch: [  10/10  ], LR: 0.00060752, Loss: 0.128981 (Avg: 0.129520), Elapsed: 884.86 ms\n",
      "Epoch: 15, Batch: [  10/10  ], LR: 0.00057522, Loss: 0.126500 (Avg: 0.127355), Elapsed: 873.78 ms\n",
      "Epoch: 16, Batch: [  10/10  ], LR: 0.00054380, Loss: 0.129565 (Avg: 0.128332), Elapsed: 882.76 ms\n",
      "Epoch: 17, Batch: [  10/10  ], LR: 0.00051326, Loss: 0.124094 (Avg: 0.128849), Elapsed: 890.58 ms\n",
      "W0809 20:13:49.867000 259409 torch/distributed/elastic/agent/server/api.py:719] Received Signals.SIGINT death signal, shutting down workers\n",
      "W0809 20:13:49.868000 259409 torch/distributed/elastic/multiprocessing/api.py:900] Sending process 259581 closing signal SIGINT\n",
      "W0809 20:13:49.869000 259409 torch/distributed/elastic/multiprocessing/api.py:900] Sending process 259582 closing signal SIGINT\n",
      "^C\n",
      "W0809 20:13:49.918000 259409 torch/distributed/elastic/multiprocessing/api.py:900] Sending process 259581 closing signal SIGTERM\n",
      "W0809 20:13:49.918000 259409 torch/distributed/elastic/multiprocessing/api.py:900] Sending process 259582 closing signal SIGTERM\n"
     ]
    }
   ],
   "source": [
    "%reload_ext autoreload\n",
    "%autoreload 2\n",
    "!accelerate launch train.py "
   ]
  }
 ],
 "metadata": {
  "kernelspec": {
   "display_name": "Python 3",
   "language": "python",
   "name": "python3"
  },
  "language_info": {
   "codemirror_mode": {
    "name": "ipython",
    "version": 3
   },
   "file_extension": ".py",
   "mimetype": "text/x-python",
   "name": "python",
   "nbconvert_exporter": "python",
   "pygments_lexer": "ipython3",
   "version": "3.10.12"
  }
 },
 "nbformat": 4,
 "nbformat_minor": 5
}
