{
 "cells": [
  {
   "cell_type": "code",
   "execution_count": 1,
   "id": "d0ccd834",
   "metadata": {},
   "outputs": [
    {
     "name": "stdout",
     "output_type": "stream",
     "text": [
      "ipex flag is deprecated, will be removed in Accelerate v1.10. From 2.7.0, PyTorch has all needed optimizations for Intel CPU and XPU.\n",
      "INFO:__main__:Starting training with bf16 mixed precision.\n",
      "INFO:__main__:Random seed value: 42\n",
      "INFO:__main__:Weight saved at: ./weight\n",
      "INFO:__main__:Net created successfully.\n",
      "INFO:__main__:Model parameters: 98092968\n",
      "INFO:__main__:Model trainable parameters: 98092968\n",
      "INFO:__main__:Optimizer: adamw, Learning rate: 5e-05\n",
      "INFO:src.dataset:Dataset initialized with 20972 sequences from ./dataset/train.\n",
      "INFO:__main__:Train dataloader created with 1165 batches.\n",
      "INFO:__main__:linear scheduler created with 10 epochs.\n",
      "/home/box/.local/lib/python3.10/site-packages/torch/distributed/distributed_c10d.py:4631: UserWarning: No device id is provided via `init_process_group` or `barrier `. Using the current device set by the user. \n",
      "  warnings.warn(  # warn only once\n",
      "Epoch: 1, Batch: [ 582/582 ], LR: 0.00000000, Loss: 1.777451 (Avg: 4.207162), Elapsed: 376.06 ms\n",
      "/home/box/.local/lib/python3.10/site-packages/torch/distributed/distributed_c10d.py:4631: UserWarning: No device id is provided via `init_process_group` or `barrier `. Using the current device set by the user. \n",
      "  warnings.warn(  # warn only once\n",
      "Epoch: 2, Batch: [ 582/582 ], LR: 0.00002498, Loss: 0.975671 (Avg: 1.632665), Elapsed: 373.23 ms\n",
      "Epoch: 3, Batch: [ 582/582 ], LR: 0.00004996, Loss: 1.306882 (Avg: 1.534231), Elapsed: 371.91 ms\n",
      "Epoch: 4, Batch: [ 582/582 ], LR: 0.00004377, Loss: 1.707444 (Avg: 1.522002), Elapsed: 374.01 ms\n",
      "Epoch: 5, Batch: [ 582/582 ], LR: 0.00003752, Loss: 1.390308 (Avg: 1.508743), Elapsed: 372.61 ms\n",
      "INFO:__main__:Model weights saved at ./weight/event_bert_mlm.pth\n",
      "Epoch: 6, Batch: [ 582/582 ], LR: 0.00003128, Loss: 0.943736 (Avg: 1.509662), Elapsed: 371.84 ms\n",
      "Epoch: 7, Batch: [ 582/582 ], LR: 0.00002503, Loss: 1.992270 (Avg: 1.515934), Elapsed: 371.97 ms\n",
      "Epoch: 8, Batch: [ 582/582 ], LR: 0.00001879, Loss: 2.286624 (Avg: 1.506754), Elapsed: 370.69 ms\n",
      "Epoch: 9, Batch: [ 582/582 ], LR: 0.00001254, Loss: 0.990335 (Avg: 1.517003), Elapsed: 373.76 ms\n",
      "Epoch: 10, Batch: [ 582/582 ], LR: 0.00000630, Loss: 1.328226 (Avg: 1.502741), Elapsed: 372.23 ms\n",
      "INFO:__main__:Model weights saved at ./weight/event_bert_mlm.pth\n",
      "INFO:__main__:Training completed successfully.\n"
     ]
    }
   ],
   "source": [
    "%reload_ext autoreload\n",
    "%autoreload 2\n",
    "!accelerate launch train.py"
   ]
  }
 ],
 "metadata": {
  "kernelspec": {
   "display_name": "Python 3",
   "language": "python",
   "name": "python3"
  },
  "language_info": {
   "codemirror_mode": {
    "name": "ipython",
    "version": 3
   },
   "file_extension": ".py",
   "mimetype": "text/x-python",
   "name": "python",
   "nbconvert_exporter": "python",
   "pygments_lexer": "ipython3",
   "version": "3.10.12"
  }
 },
 "nbformat": 4,
 "nbformat_minor": 5
}
