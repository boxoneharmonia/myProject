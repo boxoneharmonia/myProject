{
 "cells": [
  {
   "cell_type": "code",
   "execution_count": 1,
   "id": "d0ccd834",
   "metadata": {},
   "outputs": [
    {
     "name": "stdout",
     "output_type": "stream",
     "text": [
      "ipex flag is deprecated, will be removed in Accelerate v1.10. From 2.7.0, PyTorch has all needed optimizations for Intel CPU and XPU.\n",
      "INFO:__main__:Starting training with bf16 mixed precision.\n",
      "INFO:__main__:Random seed value: 42\n",
      "INFO:__main__:Weight saved at: ./weight\n",
      "INFO:__main__:Net created successfully.\n",
      "INFO:__main__:Model parameters: 153903737\n",
      "INFO:__main__:Model trainable parameters: 29179907\n",
      "INFO:__main__:Optimizer: adamw, Learning rate: 1e-05\n",
      "INFO:__main__:Loading pretrained weights from ./weight/event_bert_v2.pth\n",
      "INFO:src.dataset:Dataset initialized with 3220 sequences from ./dataset/trainv2.\n",
      "INFO:__main__:Train dataloader created with 26 batches.\n",
      "INFO:__main__:polynomial scheduler created with 50 epochs.\n",
      "/home/box/.local/lib/python3.10/site-packages/torch/distributed/distributed_c10d.py:4631: UserWarning: No device id is provided via `init_process_group` or `barrier `. Using the current device set by the user. \n",
      "  warnings.warn(  # warn only once\n",
      "Epoch: 1, Batch: [  13/13  ], LR: 0.00000000, Loss: 0.038899 (Avg: 0.040527), Elapsed: 716.16 ms\n",
      "/home/box/.local/lib/python3.10/site-packages/torch/distributed/distributed_c10d.py:4631: UserWarning: No device id is provided via `init_process_group` or `barrier `. Using the current device set by the user. \n",
      "  warnings.warn(  # warn only once\n",
      "Epoch: 2, Batch: [  13/13  ], LR: 0.00000438, Loss: 0.038827 (Avg: 0.041064), Elapsed: 723.41 ms\n",
      "Epoch: 3, Batch: [  13/13  ], LR: 0.00000875, Loss: 0.046765 (Avg: 0.046537), Elapsed: 726.52 ms\n",
      "Epoch: 4, Batch: [  13/13  ], LR: 0.00000968, Loss: 0.043929 (Avg: 0.048817), Elapsed: 725.04 ms\n",
      "Epoch: 5, Batch: [  13/13  ], LR: 0.00000925, Loss: 0.040357 (Avg: 0.042838), Elapsed: 725.28 ms\n",
      "Epoch: 6, Batch: [  13/13  ], LR: 0.00000882, Loss: 0.040286 (Avg: 0.041539), Elapsed: 734.92 ms\n",
      "Epoch: 7, Batch: [  13/13  ], LR: 0.00000841, Loss: 0.039908 (Avg: 0.040215), Elapsed: 735.89 ms\n",
      "Epoch: 8, Batch: [  13/13  ], LR: 0.00000800, Loss: 0.039665 (Avg: 0.039515), Elapsed: 737.37 ms\n",
      "Epoch: 9, Batch: [  13/13  ], LR: 0.00000761, Loss: 0.037133 (Avg: 0.039937), Elapsed: 737.94 ms\n",
      "Epoch: 10, Batch: [  13/13  ], LR: 0.00000722, Loss: 0.039770 (Avg: 0.038346), Elapsed: 740.80 ms\n",
      "INFO:__main__:Model weights saved at ./weight/event_bert_v2.pth\n",
      "Epoch: 11, Batch: [  13/13  ], LR: 0.00000685, Loss: 0.042772 (Avg: 0.040500), Elapsed: 740.72 ms\n",
      "Epoch: 12, Batch: [  13/13  ], LR: 0.00000648, Loss: 0.035373 (Avg: 0.038130), Elapsed: 744.32 ms\n",
      "Epoch: 13, Batch: [  13/13  ], LR: 0.00000613, Loss: 0.034665 (Avg: 0.036953), Elapsed: 742.19 ms\n",
      "Epoch: 14, Batch: [  13/13  ], LR: 0.00000578, Loss: 0.031742 (Avg: 0.038132), Elapsed: 730.56 ms\n",
      "Epoch: 15, Batch: [  13/13  ], LR: 0.00000545, Loss: 0.031713 (Avg: 0.036873), Elapsed: 743.73 ms\n",
      "Epoch: 16, Batch: [  13/13  ], LR: 0.00000512, Loss: 0.037210 (Avg: 0.035940), Elapsed: 744.20 ms\n",
      "Epoch: 17, Batch: [  13/13  ], LR: 0.00000481, Loss: 0.035403 (Avg: 0.036999), Elapsed: 743.21 ms\n",
      "Epoch: 18, Batch: [  13/13  ], LR: 0.00000451, Loss: 0.037738 (Avg: 0.034237), Elapsed: 745.84 ms\n",
      "Epoch: 19, Batch: [  13/13  ], LR: 0.00000421, Loss: 0.031175 (Avg: 0.034160), Elapsed: 749.71 ms\n",
      "Epoch: 20, Batch: [  13/13  ], LR: 0.00000393, Loss: 0.036677 (Avg: 0.032973), Elapsed: 744.08 ms\n",
      "INFO:__main__:Model weights saved at ./weight/event_bert_v2.pth\n",
      "Epoch: 21, Batch: [  13/13  ], LR: 0.00000366, Loss: 0.033164 (Avg: 0.033245), Elapsed: 745.71 ms\n",
      "Epoch: 22, Batch: [  13/13  ], LR: 0.00000339, Loss: 0.036173 (Avg: 0.034445), Elapsed: 732.21 ms\n",
      "Epoch: 23, Batch: [  13/13  ], LR: 0.00000314, Loss: 0.030876 (Avg: 0.032193), Elapsed: 731.96 ms\n",
      "Epoch: 24, Batch: [  13/13  ], LR: 0.00000290, Loss: 0.031158 (Avg: 0.033346), Elapsed: 745.35 ms\n",
      "Epoch: 25, Batch: [  13/13  ], LR: 0.00000266, Loss: 0.032261 (Avg: 0.032533), Elapsed: 731.38 ms\n",
      "Epoch: 26, Batch: [  13/13  ], LR: 0.00000244, Loss: 0.030108 (Avg: 0.032755), Elapsed: 738.29 ms\n",
      "Epoch: 27, Batch: [  13/13  ], LR: 0.00000223, Loss: 0.029665 (Avg: 0.031971), Elapsed: 740.18 ms\n",
      "Epoch: 28, Batch: [  13/13  ], LR: 0.00000203, Loss: 0.028704 (Avg: 0.031099), Elapsed: 738.67 ms\n",
      "Epoch: 29, Batch: [  13/13  ], LR: 0.00000183, Loss: 0.029492 (Avg: 0.031027), Elapsed: 733.25 ms\n",
      "Epoch: 30, Batch: [  13/13  ], LR: 0.00000165, Loss: 0.028493 (Avg: 0.031469), Elapsed: 743.97 ms\n",
      "INFO:__main__:Model weights saved at ./weight/event_bert_v2.pth\n",
      "Epoch: 31, Batch: [  13/13  ], LR: 0.00000148, Loss: 0.028330 (Avg: 0.031008), Elapsed: 745.73 ms\n",
      "Epoch: 32, Batch: [  13/13  ], LR: 0.00000132, Loss: 0.031829 (Avg: 0.031388), Elapsed: 731.16 ms\n",
      "Epoch: 33, Batch: [  13/13  ], LR: 0.00000116, Loss: 0.029852 (Avg: 0.031439), Elapsed: 743.93 ms\n",
      "Epoch: 34, Batch: [  13/13  ], LR: 0.00000102, Loss: 0.029181 (Avg: 0.030862), Elapsed: 745.95 ms\n",
      "Epoch: 35, Batch: [  13/13  ], LR: 0.00000089, Loss: 0.031115 (Avg: 0.030024), Elapsed: 746.04 ms\n",
      "Epoch: 36, Batch: [  13/13  ], LR: 0.00000077, Loss: 0.029211 (Avg: 0.030362), Elapsed: 747.32 ms\n",
      "Epoch: 37, Batch: [  13/13  ], LR: 0.00000066, Loss: 0.030424 (Avg: 0.031161), Elapsed: 744.82 ms\n",
      "Epoch: 38, Batch: [  13/13  ], LR: 0.00000056, Loss: 0.031641 (Avg: 0.030045), Elapsed: 742.43 ms\n",
      "Epoch: 39, Batch: [  13/13  ], LR: 0.00000047, Loss: 0.032521 (Avg: 0.030286), Elapsed: 746.23 ms\n",
      "Epoch: 40, Batch: [  13/13  ], LR: 0.00000038, Loss: 0.030656 (Avg: 0.030613), Elapsed: 744.92 ms\n",
      "INFO:__main__:Model weights saved at ./weight/event_bert_v2.pth\n",
      "Epoch: 41, Batch: [  13/13  ], LR: 0.00000031, Loss: 0.032669 (Avg: 0.030489), Elapsed: 743.63 ms\n",
      "Epoch: 42, Batch: [  13/13  ], LR: 0.00000025, Loss: 0.029664 (Avg: 0.030095), Elapsed: 744.44 ms\n",
      "Epoch: 43, Batch: [  13/13  ], LR: 0.00000020, Loss: 0.029467 (Avg: 0.030041), Elapsed: 743.61 ms\n",
      "Epoch: 44, Batch: [  13/13  ], LR: 0.00000016, Loss: 0.031875 (Avg: 0.029613), Elapsed: 744.63 ms\n",
      "Epoch: 45, Batch: [  13/13  ], LR: 0.00000013, Loss: 0.032850 (Avg: 0.029402), Elapsed: 745.88 ms\n",
      "Epoch: 46, Batch: [  13/13  ], LR: 0.00000011, Loss: 0.029252 (Avg: 0.029873), Elapsed: 742.31 ms\n",
      "Epoch: 47, Batch: [  13/13  ], LR: 0.00000010, Loss: 0.030951 (Avg: 0.030277), Elapsed: 745.82 ms\n",
      "Epoch: 48, Batch: [  13/13  ], LR: 0.00000010, Loss: 0.031443 (Avg: 0.029010), Elapsed: 742.55 ms\n",
      "Epoch: 49, Batch: [  13/13  ], LR: 0.00000010, Loss: 0.029533 (Avg: 0.029895), Elapsed: 742.46 ms\n",
      "Epoch: 50, Batch: [  13/13  ], LR: 0.00000010, Loss: 0.029373 (Avg: 0.029790), Elapsed: 732.01 ms\n",
      "INFO:__main__:Model weights saved at ./weight/event_bert_v2.pth\n",
      "INFO:__main__:Training completed successfully.\n"
     ]
    }
   ],
   "source": [
    "%reload_ext autoreload\n",
    "%autoreload 2\n",
    "!accelerate launch train.py "
   ]
  }
 ],
 "metadata": {
  "kernelspec": {
   "display_name": "Python 3",
   "language": "python",
   "name": "python3"
  },
  "language_info": {
   "codemirror_mode": {
    "name": "ipython",
    "version": 3
   },
   "file_extension": ".py",
   "mimetype": "text/x-python",
   "name": "python",
   "nbconvert_exporter": "python",
   "pygments_lexer": "ipython3",
   "version": "3.10.12"
  }
 },
 "nbformat": 4,
 "nbformat_minor": 5
}
