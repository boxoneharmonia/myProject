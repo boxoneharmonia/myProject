{
 "cells": [
  {
   "cell_type": "code",
   "execution_count": 1,
   "id": "3647c153-7c5b-4992-8e22-04accfe52683",
   "metadata": {},
   "outputs": [],
   "source": [
    "import numpy as np\n",
    "import os\n",
    "import pandas as pd\n",
    "from tqdm import tqdm\n",
    "import cv2\n",
    "\n",
    "def create_temporal_rgb_frame(df, ts_0, ts_1, height=200, width=200):\n",
    "    \"\"\"\n",
    "    Create a temporal RGB frame from event data within a given time window.\n",
    "\n",
    "    Args:\n",
    "        df (pd.DataFrame): DataFrame containing event data with columns ['t', 'x', 'y', 'p'].\n",
    "        ts_0 (float): Start timestamp (in microseconds).\n",
    "        ts_1 (float): End timestamp (in microseconds).\n",
    "        height (int): Height of the output image.\n",
    "        width (int): Width of the output image.\n",
    "\n",
    "    Returns:\n",
    "        np.ndarray: An (height, width, 3) uint8 RGB image where each color channel encodes events\n",
    "                    from a different third of the time window:\n",
    "                        - Red: events in the first third,\n",
    "                        - Green: events in the middle third,\n",
    "                        - Blue: events in the last third.\n",
    "    \"\"\"\n",
    "    ev_frame = np.zeros([height, width, 3], dtype=np.uint8)\n",
    "    \n",
    "    if df.empty or (ts_1 <= ts_0):\n",
    "        return ev_frame\n",
    "\n",
    "    window = ts_1 - ts_0\n",
    "    w1 = ts_0 + window / 3\n",
    "    w2 = ts_1 - window / 3\n",
    "\n",
    "    # --- red (1/3) ---\n",
    "    red_ev = df.loc[df['t'].between(ts_0, w1)]\n",
    "    if not red_ev.empty:\n",
    "        x = red_ev['x'].to_numpy()\n",
    "        y = red_ev['y'].to_numpy()\n",
    "        t = red_ev['t'].to_numpy()\n",
    "        \n",
    "        alpha = (t - ts_0) / window\n",
    "        ev_frame[y, x, 0] = np.clip(alpha * 255.0, 0, 255)\n",
    "\n",
    "    # --- green (2/3) ---\n",
    "    green_ev = df.loc[df['t'].between(w1, w2)]\n",
    "    if not green_ev.empty:\n",
    "        x = green_ev['x'].to_numpy()\n",
    "        y = green_ev['y'].to_numpy()\n",
    "        t = green_ev['t'].to_numpy()\n",
    "\n",
    "        alpha = (t - ts_0) / window\n",
    "        ev_frame[y, x, 1] = np.clip(alpha * 255.0, 0, 255)\n",
    "\n",
    "    # --- blue (3/3) ---\n",
    "    blue_ev = df.loc[df['t'].between(w2, ts_1)]\n",
    "    if not blue_ev.empty:\n",
    "        x = blue_ev['x'].to_numpy()\n",
    "        y = blue_ev['y'].to_numpy()\n",
    "        t = blue_ev['t'].to_numpy()\n",
    "\n",
    "        alpha = (t - ts_0) / window\n",
    "        ev_frame[y, x, 2] = np.clip(alpha * 255.0, 0, 255)\n",
    "        \n",
    "    return ev_frame\n",
    "\n",
    "def create_temporal_mono_frame(df, ts_0, ts_1, height=200, width=200):\n",
    "    \"\"\"\n",
    "    Create a temporal mono frame from event data within a given time window.\n",
    "\n",
    "    Args:\n",
    "        df (pd.DataFrame): DataFrame containing event data with columns ['t', 'x', 'y', 'p'].\n",
    "        ts_0 (float): Start timestamp (in microseconds).\n",
    "        ts_1 (float): End timestamp (in microseconds).\n",
    "        height (int): Height of the output image.\n",
    "        width (int): Width of the output image.\n",
    "\n",
    "    Returns:\n",
    "        np.ndarray: An (height, width, 1) uint8 Mono image where one channel encodes events\n",
    "    \"\"\"\n",
    "    ev_frame = np.zeros([height, width, 1], dtype=np.uint8)\n",
    "    \n",
    "    if df.empty or (ts_1 <= ts_0):\n",
    "        return ev_frame\n",
    "\n",
    "    x = df['x'].to_numpy()\n",
    "    y = df['y'].to_numpy()\n",
    "    t = df['t'].to_numpy()\n",
    "        \n",
    "    alpha = (t - ts_0) / (ts_1 - ts_0)\n",
    "    ev_frame[y, x, 0] = (255.0 * np.clip(alpha*0.2 + 0.8, 0, 1) + 0.5).clip(0, 255.0).astype(np.uint8) \n",
    "    \n",
    "    return ev_frame\n",
    "\n",
    "def generate_event_images(filename, domain='train' , outdir='./dataset/train', divider=1, img_height=200, img_width=200, mode='mono'):\n",
    "    \"\"\"\n",
    "    Generate and save temporal event images from event-based data.\n",
    "\n",
    "    Args:\n",
    "        filename (str): Name of the .npz file (without extension) containing event data.\n",
    "        domain (str): Subdirectory under './data' and './dataset' (e.g., 'train', 'test').\n",
    "        outdir (str): Output directory to save generated images.\n",
    "        divider (int): Number of subdivisions per timestamp interval for interpolation.\n",
    "        img_height (int): Height of the output images.\n",
    "        img_width (int): Width of the output images.\n",
    "    \"\"\"\n",
    "    datapath = './data'\n",
    "    fpath = os.path.join(datapath, domain, filename + '.npz')\n",
    "    outpath = os.path.join(outdir, filename + '_' + str(divider), 'img')\n",
    "    os.makedirs(outpath, exist_ok=True)\n",
    "    \n",
    "    sequence = np.load(fpath)\n",
    "    events = sequence['events']\n",
    "    timestamps = sequence['timestamps'] \n",
    "    # traj = sequence['traj']\n",
    "    # range_meter = sequence['range_meter']\n",
    "\n",
    "    ev_data = pd.DataFrame(events, columns=['t', 'x', 'y', 'p']).set_index('t').sort_index()\n",
    "    # ts_data = pd.DataFrame(t, columns=['time/s'])\n",
    "    # traj_data = pd.DataFrame(x, columns=['x', 'y', 'z', 'vx', 'vy', 'vz', 'roll', 'pitch', 'yaw','wr', 'wp', 'wy'])\n",
    "    # rm_data = pd.DataFrame(rm, columns=['time/s', 'd/m'])\n",
    "\n",
    "    new_ts_list = []\n",
    "    if divider == 1:\n",
    "        new_ts_list = timestamps\n",
    "        ts_us = new_ts_list * 1e6\n",
    "    else: \n",
    "        for i in range(len(timestamps) - 1):\n",
    "            start_time = timestamps[i]\n",
    "            end_time = timestamps[i+1]\n",
    "            interpolated_times = np.linspace(start_time, end_time, divider, endpoint=False)\n",
    "            new_ts_list.append(interpolated_times)\n",
    "    \n",
    "        new_ts_list.append(np.array([timestamps[-1]]))\n",
    "        ts_us = np.concatenate(new_ts_list) * 1e6\n",
    "        \n",
    "    event_groups_list = []\n",
    "\n",
    "    for i in tqdm(range(len(ts_us))):\n",
    "        if (i != len(ts_us) - 1): \n",
    "            ts_0 = ts_us[i]\n",
    "            ts_1 = ts_us[i+1]\n",
    "            df = ev_data.loc[ts_0 : ts_1 - 1].reset_index()\n",
    "        else:\n",
    "            ts_0 = ts_us[i]\n",
    "            ts_1 = 2 * ts_0 - ts_us[i - 1]\n",
    "            df = ev_data.loc[ts_0 : ts_1 - 1].reset_index()\n",
    "\n",
    "        df_pos = df[df['p'] == True] \n",
    "        df_neg = df[df['p'] == False]\n",
    "        \n",
    "        imgname_pos = os.path.join(outpath, f\"{i:04d}_pos.png\")\n",
    "        imgname_neg = os.path.join(outpath, f\"{i:04d}_neg.png\")\n",
    "\n",
    "        if mode == 'rgb':\n",
    "            rgb_pos = create_temporal_rgb_frame(df_pos, ts_0, ts_1, 200, 200)\n",
    "            bgr_pos = cv2.cvtColor(rgb_pos, cv2.COLOR_RGB2BGR)\n",
    "            bgr_pos = cv2.resize(bgr_pos, (img_width, img_height), interpolation=cv2.INTER_LANCZOS4)\n",
    "            rgb_neg = create_temporal_rgb_frame(df_neg, ts_0, ts_1, 200, 200)\n",
    "            bgr_neg = cv2.cvtColor(rgb_neg, cv2.COLOR_RGB2BGR)\n",
    "            bgr_neg = cv2.resize(bgr_neg, (img_width, img_height), interpolation=cv2.INTER_LANCZOS4)\n",
    "            cv2.imwrite(imgname_pos, bgr_pos)\n",
    "            cv2.imwrite(imgname_neg, bgr_neg)\n",
    "        elif mode == 'mono':\n",
    "            mono_pos = create_temporal_mono_frame(df_pos, ts_0, ts_1, 200, 200)\n",
    "            mono_neg = create_temporal_mono_frame(df_neg, ts_0, ts_1, 200, 200)\n",
    "            mono_pos = cv2.resize(mono_pos, (img_width, img_height), interpolation=cv2.INTER_LANCZOS4)\n",
    "            mono_neg = cv2.resize(mono_neg, (img_width, img_height), interpolation=cv2.INTER_LANCZOS4)\n",
    "            cv2.imwrite(imgname_pos, mono_pos)\n",
    "            cv2.imwrite(imgname_neg, mono_neg)\n",
    "        \n",
    "    print(f\"Save {len(ts_us)} couples of imgs(pos/neg) at {outpath}. \")\n",
    "\n",
    "def generate_traj_data(filename, domain='train' , outdir='./dataset', divider=1):\n",
    "    \"\"\"\n",
    "    根据输入的npz文件,产生所有时间窗口的轨迹的插值\n",
    "    Args:\n",
    "        filename (str): 读取的npz文件名 (不含扩展名)。\n",
    "        domain (str): 'train' 或 'test' 等子目录。\n",
    "        outdir (str): 输出数据的根文件夹。\n",
    "        divider (int): 时间戳间隔的细分数量。\n",
    "    \"\"\"\n",
    "    datapath = './data'\n",
    "    fpath = os.path.join(datapath, domain, filename + '.npz')\n",
    "    outpath = os.path.join(outdir, filename + '_' + str(divider), 'data')\n",
    "    os.makedirs(outpath, exist_ok=True)\n",
    "    \n",
    "    sequence = np.load(fpath)\n",
    "    traj = sequence['traj']\n",
    "    timestamps = sequence['timestamps'] \n",
    "    range_meter = sequence['range_meter']\n",
    "\n",
    "    traj_new_list = []\n",
    "\n",
    "    if divider == 1:\n",
    "        ts_new = timestamps\n",
    "        traj_new = traj\n",
    "    else: \n",
    "        ts_new_list = []\n",
    "        for i in range(len(timestamps) - 1):\n",
    "            start_time = timestamps[i]\n",
    "            end_time = timestamps[i+1]\n",
    "            interpolated_times = np.linspace(start_time, end_time, divider, endpoint=False)\n",
    "            ts_new_list.append(interpolated_times)\n",
    "\n",
    "            start_vec = traj[i] \n",
    "            end_vec = traj[i+1] \n",
    "            interpolated_vec = np.linspace(start_vec, end_vec, divider, endpoint=False)\n",
    "            traj_new_list.append(interpolated_vec)\n",
    "    \n",
    "        ts_new_list.append(np.array([timestamps[-1]]))\n",
    "        ts_new = np.concatenate(ts_new_list)\n",
    "        traj_new_list.append(traj[-1].reshape(1, -1))\n",
    "        traj_new = np.concatenate(traj_new_list, axis=0)\n",
    "\n",
    "    range_orig_times = range_meter[:, 0]\n",
    "    range_orig_dists = range_meter[:, 1]\n",
    "    range_new_dists = np.interp(ts_new, range_orig_times, range_orig_dists)\n",
    "    \n",
    "    df = pd.DataFrame(traj_new, columns=['x', 'y', 'z','vx', 'vy', 'vz', 'roll', 'pitch', 'yaw','wr', 'wp', 'wy'])\n",
    "    df['rangemeter'] = range_new_dists\n",
    "    dt = ts_new[1]\n",
    "    df['dt'] = dt\n",
    "    csvpath = os.path.join(outpath, 'trajectory.csv')\n",
    "    df.to_csv(csvpath, index=False)\n",
    "    print(f\"Save {len(df)} lines of trajectory data to {csvpath}.\")"
   ]
  },
  {
   "cell_type": "code",
   "execution_count": 4,
   "id": "80d61c88-4fe4-4056-90f7-8a861293a5a4",
   "metadata": {},
   "outputs": [
    {
     "name": "stdout",
     "output_type": "stream",
     "text": [
      "Save 477 lines of trajectory data to ./dataset/trajv2/0027_4/data/trajectory.csv.\n"
     ]
    }
   ],
   "source": [
    "for i in [4]:\n",
    "    for j in range(27,28):\n",
    "        file_num = str(j).zfill(4)\n",
    "        # generate_event_images(file_num, domain='train' , outdir='./dataset/train', divider=i, mode='mono')\n",
    "        generate_traj_data(file_num, domain='train' , outdir='./dataset/trajv2', divider=i)"
   ]
  },
  {
   "cell_type": "code",
   "execution_count": 3,
   "id": "33fdaf59",
   "metadata": {},
   "outputs": [
    {
     "name": "stderr",
     "output_type": "stream",
     "text": [
      "100%|██████████| 477/477 [00:11<00:00, 42.34it/s]\n"
     ]
    },
    {
     "name": "stdout",
     "output_type": "stream",
     "text": [
      "Save 477 couples of imgs(pos/neg) at ./dataset/pretrainv2/0000_4/img. \n"
     ]
    },
    {
     "name": "stderr",
     "output_type": "stream",
     "text": [
      "100%|██████████| 477/477 [00:09<00:00, 52.66it/s]\n"
     ]
    },
    {
     "name": "stdout",
     "output_type": "stream",
     "text": [
      "Save 477 couples of imgs(pos/neg) at ./dataset/pretrainv2/0001_4/img. \n"
     ]
    },
    {
     "name": "stderr",
     "output_type": "stream",
     "text": [
      "100%|██████████| 477/477 [00:03<00:00, 158.36it/s]\n"
     ]
    },
    {
     "name": "stdout",
     "output_type": "stream",
     "text": [
      "Save 477 couples of imgs(pos/neg) at ./dataset/pretrainv2/0002_4/img. \n"
     ]
    },
    {
     "name": "stderr",
     "output_type": "stream",
     "text": [
      "100%|██████████| 477/477 [00:11<00:00, 40.77it/s]\n"
     ]
    },
    {
     "name": "stdout",
     "output_type": "stream",
     "text": [
      "Save 477 couples of imgs(pos/neg) at ./dataset/pretrainv2/0003_4/img. \n"
     ]
    },
    {
     "name": "stderr",
     "output_type": "stream",
     "text": [
      "100%|██████████| 477/477 [00:00<00:00, 586.73it/s]\n"
     ]
    },
    {
     "name": "stdout",
     "output_type": "stream",
     "text": [
      "Save 477 couples of imgs(pos/neg) at ./dataset/pretrainv2/0004_4/img. \n"
     ]
    },
    {
     "name": "stderr",
     "output_type": "stream",
     "text": [
      "100%|██████████| 477/477 [00:00<00:00, 490.53it/s]\n"
     ]
    },
    {
     "name": "stdout",
     "output_type": "stream",
     "text": [
      "Save 477 couples of imgs(pos/neg) at ./dataset/pretrainv2/0005_4/img. \n"
     ]
    },
    {
     "name": "stderr",
     "output_type": "stream",
     "text": [
      "100%|██████████| 477/477 [00:03<00:00, 146.22it/s]\n"
     ]
    },
    {
     "name": "stdout",
     "output_type": "stream",
     "text": [
      "Save 477 couples of imgs(pos/neg) at ./dataset/pretrainv2/0006_4/img. \n"
     ]
    },
    {
     "name": "stderr",
     "output_type": "stream",
     "text": [
      "100%|██████████| 477/477 [00:09<00:00, 51.30it/s]\n"
     ]
    },
    {
     "name": "stdout",
     "output_type": "stream",
     "text": [
      "Save 477 couples of imgs(pos/neg) at ./dataset/pretrainv2/0007_4/img. \n"
     ]
    },
    {
     "name": "stderr",
     "output_type": "stream",
     "text": [
      "100%|██████████| 477/477 [00:11<00:00, 41.15it/s]\n"
     ]
    },
    {
     "name": "stdout",
     "output_type": "stream",
     "text": [
      "Save 477 couples of imgs(pos/neg) at ./dataset/pretrainv2/0008_4/img. \n"
     ]
    },
    {
     "name": "stderr",
     "output_type": "stream",
     "text": [
      "100%|██████████| 477/477 [00:00<00:00, 588.95it/s]\n"
     ]
    },
    {
     "name": "stdout",
     "output_type": "stream",
     "text": [
      "Save 477 couples of imgs(pos/neg) at ./dataset/pretrainv2/0009_4/img. \n"
     ]
    },
    {
     "name": "stderr",
     "output_type": "stream",
     "text": [
      "100%|██████████| 477/477 [00:01<00:00, 320.49it/s]\n"
     ]
    },
    {
     "name": "stdout",
     "output_type": "stream",
     "text": [
      "Save 477 couples of imgs(pos/neg) at ./dataset/pretrainv2/0010_4/img. \n"
     ]
    },
    {
     "name": "stderr",
     "output_type": "stream",
     "text": [
      "100%|██████████| 477/477 [00:04<00:00, 105.09it/s]\n"
     ]
    },
    {
     "name": "stdout",
     "output_type": "stream",
     "text": [
      "Save 477 couples of imgs(pos/neg) at ./dataset/pretrainv2/0011_4/img. \n"
     ]
    },
    {
     "name": "stderr",
     "output_type": "stream",
     "text": [
      "100%|██████████| 477/477 [00:03<00:00, 123.96it/s]\n"
     ]
    },
    {
     "name": "stdout",
     "output_type": "stream",
     "text": [
      "Save 477 couples of imgs(pos/neg) at ./dataset/pretrainv2/0012_4/img. \n"
     ]
    },
    {
     "name": "stderr",
     "output_type": "stream",
     "text": [
      "100%|██████████| 477/477 [00:14<00:00, 34.01it/s]\n"
     ]
    },
    {
     "name": "stdout",
     "output_type": "stream",
     "text": [
      "Save 477 couples of imgs(pos/neg) at ./dataset/pretrainv2/0013_4/img. \n"
     ]
    },
    {
     "name": "stderr",
     "output_type": "stream",
     "text": [
      "100%|██████████| 477/477 [00:05<00:00, 92.28it/s]\n"
     ]
    },
    {
     "name": "stdout",
     "output_type": "stream",
     "text": [
      "Save 477 couples of imgs(pos/neg) at ./dataset/pretrainv2/0014_4/img. \n"
     ]
    },
    {
     "name": "stderr",
     "output_type": "stream",
     "text": [
      "100%|██████████| 477/477 [00:14<00:00, 33.84it/s]\n"
     ]
    },
    {
     "name": "stdout",
     "output_type": "stream",
     "text": [
      "Save 477 couples of imgs(pos/neg) at ./dataset/pretrainv2/0015_4/img. \n"
     ]
    },
    {
     "name": "stderr",
     "output_type": "stream",
     "text": [
      "100%|██████████| 477/477 [00:14<00:00, 33.88it/s]\n"
     ]
    },
    {
     "name": "stdout",
     "output_type": "stream",
     "text": [
      "Save 477 couples of imgs(pos/neg) at ./dataset/pretrainv2/0016_4/img. \n"
     ]
    },
    {
     "name": "stderr",
     "output_type": "stream",
     "text": [
      "100%|██████████| 477/477 [00:02<00:00, 203.44it/s]\n"
     ]
    },
    {
     "name": "stdout",
     "output_type": "stream",
     "text": [
      "Save 477 couples of imgs(pos/neg) at ./dataset/pretrainv2/0017_4/img. \n"
     ]
    },
    {
     "name": "stderr",
     "output_type": "stream",
     "text": [
      "100%|██████████| 477/477 [00:00<00:00, 608.30it/s]\n"
     ]
    },
    {
     "name": "stdout",
     "output_type": "stream",
     "text": [
      "Save 477 couples of imgs(pos/neg) at ./dataset/pretrainv2/0018_4/img. \n"
     ]
    },
    {
     "name": "stderr",
     "output_type": "stream",
     "text": [
      "100%|██████████| 477/477 [00:00<00:00, 582.03it/s]\n"
     ]
    },
    {
     "name": "stdout",
     "output_type": "stream",
     "text": [
      "Save 477 couples of imgs(pos/neg) at ./dataset/pretrainv2/0019_4/img. \n"
     ]
    },
    {
     "name": "stderr",
     "output_type": "stream",
     "text": [
      "100%|██████████| 477/477 [00:01<00:00, 435.39it/s]\n"
     ]
    },
    {
     "name": "stdout",
     "output_type": "stream",
     "text": [
      "Save 477 couples of imgs(pos/neg) at ./dataset/pretrainv2/0020_4/img. \n"
     ]
    },
    {
     "name": "stderr",
     "output_type": "stream",
     "text": [
      "100%|██████████| 477/477 [00:01<00:00, 459.93it/s]\n"
     ]
    },
    {
     "name": "stdout",
     "output_type": "stream",
     "text": [
      "Save 477 couples of imgs(pos/neg) at ./dataset/pretrainv2/0021_4/img. \n"
     ]
    },
    {
     "name": "stderr",
     "output_type": "stream",
     "text": [
      "100%|██████████| 477/477 [00:00<00:00, 604.26it/s]\n"
     ]
    },
    {
     "name": "stdout",
     "output_type": "stream",
     "text": [
      "Save 477 couples of imgs(pos/neg) at ./dataset/pretrainv2/0022_4/img. \n"
     ]
    },
    {
     "name": "stderr",
     "output_type": "stream",
     "text": [
      "100%|██████████| 477/477 [00:23<00:00, 20.70it/s]\n"
     ]
    },
    {
     "name": "stdout",
     "output_type": "stream",
     "text": [
      "Save 477 couples of imgs(pos/neg) at ./dataset/pretrainv2/0023_4/img. \n"
     ]
    },
    {
     "name": "stderr",
     "output_type": "stream",
     "text": [
      "100%|██████████| 477/477 [00:04<00:00, 117.47it/s]\n"
     ]
    },
    {
     "name": "stdout",
     "output_type": "stream",
     "text": [
      "Save 477 couples of imgs(pos/neg) at ./dataset/pretrainv2/0024_4/img. \n"
     ]
    },
    {
     "name": "stderr",
     "output_type": "stream",
     "text": [
      "100%|██████████| 477/477 [00:01<00:00, 462.67it/s]\n"
     ]
    },
    {
     "name": "stdout",
     "output_type": "stream",
     "text": [
      "Save 477 couples of imgs(pos/neg) at ./dataset/pretrainv2/0025_4/img. \n"
     ]
    },
    {
     "name": "stderr",
     "output_type": "stream",
     "text": [
      "100%|██████████| 477/477 [00:01<00:00, 376.98it/s]\n"
     ]
    },
    {
     "name": "stdout",
     "output_type": "stream",
     "text": [
      "Save 477 couples of imgs(pos/neg) at ./dataset/pretrainv2/0026_4/img. \n"
     ]
    },
    {
     "name": "stderr",
     "output_type": "stream",
     "text": [
      "100%|██████████| 477/477 [00:04<00:00, 95.65it/s]"
     ]
    },
    {
     "name": "stdout",
     "output_type": "stream",
     "text": [
      "Save 477 couples of imgs(pos/neg) at ./dataset/pretrainv2/0027_4/img. \n"
     ]
    },
    {
     "name": "stderr",
     "output_type": "stream",
     "text": [
      "\n"
     ]
    }
   ],
   "source": [
    "for i in [4]:\n",
    "    for j in range(0, 28):\n",
    "        file_num = str(j).zfill(4)\n",
    "        generate_event_images(file_num, domain='train' , outdir='./dataset/pretrainv2', divider=i, mode='mono', img_height=128, img_width=128)"
   ]
  },
  {
   "cell_type": "code",
   "execution_count": 4,
   "id": "bfe8ef24",
   "metadata": {},
   "outputs": [
    {
     "name": "stderr",
     "output_type": "stream",
     "text": [
      "100%|██████████| 477/477 [00:01<00:00, 420.52it/s]\n"
     ]
    },
    {
     "name": "stdout",
     "output_type": "stream",
     "text": [
      "Save 477 couples of imgs(pos/neg) at ./dataset/pretrainv2/0028_4/img. \n"
     ]
    },
    {
     "name": "stderr",
     "output_type": "stream",
     "text": [
      "100%|██████████| 477/477 [00:00<00:00, 485.59it/s]\n"
     ]
    },
    {
     "name": "stdout",
     "output_type": "stream",
     "text": [
      "Save 477 couples of imgs(pos/neg) at ./dataset/pretrainv2/0029_4/img. \n"
     ]
    },
    {
     "name": "stderr",
     "output_type": "stream",
     "text": [
      "100%|██████████| 477/477 [00:03<00:00, 153.57it/s]\n"
     ]
    },
    {
     "name": "stdout",
     "output_type": "stream",
     "text": [
      "Save 477 couples of imgs(pos/neg) at ./dataset/pretrainv2/0030_4/img. \n"
     ]
    },
    {
     "name": "stderr",
     "output_type": "stream",
     "text": [
      "100%|██████████| 477/477 [00:17<00:00, 28.01it/s]\n"
     ]
    },
    {
     "name": "stdout",
     "output_type": "stream",
     "text": [
      "Save 477 couples of imgs(pos/neg) at ./dataset/pretrainv2/0031_4/img. \n"
     ]
    },
    {
     "name": "stderr",
     "output_type": "stream",
     "text": [
      "100%|██████████| 477/477 [00:00<00:00, 634.08it/s]\n"
     ]
    },
    {
     "name": "stdout",
     "output_type": "stream",
     "text": [
      "Save 477 couples of imgs(pos/neg) at ./dataset/pretrainv2/0032_4/img. \n"
     ]
    },
    {
     "name": "stderr",
     "output_type": "stream",
     "text": [
      "100%|██████████| 477/477 [00:02<00:00, 215.63it/s]\n"
     ]
    },
    {
     "name": "stdout",
     "output_type": "stream",
     "text": [
      "Save 477 couples of imgs(pos/neg) at ./dataset/pretrainv2/0033_4/img. \n"
     ]
    },
    {
     "name": "stderr",
     "output_type": "stream",
     "text": [
      "100%|██████████| 477/477 [00:03<00:00, 130.57it/s]\n"
     ]
    },
    {
     "name": "stdout",
     "output_type": "stream",
     "text": [
      "Save 477 couples of imgs(pos/neg) at ./dataset/pretrainv2/0034_4/img. \n"
     ]
    },
    {
     "name": "stderr",
     "output_type": "stream",
     "text": [
      "100%|██████████| 477/477 [00:03<00:00, 143.44it/s]\n"
     ]
    },
    {
     "name": "stdout",
     "output_type": "stream",
     "text": [
      "Save 477 couples of imgs(pos/neg) at ./dataset/pretrainv2/0035_4/img. \n"
     ]
    },
    {
     "name": "stderr",
     "output_type": "stream",
     "text": [
      "100%|██████████| 477/477 [00:05<00:00, 91.67it/s]\n"
     ]
    },
    {
     "name": "stdout",
     "output_type": "stream",
     "text": [
      "Save 477 couples of imgs(pos/neg) at ./dataset/pretrainv2/0036_4/img. \n"
     ]
    },
    {
     "name": "stderr",
     "output_type": "stream",
     "text": [
      "100%|██████████| 477/477 [00:02<00:00, 229.77it/s]\n"
     ]
    },
    {
     "name": "stdout",
     "output_type": "stream",
     "text": [
      "Save 477 couples of imgs(pos/neg) at ./dataset/pretrainv2/0037_4/img. \n"
     ]
    },
    {
     "name": "stderr",
     "output_type": "stream",
     "text": [
      "100%|██████████| 477/477 [00:01<00:00, 453.30it/s]\n"
     ]
    },
    {
     "name": "stdout",
     "output_type": "stream",
     "text": [
      "Save 477 couples of imgs(pos/neg) at ./dataset/pretrainv2/0038_4/img. \n"
     ]
    },
    {
     "name": "stderr",
     "output_type": "stream",
     "text": [
      "100%|██████████| 477/477 [00:02<00:00, 217.15it/s]\n"
     ]
    },
    {
     "name": "stdout",
     "output_type": "stream",
     "text": [
      "Save 477 couples of imgs(pos/neg) at ./dataset/pretrainv2/0039_4/img. \n"
     ]
    },
    {
     "name": "stderr",
     "output_type": "stream",
     "text": [
      "100%|██████████| 477/477 [00:03<00:00, 141.15it/s]\n"
     ]
    },
    {
     "name": "stdout",
     "output_type": "stream",
     "text": [
      "Save 477 couples of imgs(pos/neg) at ./dataset/pretrainv2/0040_4/img. \n"
     ]
    },
    {
     "name": "stderr",
     "output_type": "stream",
     "text": [
      "100%|██████████| 477/477 [00:01<00:00, 434.93it/s]\n"
     ]
    },
    {
     "name": "stdout",
     "output_type": "stream",
     "text": [
      "Save 477 couples of imgs(pos/neg) at ./dataset/pretrainv2/0041_4/img. \n"
     ]
    },
    {
     "name": "stderr",
     "output_type": "stream",
     "text": [
      "100%|██████████| 477/477 [00:13<00:00, 36.25it/s]\n"
     ]
    },
    {
     "name": "stdout",
     "output_type": "stream",
     "text": [
      "Save 477 couples of imgs(pos/neg) at ./dataset/pretrainv2/0042_4/img. \n"
     ]
    },
    {
     "name": "stderr",
     "output_type": "stream",
     "text": [
      "100%|██████████| 477/477 [00:00<00:00, 481.06it/s]\n"
     ]
    },
    {
     "name": "stdout",
     "output_type": "stream",
     "text": [
      "Save 477 couples of imgs(pos/neg) at ./dataset/pretrainv2/0043_4/img. \n"
     ]
    },
    {
     "name": "stderr",
     "output_type": "stream",
     "text": [
      "100%|██████████| 477/477 [00:11<00:00, 40.46it/s]\n"
     ]
    },
    {
     "name": "stdout",
     "output_type": "stream",
     "text": [
      "Save 477 couples of imgs(pos/neg) at ./dataset/pretrainv2/0044_4/img. \n"
     ]
    },
    {
     "name": "stderr",
     "output_type": "stream",
     "text": [
      "100%|██████████| 477/477 [00:00<00:00, 633.41it/s]\n"
     ]
    },
    {
     "name": "stdout",
     "output_type": "stream",
     "text": [
      "Save 477 couples of imgs(pos/neg) at ./dataset/pretrainv2/0045_4/img. \n"
     ]
    },
    {
     "name": "stderr",
     "output_type": "stream",
     "text": [
      "100%|██████████| 477/477 [00:01<00:00, 459.27it/s]\n"
     ]
    },
    {
     "name": "stdout",
     "output_type": "stream",
     "text": [
      "Save 477 couples of imgs(pos/neg) at ./dataset/pretrainv2/0046_4/img. \n"
     ]
    },
    {
     "name": "stderr",
     "output_type": "stream",
     "text": [
      "100%|██████████| 477/477 [00:15<00:00, 30.21it/s]\n"
     ]
    },
    {
     "name": "stdout",
     "output_type": "stream",
     "text": [
      "Save 477 couples of imgs(pos/neg) at ./dataset/pretrainv2/0047_4/img. \n"
     ]
    },
    {
     "name": "stderr",
     "output_type": "stream",
     "text": [
      "100%|██████████| 477/477 [00:01<00:00, 286.38it/s]\n"
     ]
    },
    {
     "name": "stdout",
     "output_type": "stream",
     "text": [
      "Save 477 couples of imgs(pos/neg) at ./dataset/pretrainv2/0048_4/img. \n"
     ]
    },
    {
     "name": "stderr",
     "output_type": "stream",
     "text": [
      "100%|██████████| 477/477 [00:09<00:00, 51.66it/s]\n"
     ]
    },
    {
     "name": "stdout",
     "output_type": "stream",
     "text": [
      "Save 477 couples of imgs(pos/neg) at ./dataset/pretrainv2/0049_4/img. \n"
     ]
    },
    {
     "name": "stderr",
     "output_type": "stream",
     "text": [
      "100%|██████████| 477/477 [00:01<00:00, 432.37it/s]\n"
     ]
    },
    {
     "name": "stdout",
     "output_type": "stream",
     "text": [
      "Save 477 couples of imgs(pos/neg) at ./dataset/pretrainv2/0050_4/img. \n"
     ]
    },
    {
     "name": "stderr",
     "output_type": "stream",
     "text": [
      "100%|██████████| 477/477 [00:17<00:00, 26.91it/s]\n"
     ]
    },
    {
     "name": "stdout",
     "output_type": "stream",
     "text": [
      "Save 477 couples of imgs(pos/neg) at ./dataset/pretrainv2/0051_4/img. \n"
     ]
    },
    {
     "name": "stderr",
     "output_type": "stream",
     "text": [
      "100%|██████████| 477/477 [00:04<00:00, 117.97it/s]\n"
     ]
    },
    {
     "name": "stdout",
     "output_type": "stream",
     "text": [
      "Save 477 couples of imgs(pos/neg) at ./dataset/pretrainv2/0052_4/img. \n"
     ]
    },
    {
     "name": "stderr",
     "output_type": "stream",
     "text": [
      "100%|██████████| 477/477 [00:12<00:00, 39.71it/s]\n"
     ]
    },
    {
     "name": "stdout",
     "output_type": "stream",
     "text": [
      "Save 477 couples of imgs(pos/neg) at ./dataset/pretrainv2/0053_4/img. \n"
     ]
    },
    {
     "name": "stderr",
     "output_type": "stream",
     "text": [
      "100%|██████████| 477/477 [00:00<00:00, 507.80it/s]\n"
     ]
    },
    {
     "name": "stdout",
     "output_type": "stream",
     "text": [
      "Save 477 couples of imgs(pos/neg) at ./dataset/pretrainv2/0054_4/img. \n"
     ]
    },
    {
     "name": "stderr",
     "output_type": "stream",
     "text": [
      "100%|██████████| 477/477 [00:03<00:00, 142.32it/s]\n"
     ]
    },
    {
     "name": "stdout",
     "output_type": "stream",
     "text": [
      "Save 477 couples of imgs(pos/neg) at ./dataset/pretrainv2/0055_4/img. \n"
     ]
    },
    {
     "name": "stderr",
     "output_type": "stream",
     "text": [
      "100%|██████████| 477/477 [00:01<00:00, 454.40it/s]\n"
     ]
    },
    {
     "name": "stdout",
     "output_type": "stream",
     "text": [
      "Save 477 couples of imgs(pos/neg) at ./dataset/pretrainv2/0056_4/img. \n"
     ]
    },
    {
     "name": "stderr",
     "output_type": "stream",
     "text": [
      "100%|██████████| 477/477 [00:00<00:00, 512.00it/s]\n"
     ]
    },
    {
     "name": "stdout",
     "output_type": "stream",
     "text": [
      "Save 477 couples of imgs(pos/neg) at ./dataset/pretrainv2/0057_4/img. \n"
     ]
    },
    {
     "name": "stderr",
     "output_type": "stream",
     "text": [
      "100%|██████████| 477/477 [00:14<00:00, 32.86it/s]\n"
     ]
    },
    {
     "name": "stdout",
     "output_type": "stream",
     "text": [
      "Save 477 couples of imgs(pos/neg) at ./dataset/pretrainv2/0058_4/img. \n"
     ]
    },
    {
     "name": "stderr",
     "output_type": "stream",
     "text": [
      "100%|██████████| 477/477 [00:04<00:00, 107.62it/s]\n"
     ]
    },
    {
     "name": "stdout",
     "output_type": "stream",
     "text": [
      "Save 477 couples of imgs(pos/neg) at ./dataset/pretrainv2/0059_4/img. \n"
     ]
    },
    {
     "name": "stderr",
     "output_type": "stream",
     "text": [
      "100%|██████████| 477/477 [00:00<00:00, 612.60it/s]\n"
     ]
    },
    {
     "name": "stdout",
     "output_type": "stream",
     "text": [
      "Save 477 couples of imgs(pos/neg) at ./dataset/pretrainv2/0060_4/img. \n"
     ]
    },
    {
     "name": "stderr",
     "output_type": "stream",
     "text": [
      "100%|██████████| 477/477 [00:05<00:00, 94.53it/s]\n"
     ]
    },
    {
     "name": "stdout",
     "output_type": "stream",
     "text": [
      "Save 477 couples of imgs(pos/neg) at ./dataset/pretrainv2/0061_4/img. \n"
     ]
    },
    {
     "name": "stderr",
     "output_type": "stream",
     "text": [
      "100%|██████████| 477/477 [00:14<00:00, 33.70it/s]\n"
     ]
    },
    {
     "name": "stdout",
     "output_type": "stream",
     "text": [
      "Save 477 couples of imgs(pos/neg) at ./dataset/pretrainv2/0062_4/img. \n"
     ]
    },
    {
     "name": "stderr",
     "output_type": "stream",
     "text": [
      "100%|██████████| 477/477 [00:05<00:00, 94.51it/s]\n"
     ]
    },
    {
     "name": "stdout",
     "output_type": "stream",
     "text": [
      "Save 477 couples of imgs(pos/neg) at ./dataset/pretrainv2/0063_4/img. \n"
     ]
    },
    {
     "name": "stderr",
     "output_type": "stream",
     "text": [
      "100%|██████████| 477/477 [00:02<00:00, 221.16it/s]\n"
     ]
    },
    {
     "name": "stdout",
     "output_type": "stream",
     "text": [
      "Save 477 couples of imgs(pos/neg) at ./dataset/pretrainv2/0064_4/img. \n"
     ]
    },
    {
     "name": "stderr",
     "output_type": "stream",
     "text": [
      "100%|██████████| 477/477 [00:00<00:00, 613.65it/s]\n"
     ]
    },
    {
     "name": "stdout",
     "output_type": "stream",
     "text": [
      "Save 477 couples of imgs(pos/neg) at ./dataset/pretrainv2/0065_4/img. \n"
     ]
    },
    {
     "name": "stderr",
     "output_type": "stream",
     "text": [
      "100%|██████████| 477/477 [00:16<00:00, 29.16it/s]\n"
     ]
    },
    {
     "name": "stdout",
     "output_type": "stream",
     "text": [
      "Save 477 couples of imgs(pos/neg) at ./dataset/pretrainv2/0066_4/img. \n"
     ]
    },
    {
     "name": "stderr",
     "output_type": "stream",
     "text": [
      "100%|██████████| 477/477 [00:12<00:00, 38.00it/s]\n"
     ]
    },
    {
     "name": "stdout",
     "output_type": "stream",
     "text": [
      "Save 477 couples of imgs(pos/neg) at ./dataset/pretrainv2/0067_4/img. \n"
     ]
    },
    {
     "name": "stderr",
     "output_type": "stream",
     "text": [
      "100%|██████████| 477/477 [00:03<00:00, 153.73it/s]\n"
     ]
    },
    {
     "name": "stdout",
     "output_type": "stream",
     "text": [
      "Save 477 couples of imgs(pos/neg) at ./dataset/pretrainv2/0068_4/img. \n"
     ]
    },
    {
     "name": "stderr",
     "output_type": "stream",
     "text": [
      "100%|██████████| 477/477 [00:00<00:00, 618.72it/s]\n"
     ]
    },
    {
     "name": "stdout",
     "output_type": "stream",
     "text": [
      "Save 477 couples of imgs(pos/neg) at ./dataset/pretrainv2/0069_4/img. \n"
     ]
    },
    {
     "name": "stderr",
     "output_type": "stream",
     "text": [
      "100%|██████████| 477/477 [00:02<00:00, 207.39it/s]\n"
     ]
    },
    {
     "name": "stdout",
     "output_type": "stream",
     "text": [
      "Save 477 couples of imgs(pos/neg) at ./dataset/pretrainv2/0070_4/img. \n"
     ]
    },
    {
     "name": "stderr",
     "output_type": "stream",
     "text": [
      "100%|██████████| 477/477 [00:03<00:00, 139.24it/s]\n"
     ]
    },
    {
     "name": "stdout",
     "output_type": "stream",
     "text": [
      "Save 477 couples of imgs(pos/neg) at ./dataset/pretrainv2/0071_4/img. \n"
     ]
    },
    {
     "name": "stderr",
     "output_type": "stream",
     "text": [
      "100%|██████████| 477/477 [00:04<00:00, 115.89it/s]\n"
     ]
    },
    {
     "name": "stdout",
     "output_type": "stream",
     "text": [
      "Save 477 couples of imgs(pos/neg) at ./dataset/pretrainv2/0072_4/img. \n"
     ]
    },
    {
     "name": "stderr",
     "output_type": "stream",
     "text": [
      "100%|██████████| 477/477 [00:14<00:00, 31.82it/s]\n"
     ]
    },
    {
     "name": "stdout",
     "output_type": "stream",
     "text": [
      "Save 477 couples of imgs(pos/neg) at ./dataset/pretrainv2/0073_4/img. \n"
     ]
    },
    {
     "name": "stderr",
     "output_type": "stream",
     "text": [
      "100%|██████████| 477/477 [00:10<00:00, 44.54it/s]\n"
     ]
    },
    {
     "name": "stdout",
     "output_type": "stream",
     "text": [
      "Save 477 couples of imgs(pos/neg) at ./dataset/pretrainv2/0074_4/img. \n"
     ]
    },
    {
     "name": "stderr",
     "output_type": "stream",
     "text": [
      "100%|██████████| 477/477 [00:00<00:00, 613.03it/s]\n"
     ]
    },
    {
     "name": "stdout",
     "output_type": "stream",
     "text": [
      "Save 477 couples of imgs(pos/neg) at ./dataset/pretrainv2/0075_4/img. \n"
     ]
    },
    {
     "name": "stderr",
     "output_type": "stream",
     "text": [
      "100%|██████████| 477/477 [00:00<00:00, 502.03it/s]\n"
     ]
    },
    {
     "name": "stdout",
     "output_type": "stream",
     "text": [
      "Save 477 couples of imgs(pos/neg) at ./dataset/pretrainv2/0076_4/img. \n"
     ]
    },
    {
     "name": "stderr",
     "output_type": "stream",
     "text": [
      "100%|██████████| 477/477 [00:04<00:00, 119.12it/s]\n"
     ]
    },
    {
     "name": "stdout",
     "output_type": "stream",
     "text": [
      "Save 477 couples of imgs(pos/neg) at ./dataset/pretrainv2/0077_4/img. \n"
     ]
    },
    {
     "name": "stderr",
     "output_type": "stream",
     "text": [
      "100%|██████████| 477/477 [00:03<00:00, 138.19it/s]\n"
     ]
    },
    {
     "name": "stdout",
     "output_type": "stream",
     "text": [
      "Save 477 couples of imgs(pos/neg) at ./dataset/pretrainv2/0078_4/img. \n"
     ]
    },
    {
     "name": "stderr",
     "output_type": "stream",
     "text": [
      "100%|██████████| 477/477 [00:01<00:00, 459.19it/s]\n"
     ]
    },
    {
     "name": "stdout",
     "output_type": "stream",
     "text": [
      "Save 477 couples of imgs(pos/neg) at ./dataset/pretrainv2/0079_4/img. \n"
     ]
    },
    {
     "name": "stderr",
     "output_type": "stream",
     "text": [
      "100%|██████████| 477/477 [00:00<00:00, 484.16it/s]\n"
     ]
    },
    {
     "name": "stdout",
     "output_type": "stream",
     "text": [
      "Save 477 couples of imgs(pos/neg) at ./dataset/pretrainv2/0080_4/img. \n"
     ]
    },
    {
     "name": "stderr",
     "output_type": "stream",
     "text": [
      "100%|██████████| 477/477 [00:01<00:00, 458.25it/s]\n"
     ]
    },
    {
     "name": "stdout",
     "output_type": "stream",
     "text": [
      "Save 477 couples of imgs(pos/neg) at ./dataset/pretrainv2/0081_4/img. \n"
     ]
    },
    {
     "name": "stderr",
     "output_type": "stream",
     "text": [
      "100%|██████████| 477/477 [00:02<00:00, 184.21it/s]\n"
     ]
    },
    {
     "name": "stdout",
     "output_type": "stream",
     "text": [
      "Save 477 couples of imgs(pos/neg) at ./dataset/pretrainv2/0082_4/img. \n"
     ]
    },
    {
     "name": "stderr",
     "output_type": "stream",
     "text": [
      "100%|██████████| 477/477 [00:01<00:00, 445.54it/s]\n"
     ]
    },
    {
     "name": "stdout",
     "output_type": "stream",
     "text": [
      "Save 477 couples of imgs(pos/neg) at ./dataset/pretrainv2/0083_4/img. \n"
     ]
    },
    {
     "name": "stderr",
     "output_type": "stream",
     "text": [
      "100%|██████████| 477/477 [00:05<00:00, 93.19it/s]\n"
     ]
    },
    {
     "name": "stdout",
     "output_type": "stream",
     "text": [
      "Save 477 couples of imgs(pos/neg) at ./dataset/pretrainv2/0084_4/img. \n"
     ]
    },
    {
     "name": "stderr",
     "output_type": "stream",
     "text": [
      "100%|██████████| 477/477 [00:00<00:00, 497.89it/s]\n"
     ]
    },
    {
     "name": "stdout",
     "output_type": "stream",
     "text": [
      "Save 477 couples of imgs(pos/neg) at ./dataset/pretrainv2/0085_4/img. \n"
     ]
    },
    {
     "name": "stderr",
     "output_type": "stream",
     "text": [
      "100%|██████████| 477/477 [00:01<00:00, 435.01it/s]\n"
     ]
    },
    {
     "name": "stdout",
     "output_type": "stream",
     "text": [
      "Save 477 couples of imgs(pos/neg) at ./dataset/pretrainv2/0086_4/img. \n"
     ]
    },
    {
     "name": "stderr",
     "output_type": "stream",
     "text": [
      "100%|██████████| 477/477 [00:15<00:00, 30.82it/s]\n"
     ]
    },
    {
     "name": "stdout",
     "output_type": "stream",
     "text": [
      "Save 477 couples of imgs(pos/neg) at ./dataset/pretrainv2/0087_4/img. \n"
     ]
    },
    {
     "name": "stderr",
     "output_type": "stream",
     "text": [
      "100%|██████████| 477/477 [00:01<00:00, 380.56it/s]\n"
     ]
    },
    {
     "name": "stdout",
     "output_type": "stream",
     "text": [
      "Save 477 couples of imgs(pos/neg) at ./dataset/pretrainv2/0088_4/img. \n"
     ]
    },
    {
     "name": "stderr",
     "output_type": "stream",
     "text": [
      "100%|██████████| 477/477 [00:04<00:00, 117.28it/s]\n"
     ]
    },
    {
     "name": "stdout",
     "output_type": "stream",
     "text": [
      "Save 477 couples of imgs(pos/neg) at ./dataset/pretrainv2/0089_4/img. \n"
     ]
    },
    {
     "name": "stderr",
     "output_type": "stream",
     "text": [
      "100%|██████████| 477/477 [00:11<00:00, 40.23it/s]\n"
     ]
    },
    {
     "name": "stdout",
     "output_type": "stream",
     "text": [
      "Save 477 couples of imgs(pos/neg) at ./dataset/pretrainv2/0090_4/img. \n"
     ]
    },
    {
     "name": "stderr",
     "output_type": "stream",
     "text": [
      "100%|██████████| 477/477 [00:09<00:00, 48.36it/s]\n"
     ]
    },
    {
     "name": "stdout",
     "output_type": "stream",
     "text": [
      "Save 477 couples of imgs(pos/neg) at ./dataset/pretrainv2/0091_4/img. \n"
     ]
    },
    {
     "name": "stderr",
     "output_type": "stream",
     "text": [
      "100%|██████████| 477/477 [00:11<00:00, 42.80it/s]"
     ]
    },
    {
     "name": "stdout",
     "output_type": "stream",
     "text": [
      "Save 477 couples of imgs(pos/neg) at ./dataset/pretrainv2/0092_4/img. \n"
     ]
    },
    {
     "name": "stderr",
     "output_type": "stream",
     "text": [
      "\n"
     ]
    }
   ],
   "source": [
    "for i in [4]:\n",
    "    for j in range(28, 93):\n",
    "        file_num = str(j).zfill(4)\n",
    "        generate_event_images(file_num, domain=\"test\", outdir='./dataset/pretrainv2', divider=i, mode='mono', img_height=128, img_width=128)\n",
    "        # generate_traj_data(file_num, domain=\"test\", outdir='./dataset/testv2', divider=i)"
   ]
  }
 ],
 "metadata": {
  "kernelspec": {
   "display_name": "Python 3",
   "language": "python",
   "name": "python3"
  },
  "language_info": {
   "codemirror_mode": {
    "name": "ipython",
    "version": 3
   },
   "file_extension": ".py",
   "mimetype": "text/x-python",
   "name": "python",
   "nbconvert_exporter": "python",
   "pygments_lexer": "ipython3",
   "version": "3.10.12"
  }
 },
 "nbformat": 4,
 "nbformat_minor": 5
}
