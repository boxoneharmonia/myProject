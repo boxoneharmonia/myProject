{
 "cells": [
  {
   "cell_type": "code",
   "execution_count": 1,
   "id": "3647c153-7c5b-4992-8e22-04accfe52683",
   "metadata": {},
   "outputs": [],
   "source": [
    "import numpy as np\n",
    "import os\n",
    "import pandas as pd\n",
    "from tqdm import tqdm\n",
    "import cv2\n",
    "\n",
    "def create_temporal_rgb_frame(df, ts_0, ts_1, height=200, width=200):\n",
    "    \"\"\"\n",
    "    Create a temporal RGB frame from event data within a given time window.\n",
    "\n",
    "    Args:\n",
    "        df (pd.DataFrame): DataFrame containing event data with columns ['t', 'x', 'y', 'p'].\n",
    "        ts_0 (float): Start timestamp (in microseconds).\n",
    "        ts_1 (float): End timestamp (in microseconds).\n",
    "        height (int): Height of the output image.\n",
    "        width (int): Width of the output image.\n",
    "\n",
    "    Returns:\n",
    "        np.ndarray: An (height, width, 3) uint8 RGB image where each color channel encodes events\n",
    "                    from a different third of the time window:\n",
    "                        - Red: events in the first third,\n",
    "                        - Green: events in the middle third,\n",
    "                        - Blue: events in the last third.\n",
    "    \"\"\"\n",
    "    ev_frame = np.zeros([height, width, 3], dtype=np.uint8)\n",
    "    \n",
    "    if df.empty or (ts_1 <= ts_0):\n",
    "        return ev_frame\n",
    "\n",
    "    window = ts_1 - ts_0\n",
    "    w1 = ts_0 + window / 3\n",
    "    w2 = ts_1 - window / 3\n",
    "\n",
    "    # --- red (1/3) ---\n",
    "    red_ev = df.loc[df['t'].between(ts_0, w1)]\n",
    "    if not red_ev.empty:\n",
    "        x = red_ev['x'].to_numpy()\n",
    "        y = red_ev['y'].to_numpy()\n",
    "        t = red_ev['t'].to_numpy()\n",
    "        \n",
    "        alpha = (t - ts_0) / window\n",
    "        ev_frame[y, x, 0] = np.clip(alpha * 255.0, 0, 255)\n",
    "\n",
    "    # --- green (2/3) ---\n",
    "    green_ev = df.loc[df['t'].between(w1, w2)]\n",
    "    if not green_ev.empty:\n",
    "        x = green_ev['x'].to_numpy()\n",
    "        y = green_ev['y'].to_numpy()\n",
    "        t = green_ev['t'].to_numpy()\n",
    "\n",
    "        alpha = (t - ts_0) / window\n",
    "        ev_frame[y, x, 1] = np.clip(alpha * 255.0, 0, 255)\n",
    "\n",
    "    # --- blue (3/3) ---\n",
    "    blue_ev = df.loc[df['t'].between(w2, ts_1)]\n",
    "    if not blue_ev.empty:\n",
    "        x = blue_ev['x'].to_numpy()\n",
    "        y = blue_ev['y'].to_numpy()\n",
    "        t = blue_ev['t'].to_numpy()\n",
    "\n",
    "        alpha = (t - ts_0) / window\n",
    "        ev_frame[y, x, 2] = np.clip(alpha * 255.0, 0, 255)\n",
    "        \n",
    "    return ev_frame\n",
    "\n",
    "def generate_event_images(filename, domain='train' , outdir='./dataset/train', divider=1, img_height=200, img_width=200):\n",
    "    \"\"\"\n",
    "    Generate and save temporal event images from event-based data.\n",
    "\n",
    "    Args:\n",
    "        filename (str): Name of the .npz file (without extension) containing event data.\n",
    "        domain (str): Subdirectory under './data' and './dataset' (e.g., 'train', 'test').\n",
    "        outdir (str): Output directory to save generated images.\n",
    "        divider (int): Number of subdivisions per timestamp interval for interpolation.\n",
    "        img_height (int): Height of the output images.\n",
    "        img_width (int): Width of the output images.\n",
    "    \"\"\"\n",
    "    datapath = './data'\n",
    "    fpath = os.path.join(datapath, domain, filename + '.npz')\n",
    "    outpath = os.path.join(outdir, filename + '_' + str(divider), 'img')\n",
    "    os.makedirs(outpath, exist_ok=True)\n",
    "    \n",
    "    sequence = np.load(fpath)\n",
    "    events = sequence['events']\n",
    "    timestamps = sequence['timestamps'] \n",
    "    # traj = sequence['traj']\n",
    "    # range_meter = sequence['range_meter']\n",
    "\n",
    "    ev_data = pd.DataFrame(events, columns=['t', 'x', 'y', 'p']).set_index('t').sort_index()\n",
    "    # ts_data = pd.DataFrame(t, columns=['time/s'])\n",
    "    # traj_data = pd.DataFrame(x, columns=['x', 'y', 'z', 'vx', 'vy', 'vz', 'roll', 'pitch', 'yaw','wr', 'wp', 'wy'])\n",
    "    # rm_data = pd.DataFrame(rm, columns=['time/s', 'd/m'])\n",
    "\n",
    "    new_ts_list = []\n",
    "    if divider == 1:\n",
    "        new_ts_list = timestamps\n",
    "        ts_us = new_ts_list * 1e6\n",
    "    else: \n",
    "        for i in range(len(timestamps) - 1):\n",
    "            start_time = timestamps[i]\n",
    "            end_time = timestamps[i+1]\n",
    "            interpolated_times = np.linspace(start_time, end_time, divider, endpoint=False)\n",
    "            new_ts_list.append(interpolated_times)\n",
    "    \n",
    "        new_ts_list.append(np.array([timestamps[-1]]))\n",
    "        ts_us = np.concatenate(new_ts_list) * 1e6\n",
    "        \n",
    "    event_groups_list = []\n",
    "\n",
    "    for i in tqdm(range(len(ts_us))):\n",
    "        if (i != len(ts_us) - 1): \n",
    "            ts_0 = ts_us[i]\n",
    "            ts_1 = ts_us[i+1]\n",
    "            df = ev_data.loc[ts_0 : ts_1 - 1].reset_index()\n",
    "        else:\n",
    "            ts_0 = ts_us[i]\n",
    "            ts_1 = 2 * ts_0 - ts_us[i - 1]\n",
    "            df = ev_data.loc[ts_0 : ts_1 - 1].reset_index()\n",
    "\n",
    "        df_pos = df[df['p'] == True] \n",
    "        df_neg = df[df['p'] == False]\n",
    "        \n",
    "        rgb_pos = create_temporal_rgb_frame(df_pos, ts_0, ts_1, img_height, img_width)\n",
    "        bgr_pos = cv2.cvtColor(rgb_pos, cv2.COLOR_RGB2BGR)\n",
    "        imgname_pos = os.path.join(outpath, f\"{i:04d}_pos.png\")\n",
    "        cv2.imwrite(imgname_pos, bgr_pos)\n",
    "\n",
    "        rgb_neg = create_temporal_rgb_frame(df_neg, ts_0, ts_1, img_height, img_width)\n",
    "        bgr_neg = cv2.cvtColor(rgb_neg, cv2.COLOR_RGB2BGR)\n",
    "        imgname_neg = os.path.join(outpath, f\"{i:04d}_neg.png\")\n",
    "        cv2.imwrite(imgname_neg, bgr_neg)\n",
    "\n",
    "    print(f\"Save {len(ts_us)} couples of imgs(pos/neg) at {outpath}. \")\n",
    "\n",
    "def generate_traj_data(filename, domain='train' , outdir='./dataset/train', divider=1):\n",
    "    \"\"\"\n",
    "    Generate and save interpolated trajectory data from a .npz file.\n",
    "\n",
    "    Args:\n",
    "        filename (str): Name of the .npz file (without extension) containing trajectory data.\n",
    "        domain (str): Subdirectory under './data' and './dataset' (e.g., 'train', 'test').\n",
    "        outdir (str): Output directory to save the generated CSV file.\n",
    "        divider (int): Number of subdivisions per trajectory interval for interpolation.\n",
    "    \"\"\"\n",
    "    datapath = './data'\n",
    "    fpath = os.path.join(datapath, domain, filename + '.npz')\n",
    "    outpath = os.path.join(outdir, filename + '_' + str(divider), 'data')\n",
    "    os.makedirs(outpath, exist_ok=True)\n",
    "    \n",
    "    sequence = np.load(fpath)\n",
    "    # events = sequence['events']\n",
    "    # timestamps = sequence['timestamps'] \n",
    "    traj = sequence['traj']\n",
    "    # range_meter = sequence['range_meter']\n",
    "\n",
    "    # ev_data = pd.DataFrame(events)\n",
    "    # ts_data = pd.DataFrame(t, columns=['time/s'])\n",
    "    # traj_data = pd.DataFrame(x, columns=['x', 'y', 'z', 'vx', 'vy', 'vz', 'roll', 'pitch', 'yaw','wr', 'wp', 'wy'])\n",
    "    # rm_data = pd.DataFrame(rm, columns=['time/s', 'd/m'])\n",
    "\n",
    "    traj_new_list = []\n",
    "\n",
    "    if divider == 1:\n",
    "        traj_new = traj\n",
    "    else: \n",
    "        for i in range(len(traj) - 1):\n",
    "            start_vec = traj[i] \n",
    "            end_vec = traj[i+1] \n",
    "            interpolated_vec = np.linspace(start_vec, end_vec, divider, endpoint=False)\n",
    "            traj_new_list.append(interpolated_vec)\n",
    "\n",
    "        traj_new_list.append(traj[-1].reshape(1, -1))\n",
    "        traj_new = np.concatenate(traj_new_list, axis=0)\n",
    "    \n",
    "    df = pd.DataFrame(traj_new, columns=['x', 'y', 'z', 'vx', 'vy', 'vz', 'roll', 'pitch', 'yaw','wr', 'wp', 'wy'])\n",
    "    csvpath = os.path.join(outpath, 'trajectory.csv')\n",
    "    df.to_csv(csvpath, index=False)\n",
    "    print(f\"Save {len(df)} lines of trajectory data to {csvpath}.\")"
   ]
  },
  {
   "cell_type": "code",
   "execution_count": 24,
   "id": "80d61c88-4fe4-4056-90f7-8a861293a5a4",
   "metadata": {},
   "outputs": [
    {
     "name": "stderr",
     "output_type": "stream",
     "text": [
      "100%|█████████████████████████████████████████████████████████████████████████████████████████████████████████████████████| 120/120 [00:03<00:00, 32.26it/s]\n"
     ]
    },
    {
     "name": "stdout",
     "output_type": "stream",
     "text": [
      "Save 120 couples of imgs(pos/neg) at ./dataset/train/0000_1/img. \n",
      "Save 120 lines of trajectory data to ./dataset/train/0000_1/data/trajectory.csv.\n"
     ]
    },
    {
     "name": "stderr",
     "output_type": "stream",
     "text": [
      "100%|█████████████████████████████████████████████████████████████████████████████████████████████████████████████████████| 120/120 [00:02<00:00, 43.26it/s]\n"
     ]
    },
    {
     "name": "stdout",
     "output_type": "stream",
     "text": [
      "Save 120 couples of imgs(pos/neg) at ./dataset/train/0001_1/img. \n",
      "Save 120 lines of trajectory data to ./dataset/train/0001_1/data/trajectory.csv.\n"
     ]
    },
    {
     "name": "stderr",
     "output_type": "stream",
     "text": [
      "100%|████████████████████████████████████████████████████████████████████████████████████████████████████████████████████| 120/120 [00:01<00:00, 105.69it/s]\n"
     ]
    },
    {
     "name": "stdout",
     "output_type": "stream",
     "text": [
      "Save 120 couples of imgs(pos/neg) at ./dataset/train/0002_1/img. \n",
      "Save 120 lines of trajectory data to ./dataset/train/0002_1/data/trajectory.csv.\n"
     ]
    },
    {
     "name": "stderr",
     "output_type": "stream",
     "text": [
      "100%|█████████████████████████████████████████████████████████████████████████████████████████████████████████████████████| 120/120 [00:03<00:00, 32.77it/s]\n"
     ]
    },
    {
     "name": "stdout",
     "output_type": "stream",
     "text": [
      "Save 120 couples of imgs(pos/neg) at ./dataset/train/0003_1/img. \n",
      "Save 120 lines of trajectory data to ./dataset/train/0003_1/data/trajectory.csv.\n"
     ]
    },
    {
     "name": "stderr",
     "output_type": "stream",
     "text": [
      "100%|████████████████████████████████████████████████████████████████████████████████████████████████████████████████████| 120/120 [00:00<00:00, 255.12it/s]\n"
     ]
    },
    {
     "name": "stdout",
     "output_type": "stream",
     "text": [
      "Save 120 couples of imgs(pos/neg) at ./dataset/train/0004_1/img. \n",
      "Save 120 lines of trajectory data to ./dataset/train/0004_1/data/trajectory.csv.\n"
     ]
    },
    {
     "name": "stderr",
     "output_type": "stream",
     "text": [
      "100%|████████████████████████████████████████████████████████████████████████████████████████████████████████████████████| 120/120 [00:00<00:00, 224.53it/s]\n"
     ]
    },
    {
     "name": "stdout",
     "output_type": "stream",
     "text": [
      "Save 120 couples of imgs(pos/neg) at ./dataset/train/0005_1/img. \n",
      "Save 120 lines of trajectory data to ./dataset/train/0005_1/data/trajectory.csv.\n"
     ]
    },
    {
     "name": "stderr",
     "output_type": "stream",
     "text": [
      "100%|█████████████████████████████████████████████████████████████████████████████████████████████████████████████████████| 120/120 [00:01<00:00, 98.56it/s]\n"
     ]
    },
    {
     "name": "stdout",
     "output_type": "stream",
     "text": [
      "Save 120 couples of imgs(pos/neg) at ./dataset/train/0006_1/img. \n",
      "Save 120 lines of trajectory data to ./dataset/train/0006_1/data/trajectory.csv.\n"
     ]
    },
    {
     "name": "stderr",
     "output_type": "stream",
     "text": [
      "100%|█████████████████████████████████████████████████████████████████████████████████████████████████████████████████████| 120/120 [00:03<00:00, 37.55it/s]\n"
     ]
    },
    {
     "name": "stdout",
     "output_type": "stream",
     "text": [
      "Save 120 couples of imgs(pos/neg) at ./dataset/train/0007_1/img. \n",
      "Save 120 lines of trajectory data to ./dataset/train/0007_1/data/trajectory.csv.\n"
     ]
    },
    {
     "name": "stderr",
     "output_type": "stream",
     "text": [
      "100%|█████████████████████████████████████████████████████████████████████████████████████████████████████████████████████| 120/120 [00:03<00:00, 32.81it/s]\n"
     ]
    },
    {
     "name": "stdout",
     "output_type": "stream",
     "text": [
      "Save 120 couples of imgs(pos/neg) at ./dataset/train/0008_1/img. \n",
      "Save 120 lines of trajectory data to ./dataset/train/0008_1/data/trajectory.csv.\n"
     ]
    },
    {
     "name": "stderr",
     "output_type": "stream",
     "text": [
      "100%|████████████████████████████████████████████████████████████████████████████████████████████████████████████████████| 120/120 [00:00<00:00, 258.82it/s]\n"
     ]
    },
    {
     "name": "stdout",
     "output_type": "stream",
     "text": [
      "Save 120 couples of imgs(pos/neg) at ./dataset/train/0009_1/img. \n",
      "Save 120 lines of trajectory data to ./dataset/train/0009_1/data/trajectory.csv.\n"
     ]
    },
    {
     "name": "stderr",
     "output_type": "stream",
     "text": [
      "100%|████████████████████████████████████████████████████████████████████████████████████████████████████████████████████| 120/120 [00:00<00:00, 168.54it/s]\n"
     ]
    },
    {
     "name": "stdout",
     "output_type": "stream",
     "text": [
      "Save 120 couples of imgs(pos/neg) at ./dataset/train/0010_1/img. \n",
      "Save 120 lines of trajectory data to ./dataset/train/0010_1/data/trajectory.csv.\n"
     ]
    },
    {
     "name": "stderr",
     "output_type": "stream",
     "text": [
      "100%|█████████████████████████████████████████████████████████████████████████████████████████████████████████████████████| 120/120 [00:01<00:00, 70.79it/s]\n"
     ]
    },
    {
     "name": "stdout",
     "output_type": "stream",
     "text": [
      "Save 120 couples of imgs(pos/neg) at ./dataset/train/0011_1/img. \n",
      "Save 120 lines of trajectory data to ./dataset/train/0011_1/data/trajectory.csv.\n"
     ]
    },
    {
     "name": "stderr",
     "output_type": "stream",
     "text": [
      "100%|█████████████████████████████████████████████████████████████████████████████████████████████████████████████████████| 120/120 [00:01<00:00, 82.93it/s]\n"
     ]
    },
    {
     "name": "stdout",
     "output_type": "stream",
     "text": [
      "Save 120 couples of imgs(pos/neg) at ./dataset/train/0012_1/img. \n",
      "Save 120 lines of trajectory data to ./dataset/train/0012_1/data/trajectory.csv.\n"
     ]
    },
    {
     "name": "stderr",
     "output_type": "stream",
     "text": [
      "100%|█████████████████████████████████████████████████████████████████████████████████████████████████████████████████████| 120/120 [00:04<00:00, 29.29it/s]\n"
     ]
    },
    {
     "name": "stdout",
     "output_type": "stream",
     "text": [
      "Save 120 couples of imgs(pos/neg) at ./dataset/train/0013_1/img. \n",
      "Save 120 lines of trajectory data to ./dataset/train/0013_1/data/trajectory.csv.\n"
     ]
    },
    {
     "name": "stderr",
     "output_type": "stream",
     "text": [
      "100%|█████████████████████████████████████████████████████████████████████████████████████████████████████████████████████| 120/120 [00:01<00:00, 61.78it/s]\n"
     ]
    },
    {
     "name": "stdout",
     "output_type": "stream",
     "text": [
      "Save 120 couples of imgs(pos/neg) at ./dataset/train/0014_1/img. \n",
      "Save 120 lines of trajectory data to ./dataset/train/0014_1/data/trajectory.csv.\n"
     ]
    },
    {
     "name": "stderr",
     "output_type": "stream",
     "text": [
      "100%|█████████████████████████████████████████████████████████████████████████████████████████████████████████████████████| 120/120 [00:04<00:00, 29.02it/s]\n"
     ]
    },
    {
     "name": "stdout",
     "output_type": "stream",
     "text": [
      "Save 120 couples of imgs(pos/neg) at ./dataset/train/0015_1/img. \n",
      "Save 120 lines of trajectory data to ./dataset/train/0015_1/data/trajectory.csv.\n"
     ]
    },
    {
     "name": "stderr",
     "output_type": "stream",
     "text": [
      "100%|█████████████████████████████████████████████████████████████████████████████████████████████████████████████████████| 120/120 [00:04<00:00, 29.54it/s]\n"
     ]
    },
    {
     "name": "stdout",
     "output_type": "stream",
     "text": [
      "Save 120 couples of imgs(pos/neg) at ./dataset/train/0016_1/img. \n",
      "Save 120 lines of trajectory data to ./dataset/train/0016_1/data/trajectory.csv.\n"
     ]
    },
    {
     "name": "stderr",
     "output_type": "stream",
     "text": [
      "100%|████████████████████████████████████████████████████████████████████████████████████████████████████████████████████| 120/120 [00:00<00:00, 121.91it/s]\n"
     ]
    },
    {
     "name": "stdout",
     "output_type": "stream",
     "text": [
      "Save 120 couples of imgs(pos/neg) at ./dataset/train/0017_1/img. \n",
      "Save 120 lines of trajectory data to ./dataset/train/0017_1/data/trajectory.csv.\n"
     ]
    },
    {
     "name": "stderr",
     "output_type": "stream",
     "text": [
      "100%|████████████████████████████████████████████████████████████████████████████████████████████████████████████████████| 120/120 [00:00<00:00, 254.63it/s]\n"
     ]
    },
    {
     "name": "stdout",
     "output_type": "stream",
     "text": [
      "Save 120 couples of imgs(pos/neg) at ./dataset/train/0018_1/img. \n",
      "Save 120 lines of trajectory data to ./dataset/train/0018_1/data/trajectory.csv.\n"
     ]
    },
    {
     "name": "stderr",
     "output_type": "stream",
     "text": [
      "100%|████████████████████████████████████████████████████████████████████████████████████████████████████████████████████| 120/120 [00:00<00:00, 258.06it/s]\n"
     ]
    },
    {
     "name": "stdout",
     "output_type": "stream",
     "text": [
      "Save 120 couples of imgs(pos/neg) at ./dataset/train/0019_1/img. \n",
      "Save 120 lines of trajectory data to ./dataset/train/0019_1/data/trajectory.csv.\n"
     ]
    },
    {
     "name": "stderr",
     "output_type": "stream",
     "text": [
      "100%|████████████████████████████████████████████████████████████████████████████████████████████████████████████████████| 120/120 [00:00<00:00, 204.83it/s]\n"
     ]
    },
    {
     "name": "stdout",
     "output_type": "stream",
     "text": [
      "Save 120 couples of imgs(pos/neg) at ./dataset/train/0020_1/img. \n",
      "Save 120 lines of trajectory data to ./dataset/train/0020_1/data/trajectory.csv.\n"
     ]
    },
    {
     "name": "stderr",
     "output_type": "stream",
     "text": [
      "100%|████████████████████████████████████████████████████████████████████████████████████████████████████████████████████| 120/120 [00:00<00:00, 214.74it/s]\n"
     ]
    },
    {
     "name": "stdout",
     "output_type": "stream",
     "text": [
      "Save 120 couples of imgs(pos/neg) at ./dataset/train/0021_1/img. \n",
      "Save 120 lines of trajectory data to ./dataset/train/0021_1/data/trajectory.csv.\n"
     ]
    },
    {
     "name": "stderr",
     "output_type": "stream",
     "text": [
      "100%|████████████████████████████████████████████████████████████████████████████████████████████████████████████████████| 120/120 [00:00<00:00, 265.39it/s]\n"
     ]
    },
    {
     "name": "stdout",
     "output_type": "stream",
     "text": [
      "Save 120 couples of imgs(pos/neg) at ./dataset/train/0022_1/img. \n",
      "Save 120 lines of trajectory data to ./dataset/train/0022_1/data/trajectory.csv.\n"
     ]
    },
    {
     "name": "stderr",
     "output_type": "stream",
     "text": [
      "100%|█████████████████████████████████████████████████████████████████████████████████████████████████████████████████████| 120/120 [00:06<00:00, 17.20it/s]\n"
     ]
    },
    {
     "name": "stdout",
     "output_type": "stream",
     "text": [
      "Save 120 couples of imgs(pos/neg) at ./dataset/train/0023_1/img. \n",
      "Save 120 lines of trajectory data to ./dataset/train/0023_1/data/trajectory.csv.\n"
     ]
    },
    {
     "name": "stderr",
     "output_type": "stream",
     "text": [
      "100%|█████████████████████████████████████████████████████████████████████████████████████████████████████████████████████| 120/120 [00:01<00:00, 79.29it/s]\n"
     ]
    },
    {
     "name": "stdout",
     "output_type": "stream",
     "text": [
      "Save 120 couples of imgs(pos/neg) at ./dataset/train/0024_1/img. \n",
      "Save 120 lines of trajectory data to ./dataset/train/0024_1/data/trajectory.csv.\n"
     ]
    },
    {
     "name": "stderr",
     "output_type": "stream",
     "text": [
      "100%|████████████████████████████████████████████████████████████████████████████████████████████████████████████████████| 120/120 [00:00<00:00, 217.50it/s]\n"
     ]
    },
    {
     "name": "stdout",
     "output_type": "stream",
     "text": [
      "Save 120 couples of imgs(pos/neg) at ./dataset/train/0025_1/img. \n",
      "Save 120 lines of trajectory data to ./dataset/train/0025_1/data/trajectory.csv.\n"
     ]
    },
    {
     "name": "stderr",
     "output_type": "stream",
     "text": [
      "100%|████████████████████████████████████████████████████████████████████████████████████████████████████████████████████| 120/120 [00:00<00:00, 190.98it/s]\n"
     ]
    },
    {
     "name": "stdout",
     "output_type": "stream",
     "text": [
      "Save 120 couples of imgs(pos/neg) at ./dataset/train/0026_1/img. \n",
      "Save 120 lines of trajectory data to ./dataset/train/0026_1/data/trajectory.csv.\n"
     ]
    },
    {
     "name": "stderr",
     "output_type": "stream",
     "text": [
      "100%|█████████████████████████████████████████████████████████████████████████████████████████████████████████████████████| 120/120 [00:01<00:00, 67.71it/s]\n"
     ]
    },
    {
     "name": "stdout",
     "output_type": "stream",
     "text": [
      "Save 120 couples of imgs(pos/neg) at ./dataset/train/0027_1/img. \n",
      "Save 120 lines of trajectory data to ./dataset/train/0027_1/data/trajectory.csv.\n"
     ]
    },
    {
     "name": "stderr",
     "output_type": "stream",
     "text": [
      "100%|█████████████████████████████████████████████████████████████████████████████████████████████████████████████████████| 239/239 [00:06<00:00, 34.34it/s]\n"
     ]
    },
    {
     "name": "stdout",
     "output_type": "stream",
     "text": [
      "Save 239 couples of imgs(pos/neg) at ./dataset/train/0000_2/img. \n",
      "Save 239 lines of trajectory data to ./dataset/train/0000_2/data/trajectory.csv.\n"
     ]
    },
    {
     "name": "stderr",
     "output_type": "stream",
     "text": [
      "100%|█████████████████████████████████████████████████████████████████████████████████████████████████████████████████████| 239/239 [00:05<00:00, 46.43it/s]\n"
     ]
    },
    {
     "name": "stdout",
     "output_type": "stream",
     "text": [
      "Save 239 couples of imgs(pos/neg) at ./dataset/train/0001_2/img. \n",
      "Save 239 lines of trajectory data to ./dataset/train/0001_2/data/trajectory.csv.\n"
     ]
    },
    {
     "name": "stderr",
     "output_type": "stream",
     "text": [
      "100%|████████████████████████████████████████████████████████████████████████████████████████████████████████████████████| 239/239 [00:02<00:00, 113.46it/s]\n"
     ]
    },
    {
     "name": "stdout",
     "output_type": "stream",
     "text": [
      "Save 239 couples of imgs(pos/neg) at ./dataset/train/0002_2/img. \n",
      "Save 239 lines of trajectory data to ./dataset/train/0002_2/data/trajectory.csv.\n"
     ]
    },
    {
     "name": "stderr",
     "output_type": "stream",
     "text": [
      "100%|█████████████████████████████████████████████████████████████████████████████████████████████████████████████████████| 239/239 [00:06<00:00, 35.39it/s]\n"
     ]
    },
    {
     "name": "stdout",
     "output_type": "stream",
     "text": [
      "Save 239 couples of imgs(pos/neg) at ./dataset/train/0003_2/img. \n",
      "Save 239 lines of trajectory data to ./dataset/train/0003_2/data/trajectory.csv.\n"
     ]
    },
    {
     "name": "stderr",
     "output_type": "stream",
     "text": [
      "100%|████████████████████████████████████████████████████████████████████████████████████████████████████████████████████| 239/239 [00:00<00:00, 259.70it/s]\n"
     ]
    },
    {
     "name": "stdout",
     "output_type": "stream",
     "text": [
      "Save 239 couples of imgs(pos/neg) at ./dataset/train/0004_2/img. \n",
      "Save 239 lines of trajectory data to ./dataset/train/0004_2/data/trajectory.csv.\n"
     ]
    },
    {
     "name": "stderr",
     "output_type": "stream",
     "text": [
      "100%|████████████████████████████████████████████████████████████████████████████████████████████████████████████████████| 239/239 [00:01<00:00, 233.48it/s]\n"
     ]
    },
    {
     "name": "stdout",
     "output_type": "stream",
     "text": [
      "Save 239 couples of imgs(pos/neg) at ./dataset/train/0005_2/img. \n",
      "Save 239 lines of trajectory data to ./dataset/train/0005_2/data/trajectory.csv.\n"
     ]
    },
    {
     "name": "stderr",
     "output_type": "stream",
     "text": [
      "100%|████████████████████████████████████████████████████████████████████████████████████████████████████████████████████| 239/239 [00:02<00:00, 105.40it/s]\n"
     ]
    },
    {
     "name": "stdout",
     "output_type": "stream",
     "text": [
      "Save 239 couples of imgs(pos/neg) at ./dataset/train/0006_2/img. \n",
      "Save 239 lines of trajectory data to ./dataset/train/0006_2/data/trajectory.csv.\n"
     ]
    },
    {
     "name": "stderr",
     "output_type": "stream",
     "text": [
      "100%|█████████████████████████████████████████████████████████████████████████████████████████████████████████████████████| 239/239 [00:05<00:00, 40.42it/s]\n"
     ]
    },
    {
     "name": "stdout",
     "output_type": "stream",
     "text": [
      "Save 239 couples of imgs(pos/neg) at ./dataset/train/0007_2/img. \n",
      "Save 239 lines of trajectory data to ./dataset/train/0007_2/data/trajectory.csv.\n"
     ]
    },
    {
     "name": "stderr",
     "output_type": "stream",
     "text": [
      "100%|█████████████████████████████████████████████████████████████████████████████████████████████████████████████████████| 239/239 [00:06<00:00, 35.55it/s]\n"
     ]
    },
    {
     "name": "stdout",
     "output_type": "stream",
     "text": [
      "Save 239 couples of imgs(pos/neg) at ./dataset/train/0008_2/img. \n",
      "Save 239 lines of trajectory data to ./dataset/train/0008_2/data/trajectory.csv.\n"
     ]
    },
    {
     "name": "stderr",
     "output_type": "stream",
     "text": [
      "100%|████████████████████████████████████████████████████████████████████████████████████████████████████████████████████| 239/239 [00:00<00:00, 260.99it/s]\n"
     ]
    },
    {
     "name": "stdout",
     "output_type": "stream",
     "text": [
      "Save 239 couples of imgs(pos/neg) at ./dataset/train/0009_2/img. \n",
      "Save 239 lines of trajectory data to ./dataset/train/0009_2/data/trajectory.csv.\n"
     ]
    },
    {
     "name": "stderr",
     "output_type": "stream",
     "text": [
      "100%|████████████████████████████████████████████████████████████████████████████████████████████████████████████████████| 239/239 [00:01<00:00, 179.00it/s]\n"
     ]
    },
    {
     "name": "stdout",
     "output_type": "stream",
     "text": [
      "Save 239 couples of imgs(pos/neg) at ./dataset/train/0010_2/img. \n",
      "Save 239 lines of trajectory data to ./dataset/train/0010_2/data/trajectory.csv.\n"
     ]
    },
    {
     "name": "stderr",
     "output_type": "stream",
     "text": [
      "100%|█████████████████████████████████████████████████████████████████████████████████████████████████████████████████████| 239/239 [00:03<00:00, 78.78it/s]\n"
     ]
    },
    {
     "name": "stdout",
     "output_type": "stream",
     "text": [
      "Save 239 couples of imgs(pos/neg) at ./dataset/train/0011_2/img. \n",
      "Save 239 lines of trajectory data to ./dataset/train/0011_2/data/trajectory.csv.\n"
     ]
    },
    {
     "name": "stderr",
     "output_type": "stream",
     "text": [
      "100%|█████████████████████████████████████████████████████████████████████████████████████████████████████████████████████| 239/239 [00:02<00:00, 90.91it/s]\n"
     ]
    },
    {
     "name": "stdout",
     "output_type": "stream",
     "text": [
      "Save 239 couples of imgs(pos/neg) at ./dataset/train/0012_2/img. \n",
      "Save 239 lines of trajectory data to ./dataset/train/0012_2/data/trajectory.csv.\n"
     ]
    },
    {
     "name": "stderr",
     "output_type": "stream",
     "text": [
      "100%|█████████████████████████████████████████████████████████████████████████████████████████████████████████████████████| 239/239 [00:07<00:00, 31.89it/s]\n"
     ]
    },
    {
     "name": "stdout",
     "output_type": "stream",
     "text": [
      "Save 239 couples of imgs(pos/neg) at ./dataset/train/0013_2/img. \n",
      "Save 239 lines of trajectory data to ./dataset/train/0013_2/data/trajectory.csv.\n"
     ]
    },
    {
     "name": "stderr",
     "output_type": "stream",
     "text": [
      "100%|█████████████████████████████████████████████████████████████████████████████████████████████████████████████████████| 239/239 [00:03<00:00, 67.93it/s]\n"
     ]
    },
    {
     "name": "stdout",
     "output_type": "stream",
     "text": [
      "Save 239 couples of imgs(pos/neg) at ./dataset/train/0014_2/img. \n",
      "Save 239 lines of trajectory data to ./dataset/train/0014_2/data/trajectory.csv.\n"
     ]
    },
    {
     "name": "stderr",
     "output_type": "stream",
     "text": [
      "100%|█████████████████████████████████████████████████████████████████████████████████████████████████████████████████████| 239/239 [00:07<00:00, 31.60it/s]\n"
     ]
    },
    {
     "name": "stdout",
     "output_type": "stream",
     "text": [
      "Save 239 couples of imgs(pos/neg) at ./dataset/train/0015_2/img. \n",
      "Save 239 lines of trajectory data to ./dataset/train/0015_2/data/trajectory.csv.\n"
     ]
    },
    {
     "name": "stderr",
     "output_type": "stream",
     "text": [
      "100%|█████████████████████████████████████████████████████████████████████████████████████████████████████████████████████| 239/239 [00:07<00:00, 31.88it/s]\n"
     ]
    },
    {
     "name": "stdout",
     "output_type": "stream",
     "text": [
      "Save 239 couples of imgs(pos/neg) at ./dataset/train/0016_2/img. \n",
      "Save 239 lines of trajectory data to ./dataset/train/0016_2/data/trajectory.csv.\n"
     ]
    },
    {
     "name": "stderr",
     "output_type": "stream",
     "text": [
      "100%|████████████████████████████████████████████████████████████████████████████████████████████████████████████████████| 239/239 [00:01<00:00, 130.73it/s]\n"
     ]
    },
    {
     "name": "stdout",
     "output_type": "stream",
     "text": [
      "Save 239 couples of imgs(pos/neg) at ./dataset/train/0017_2/img. \n",
      "Save 239 lines of trajectory data to ./dataset/train/0017_2/data/trajectory.csv.\n"
     ]
    },
    {
     "name": "stderr",
     "output_type": "stream",
     "text": [
      "100%|████████████████████████████████████████████████████████████████████████████████████████████████████████████████████| 239/239 [00:00<00:00, 264.79it/s]\n"
     ]
    },
    {
     "name": "stdout",
     "output_type": "stream",
     "text": [
      "Save 239 couples of imgs(pos/neg) at ./dataset/train/0018_2/img. \n",
      "Save 239 lines of trajectory data to ./dataset/train/0018_2/data/trajectory.csv.\n"
     ]
    },
    {
     "name": "stderr",
     "output_type": "stream",
     "text": [
      "100%|████████████████████████████████████████████████████████████████████████████████████████████████████████████████████| 239/239 [00:00<00:00, 258.27it/s]\n"
     ]
    },
    {
     "name": "stdout",
     "output_type": "stream",
     "text": [
      "Save 239 couples of imgs(pos/neg) at ./dataset/train/0019_2/img. \n",
      "Save 239 lines of trajectory data to ./dataset/train/0019_2/data/trajectory.csv.\n"
     ]
    },
    {
     "name": "stderr",
     "output_type": "stream",
     "text": [
      "100%|████████████████████████████████████████████████████████████████████████████████████████████████████████████████████| 239/239 [00:01<00:00, 213.76it/s]\n"
     ]
    },
    {
     "name": "stdout",
     "output_type": "stream",
     "text": [
      "Save 239 couples of imgs(pos/neg) at ./dataset/train/0020_2/img. \n",
      "Save 239 lines of trajectory data to ./dataset/train/0020_2/data/trajectory.csv.\n"
     ]
    },
    {
     "name": "stderr",
     "output_type": "stream",
     "text": [
      "100%|████████████████████████████████████████████████████████████████████████████████████████████████████████████████████| 239/239 [00:01<00:00, 222.26it/s]\n"
     ]
    },
    {
     "name": "stdout",
     "output_type": "stream",
     "text": [
      "Save 239 couples of imgs(pos/neg) at ./dataset/train/0021_2/img. \n",
      "Save 239 lines of trajectory data to ./dataset/train/0021_2/data/trajectory.csv.\n"
     ]
    },
    {
     "name": "stderr",
     "output_type": "stream",
     "text": [
      "100%|████████████████████████████████████████████████████████████████████████████████████████████████████████████████████| 239/239 [00:00<00:00, 268.07it/s]\n"
     ]
    },
    {
     "name": "stdout",
     "output_type": "stream",
     "text": [
      "Save 239 couples of imgs(pos/neg) at ./dataset/train/0022_2/img. \n",
      "Save 239 lines of trajectory data to ./dataset/train/0022_2/data/trajectory.csv.\n"
     ]
    },
    {
     "name": "stderr",
     "output_type": "stream",
     "text": [
      "100%|█████████████████████████████████████████████████████████████████████████████████████████████████████████████████████| 239/239 [00:12<00:00, 18.41it/s]\n"
     ]
    },
    {
     "name": "stdout",
     "output_type": "stream",
     "text": [
      "Save 239 couples of imgs(pos/neg) at ./dataset/train/0023_2/img. \n",
      "Save 239 lines of trajectory data to ./dataset/train/0023_2/data/trajectory.csv.\n"
     ]
    },
    {
     "name": "stderr",
     "output_type": "stream",
     "text": [
      "100%|█████████████████████████████████████████████████████████████████████████████████████████████████████████████████████| 239/239 [00:02<00:00, 86.64it/s]\n"
     ]
    },
    {
     "name": "stdout",
     "output_type": "stream",
     "text": [
      "Save 239 couples of imgs(pos/neg) at ./dataset/train/0024_2/img. \n",
      "Save 239 lines of trajectory data to ./dataset/train/0024_2/data/trajectory.csv.\n"
     ]
    },
    {
     "name": "stderr",
     "output_type": "stream",
     "text": [
      "100%|████████████████████████████████████████████████████████████████████████████████████████████████████████████████████| 239/239 [00:01<00:00, 225.05it/s]\n"
     ]
    },
    {
     "name": "stdout",
     "output_type": "stream",
     "text": [
      "Save 239 couples of imgs(pos/neg) at ./dataset/train/0025_2/img. \n",
      "Save 239 lines of trajectory data to ./dataset/train/0025_2/data/trajectory.csv.\n"
     ]
    },
    {
     "name": "stderr",
     "output_type": "stream",
     "text": [
      "100%|████████████████████████████████████████████████████████████████████████████████████████████████████████████████████| 239/239 [00:01<00:00, 199.91it/s]\n"
     ]
    },
    {
     "name": "stdout",
     "output_type": "stream",
     "text": [
      "Save 239 couples of imgs(pos/neg) at ./dataset/train/0026_2/img. \n",
      "Save 239 lines of trajectory data to ./dataset/train/0026_2/data/trajectory.csv.\n"
     ]
    },
    {
     "name": "stderr",
     "output_type": "stream",
     "text": [
      "100%|█████████████████████████████████████████████████████████████████████████████████████████████████████████████████████| 239/239 [00:03<00:00, 73.68it/s]\n"
     ]
    },
    {
     "name": "stdout",
     "output_type": "stream",
     "text": [
      "Save 239 couples of imgs(pos/neg) at ./dataset/train/0027_2/img. \n",
      "Save 239 lines of trajectory data to ./dataset/train/0027_2/data/trajectory.csv.\n"
     ]
    },
    {
     "name": "stderr",
     "output_type": "stream",
     "text": [
      "100%|█████████████████████████████████████████████████████████████████████████████████████████████████████████████████████| 477/477 [00:13<00:00, 35.83it/s]\n"
     ]
    },
    {
     "name": "stdout",
     "output_type": "stream",
     "text": [
      "Save 477 couples of imgs(pos/neg) at ./dataset/train/0000_4/img. \n",
      "Save 477 lines of trajectory data to ./dataset/train/0000_4/data/trajectory.csv.\n"
     ]
    },
    {
     "name": "stderr",
     "output_type": "stream",
     "text": [
      "100%|█████████████████████████████████████████████████████████████████████████████████████████████████████████████████████| 477/477 [00:10<00:00, 47.48it/s]\n"
     ]
    },
    {
     "name": "stdout",
     "output_type": "stream",
     "text": [
      "Save 477 couples of imgs(pos/neg) at ./dataset/train/0001_4/img. \n",
      "Save 477 lines of trajectory data to ./dataset/train/0001_4/data/trajectory.csv.\n"
     ]
    },
    {
     "name": "stderr",
     "output_type": "stream",
     "text": [
      "100%|████████████████████████████████████████████████████████████████████████████████████████████████████████████████████| 477/477 [00:04<00:00, 117.94it/s]\n"
     ]
    },
    {
     "name": "stdout",
     "output_type": "stream",
     "text": [
      "Save 477 couples of imgs(pos/neg) at ./dataset/train/0002_4/img. \n",
      "Save 477 lines of trajectory data to ./dataset/train/0002_4/data/trajectory.csv.\n"
     ]
    },
    {
     "name": "stderr",
     "output_type": "stream",
     "text": [
      "100%|█████████████████████████████████████████████████████████████████████████████████████████████████████████████████████| 477/477 [00:13<00:00, 36.40it/s]\n"
     ]
    },
    {
     "name": "stdout",
     "output_type": "stream",
     "text": [
      "Save 477 couples of imgs(pos/neg) at ./dataset/train/0003_4/img. \n",
      "Save 477 lines of trajectory data to ./dataset/train/0003_4/data/trajectory.csv.\n"
     ]
    },
    {
     "name": "stderr",
     "output_type": "stream",
     "text": [
      "100%|████████████████████████████████████████████████████████████████████████████████████████████████████████████████████| 477/477 [00:01<00:00, 264.40it/s]\n"
     ]
    },
    {
     "name": "stdout",
     "output_type": "stream",
     "text": [
      "Save 477 couples of imgs(pos/neg) at ./dataset/train/0004_4/img. \n",
      "Save 477 lines of trajectory data to ./dataset/train/0004_4/data/trajectory.csv.\n"
     ]
    },
    {
     "name": "stderr",
     "output_type": "stream",
     "text": [
      "100%|████████████████████████████████████████████████████████████████████████████████████████████████████████████████████| 477/477 [00:01<00:00, 242.02it/s]\n"
     ]
    },
    {
     "name": "stdout",
     "output_type": "stream",
     "text": [
      "Save 477 couples of imgs(pos/neg) at ./dataset/train/0005_4/img. \n",
      "Save 477 lines of trajectory data to ./dataset/train/0005_4/data/trajectory.csv.\n"
     ]
    },
    {
     "name": "stderr",
     "output_type": "stream",
     "text": [
      "100%|████████████████████████████████████████████████████████████████████████████████████████████████████████████████████| 477/477 [00:04<00:00, 109.91it/s]\n"
     ]
    },
    {
     "name": "stdout",
     "output_type": "stream",
     "text": [
      "Save 477 couples of imgs(pos/neg) at ./dataset/train/0006_4/img. \n",
      "Save 477 lines of trajectory data to ./dataset/train/0006_4/data/trajectory.csv.\n"
     ]
    },
    {
     "name": "stderr",
     "output_type": "stream",
     "text": [
      "100%|█████████████████████████████████████████████████████████████████████████████████████████████████████████████████████| 477/477 [00:11<00:00, 41.62it/s]\n"
     ]
    },
    {
     "name": "stdout",
     "output_type": "stream",
     "text": [
      "Save 477 couples of imgs(pos/neg) at ./dataset/train/0007_4/img. \n",
      "Save 477 lines of trajectory data to ./dataset/train/0007_4/data/trajectory.csv.\n"
     ]
    },
    {
     "name": "stderr",
     "output_type": "stream",
     "text": [
      "100%|█████████████████████████████████████████████████████████████████████████████████████████████████████████████████████| 477/477 [00:12<00:00, 36.76it/s]\n"
     ]
    },
    {
     "name": "stdout",
     "output_type": "stream",
     "text": [
      "Save 477 couples of imgs(pos/neg) at ./dataset/train/0008_4/img. \n",
      "Save 477 lines of trajectory data to ./dataset/train/0008_4/data/trajectory.csv.\n"
     ]
    },
    {
     "name": "stderr",
     "output_type": "stream",
     "text": [
      "100%|████████████████████████████████████████████████████████████████████████████████████████████████████████████████████| 477/477 [00:01<00:00, 263.63it/s]\n"
     ]
    },
    {
     "name": "stdout",
     "output_type": "stream",
     "text": [
      "Save 477 couples of imgs(pos/neg) at ./dataset/train/0009_4/img. \n",
      "Save 477 lines of trajectory data to ./dataset/train/0009_4/data/trajectory.csv.\n"
     ]
    },
    {
     "name": "stderr",
     "output_type": "stream",
     "text": [
      "100%|████████████████████████████████████████████████████████████████████████████████████████████████████████████████████| 477/477 [00:02<00:00, 184.09it/s]\n"
     ]
    },
    {
     "name": "stdout",
     "output_type": "stream",
     "text": [
      "Save 477 couples of imgs(pos/neg) at ./dataset/train/0010_4/img. \n",
      "Save 477 lines of trajectory data to ./dataset/train/0010_4/data/trajectory.csv.\n"
     ]
    },
    {
     "name": "stderr",
     "output_type": "stream",
     "text": [
      "100%|█████████████████████████████████████████████████████████████████████████████████████████████████████████████████████| 477/477 [00:05<00:00, 82.06it/s]\n"
     ]
    },
    {
     "name": "stdout",
     "output_type": "stream",
     "text": [
      "Save 477 couples of imgs(pos/neg) at ./dataset/train/0011_4/img. \n",
      "Save 477 lines of trajectory data to ./dataset/train/0011_4/data/trajectory.csv.\n"
     ]
    },
    {
     "name": "stderr",
     "output_type": "stream",
     "text": [
      "100%|█████████████████████████████████████████████████████████████████████████████████████████████████████████████████████| 477/477 [00:05<00:00, 92.74it/s]\n"
     ]
    },
    {
     "name": "stdout",
     "output_type": "stream",
     "text": [
      "Save 477 couples of imgs(pos/neg) at ./dataset/train/0012_4/img. \n",
      "Save 477 lines of trajectory data to ./dataset/train/0012_4/data/trajectory.csv.\n"
     ]
    },
    {
     "name": "stderr",
     "output_type": "stream",
     "text": [
      "100%|█████████████████████████████████████████████████████████████████████████████████████████████████████████████████████| 477/477 [00:14<00:00, 32.26it/s]\n"
     ]
    },
    {
     "name": "stdout",
     "output_type": "stream",
     "text": [
      "Save 477 couples of imgs(pos/neg) at ./dataset/train/0013_4/img. \n",
      "Save 477 lines of trajectory data to ./dataset/train/0013_4/data/trajectory.csv.\n"
     ]
    },
    {
     "name": "stderr",
     "output_type": "stream",
     "text": [
      "100%|█████████████████████████████████████████████████████████████████████████████████████████████████████████████████████| 477/477 [00:06<00:00, 69.86it/s]\n"
     ]
    },
    {
     "name": "stdout",
     "output_type": "stream",
     "text": [
      "Save 477 couples of imgs(pos/neg) at ./dataset/train/0014_4/img. \n",
      "Save 477 lines of trajectory data to ./dataset/train/0014_4/data/trajectory.csv.\n"
     ]
    },
    {
     "name": "stderr",
     "output_type": "stream",
     "text": [
      "100%|█████████████████████████████████████████████████████████████████████████████████████████████████████████████████████| 477/477 [00:14<00:00, 32.06it/s]\n"
     ]
    },
    {
     "name": "stdout",
     "output_type": "stream",
     "text": [
      "Save 477 couples of imgs(pos/neg) at ./dataset/train/0015_4/img. \n",
      "Save 477 lines of trajectory data to ./dataset/train/0015_4/data/trajectory.csv.\n"
     ]
    },
    {
     "name": "stderr",
     "output_type": "stream",
     "text": [
      "100%|█████████████████████████████████████████████████████████████████████████████████████████████████████████████████████| 477/477 [00:14<00:00, 32.71it/s]\n"
     ]
    },
    {
     "name": "stdout",
     "output_type": "stream",
     "text": [
      "Save 477 couples of imgs(pos/neg) at ./dataset/train/0016_4/img. \n",
      "Save 477 lines of trajectory data to ./dataset/train/0016_4/data/trajectory.csv.\n"
     ]
    },
    {
     "name": "stderr",
     "output_type": "stream",
     "text": [
      "100%|████████████████████████████████████████████████████████████████████████████████████████████████████████████████████| 477/477 [00:03<00:00, 134.66it/s]\n"
     ]
    },
    {
     "name": "stdout",
     "output_type": "stream",
     "text": [
      "Save 477 couples of imgs(pos/neg) at ./dataset/train/0017_4/img. \n",
      "Save 477 lines of trajectory data to ./dataset/train/0017_4/data/trajectory.csv.\n"
     ]
    },
    {
     "name": "stderr",
     "output_type": "stream",
     "text": [
      "100%|████████████████████████████████████████████████████████████████████████████████████████████████████████████████████| 477/477 [00:01<00:00, 269.59it/s]\n"
     ]
    },
    {
     "name": "stdout",
     "output_type": "stream",
     "text": [
      "Save 477 couples of imgs(pos/neg) at ./dataset/train/0018_4/img. \n",
      "Save 477 lines of trajectory data to ./dataset/train/0018_4/data/trajectory.csv.\n"
     ]
    },
    {
     "name": "stderr",
     "output_type": "stream",
     "text": [
      "100%|████████████████████████████████████████████████████████████████████████████████████████████████████████████████████| 477/477 [00:01<00:00, 263.48it/s]\n"
     ]
    },
    {
     "name": "stdout",
     "output_type": "stream",
     "text": [
      "Save 477 couples of imgs(pos/neg) at ./dataset/train/0019_4/img. \n",
      "Save 477 lines of trajectory data to ./dataset/train/0019_4/data/trajectory.csv.\n"
     ]
    },
    {
     "name": "stderr",
     "output_type": "stream",
     "text": [
      "100%|████████████████████████████████████████████████████████████████████████████████████████████████████████████████████| 477/477 [00:02<00:00, 218.88it/s]\n"
     ]
    },
    {
     "name": "stdout",
     "output_type": "stream",
     "text": [
      "Save 477 couples of imgs(pos/neg) at ./dataset/train/0020_4/img. \n",
      "Save 477 lines of trajectory data to ./dataset/train/0020_4/data/trajectory.csv.\n"
     ]
    },
    {
     "name": "stderr",
     "output_type": "stream",
     "text": [
      "100%|████████████████████████████████████████████████████████████████████████████████████████████████████████████████████| 477/477 [00:02<00:00, 226.68it/s]\n"
     ]
    },
    {
     "name": "stdout",
     "output_type": "stream",
     "text": [
      "Save 477 couples of imgs(pos/neg) at ./dataset/train/0021_4/img. \n",
      "Save 477 lines of trajectory data to ./dataset/train/0021_4/data/trajectory.csv.\n"
     ]
    },
    {
     "name": "stderr",
     "output_type": "stream",
     "text": [
      "100%|████████████████████████████████████████████████████████████████████████████████████████████████████████████████████| 477/477 [00:01<00:00, 277.07it/s]\n"
     ]
    },
    {
     "name": "stdout",
     "output_type": "stream",
     "text": [
      "Save 477 couples of imgs(pos/neg) at ./dataset/train/0022_4/img. \n",
      "Save 477 lines of trajectory data to ./dataset/train/0022_4/data/trajectory.csv.\n"
     ]
    },
    {
     "name": "stderr",
     "output_type": "stream",
     "text": [
      "100%|█████████████████████████████████████████████████████████████████████████████████████████████████████████████████████| 477/477 [00:24<00:00, 19.19it/s]\n"
     ]
    },
    {
     "name": "stdout",
     "output_type": "stream",
     "text": [
      "Save 477 couples of imgs(pos/neg) at ./dataset/train/0023_4/img. \n",
      "Save 477 lines of trajectory data to ./dataset/train/0023_4/data/trajectory.csv.\n"
     ]
    },
    {
     "name": "stderr",
     "output_type": "stream",
     "text": [
      "100%|█████████████████████████████████████████████████████████████████████████████████████████████████████████████████████| 477/477 [00:05<00:00, 90.60it/s]\n"
     ]
    },
    {
     "name": "stdout",
     "output_type": "stream",
     "text": [
      "Save 477 couples of imgs(pos/neg) at ./dataset/train/0024_4/img. \n",
      "Save 477 lines of trajectory data to ./dataset/train/0024_4/data/trajectory.csv.\n"
     ]
    },
    {
     "name": "stderr",
     "output_type": "stream",
     "text": [
      "100%|████████████████████████████████████████████████████████████████████████████████████████████████████████████████████| 477/477 [00:02<00:00, 231.39it/s]\n"
     ]
    },
    {
     "name": "stdout",
     "output_type": "stream",
     "text": [
      "Save 477 couples of imgs(pos/neg) at ./dataset/train/0025_4/img. \n",
      "Save 477 lines of trajectory data to ./dataset/train/0025_4/data/trajectory.csv.\n"
     ]
    },
    {
     "name": "stderr",
     "output_type": "stream",
     "text": [
      "100%|████████████████████████████████████████████████████████████████████████████████████████████████████████████████████| 477/477 [00:02<00:00, 206.09it/s]\n"
     ]
    },
    {
     "name": "stdout",
     "output_type": "stream",
     "text": [
      "Save 477 couples of imgs(pos/neg) at ./dataset/train/0026_4/img. \n",
      "Save 477 lines of trajectory data to ./dataset/train/0026_4/data/trajectory.csv.\n"
     ]
    },
    {
     "name": "stderr",
     "output_type": "stream",
     "text": [
      "100%|█████████████████████████████████████████████████████████████████████████████████████████████████████████████████████| 477/477 [00:06<00:00, 78.65it/s]"
     ]
    },
    {
     "name": "stdout",
     "output_type": "stream",
     "text": [
      "Save 477 couples of imgs(pos/neg) at ./dataset/train/0027_4/img. \n",
      "Save 477 lines of trajectory data to ./dataset/train/0027_4/data/trajectory.csv.\n"
     ]
    },
    {
     "name": "stderr",
     "output_type": "stream",
     "text": [
      "\n"
     ]
    }
   ],
   "source": [
    "for i in [1, 2, 4]:\n",
    "    for j in range(0, 28):\n",
    "        file_num = str(j).zfill(4)\n",
    "        generate_event_images(file_num, divider=i)\n",
    "        generate_traj_data(file_num, divider=i)"
   ]
  },
  {
   "cell_type": "code",
   "execution_count": 2,
   "id": "bfe8ef24",
   "metadata": {},
   "outputs": [
    {
     "name": "stderr",
     "output_type": "stream",
     "text": [
      "100%|██████████| 120/120 [00:00<00:00, 198.54it/s]\n"
     ]
    },
    {
     "name": "stdout",
     "output_type": "stream",
     "text": [
      "Save 120 couples of imgs(pos/neg) at ./dataset/train/0028_1/img. \n"
     ]
    },
    {
     "name": "stderr",
     "output_type": "stream",
     "text": [
      "100%|██████████| 120/120 [00:00<00:00, 224.39it/s]\n"
     ]
    },
    {
     "name": "stdout",
     "output_type": "stream",
     "text": [
      "Save 120 couples of imgs(pos/neg) at ./dataset/train/0029_1/img. \n"
     ]
    },
    {
     "name": "stderr",
     "output_type": "stream",
     "text": [
      "100%|██████████| 120/120 [00:01<00:00, 99.71it/s] \n"
     ]
    },
    {
     "name": "stdout",
     "output_type": "stream",
     "text": [
      "Save 120 couples of imgs(pos/neg) at ./dataset/train/0030_1/img. \n"
     ]
    },
    {
     "name": "stderr",
     "output_type": "stream",
     "text": [
      "100%|██████████| 120/120 [00:05<00:00, 22.58it/s]\n"
     ]
    },
    {
     "name": "stdout",
     "output_type": "stream",
     "text": [
      "Save 120 couples of imgs(pos/neg) at ./dataset/train/0031_1/img. \n"
     ]
    },
    {
     "name": "stderr",
     "output_type": "stream",
     "text": [
      "100%|██████████| 120/120 [00:00<00:00, 270.08it/s]\n"
     ]
    },
    {
     "name": "stdout",
     "output_type": "stream",
     "text": [
      "Save 120 couples of imgs(pos/neg) at ./dataset/train/0032_1/img. \n"
     ]
    },
    {
     "name": "stderr",
     "output_type": "stream",
     "text": [
      "100%|██████████| 120/120 [00:00<00:00, 127.57it/s]\n"
     ]
    },
    {
     "name": "stdout",
     "output_type": "stream",
     "text": [
      "Save 120 couples of imgs(pos/neg) at ./dataset/train/0033_1/img. \n"
     ]
    },
    {
     "name": "stderr",
     "output_type": "stream",
     "text": [
      "100%|██████████| 120/120 [00:01<00:00, 86.05it/s]\n"
     ]
    },
    {
     "name": "stdout",
     "output_type": "stream",
     "text": [
      "Save 120 couples of imgs(pos/neg) at ./dataset/train/0034_1/img. \n"
     ]
    },
    {
     "name": "stderr",
     "output_type": "stream",
     "text": [
      "100%|██████████| 120/120 [00:01<00:00, 91.63it/s]\n"
     ]
    },
    {
     "name": "stdout",
     "output_type": "stream",
     "text": [
      "Save 120 couples of imgs(pos/neg) at ./dataset/train/0035_1/img. \n"
     ]
    },
    {
     "name": "stderr",
     "output_type": "stream",
     "text": [
      "100%|██████████| 120/120 [00:01<00:00, 61.16it/s]\n"
     ]
    },
    {
     "name": "stdout",
     "output_type": "stream",
     "text": [
      "Save 120 couples of imgs(pos/neg) at ./dataset/train/0036_1/img. \n"
     ]
    },
    {
     "name": "stderr",
     "output_type": "stream",
     "text": [
      "100%|██████████| 120/120 [00:00<00:00, 138.01it/s]\n"
     ]
    },
    {
     "name": "stdout",
     "output_type": "stream",
     "text": [
      "Save 120 couples of imgs(pos/neg) at ./dataset/train/0037_1/img. \n"
     ]
    },
    {
     "name": "stderr",
     "output_type": "stream",
     "text": [
      "100%|██████████| 120/120 [00:00<00:00, 215.87it/s]\n"
     ]
    },
    {
     "name": "stdout",
     "output_type": "stream",
     "text": [
      "Save 120 couples of imgs(pos/neg) at ./dataset/train/0038_1/img. \n"
     ]
    },
    {
     "name": "stderr",
     "output_type": "stream",
     "text": [
      "100%|██████████| 120/120 [00:00<00:00, 130.39it/s]\n"
     ]
    },
    {
     "name": "stdout",
     "output_type": "stream",
     "text": [
      "Save 120 couples of imgs(pos/neg) at ./dataset/train/0039_1/img. \n"
     ]
    },
    {
     "name": "stderr",
     "output_type": "stream",
     "text": [
      "100%|██████████| 120/120 [00:01<00:00, 97.43it/s]\n"
     ]
    },
    {
     "name": "stdout",
     "output_type": "stream",
     "text": [
      "Save 120 couples of imgs(pos/neg) at ./dataset/train/0040_1/img. \n"
     ]
    },
    {
     "name": "stderr",
     "output_type": "stream",
     "text": [
      "100%|██████████| 120/120 [00:00<00:00, 209.83it/s]\n"
     ]
    },
    {
     "name": "stdout",
     "output_type": "stream",
     "text": [
      "Save 120 couples of imgs(pos/neg) at ./dataset/train/0041_1/img. \n"
     ]
    },
    {
     "name": "stderr",
     "output_type": "stream",
     "text": [
      "100%|██████████| 120/120 [00:04<00:00, 28.99it/s]\n"
     ]
    },
    {
     "name": "stdout",
     "output_type": "stream",
     "text": [
      "Save 120 couples of imgs(pos/neg) at ./dataset/train/0042_1/img. \n"
     ]
    },
    {
     "name": "stderr",
     "output_type": "stream",
     "text": [
      "100%|██████████| 120/120 [00:00<00:00, 226.83it/s]\n"
     ]
    },
    {
     "name": "stdout",
     "output_type": "stream",
     "text": [
      "Save 120 couples of imgs(pos/neg) at ./dataset/train/0043_1/img. \n"
     ]
    },
    {
     "name": "stderr",
     "output_type": "stream",
     "text": [
      "100%|██████████| 120/120 [00:03<00:00, 33.39it/s]\n"
     ]
    },
    {
     "name": "stdout",
     "output_type": "stream",
     "text": [
      "Save 120 couples of imgs(pos/neg) at ./dataset/train/0044_1/img. \n"
     ]
    },
    {
     "name": "stderr",
     "output_type": "stream",
     "text": [
      "100%|██████████| 120/120 [00:00<00:00, 271.60it/s]\n"
     ]
    },
    {
     "name": "stdout",
     "output_type": "stream",
     "text": [
      "Save 120 couples of imgs(pos/neg) at ./dataset/train/0045_1/img. \n"
     ]
    },
    {
     "name": "stderr",
     "output_type": "stream",
     "text": [
      "100%|██████████| 120/120 [00:00<00:00, 218.15it/s]\n"
     ]
    },
    {
     "name": "stdout",
     "output_type": "stream",
     "text": [
      "Save 120 couples of imgs(pos/neg) at ./dataset/train/0046_1/img. \n"
     ]
    },
    {
     "name": "stderr",
     "output_type": "stream",
     "text": [
      "100%|██████████| 120/120 [00:04<00:00, 24.42it/s]\n"
     ]
    },
    {
     "name": "stdout",
     "output_type": "stream",
     "text": [
      "Save 120 couples of imgs(pos/neg) at ./dataset/train/0047_1/img. \n"
     ]
    },
    {
     "name": "stderr",
     "output_type": "stream",
     "text": [
      "100%|██████████| 120/120 [00:00<00:00, 158.39it/s]\n"
     ]
    },
    {
     "name": "stdout",
     "output_type": "stream",
     "text": [
      "Save 120 couples of imgs(pos/neg) at ./dataset/train/0048_1/img. \n"
     ]
    },
    {
     "name": "stderr",
     "output_type": "stream",
     "text": [
      "100%|██████████| 120/120 [00:02<00:00, 40.22it/s]\n"
     ]
    },
    {
     "name": "stdout",
     "output_type": "stream",
     "text": [
      "Save 120 couples of imgs(pos/neg) at ./dataset/train/0049_1/img. \n"
     ]
    },
    {
     "name": "stderr",
     "output_type": "stream",
     "text": [
      "100%|██████████| 120/120 [00:00<00:00, 210.75it/s]\n"
     ]
    },
    {
     "name": "stdout",
     "output_type": "stream",
     "text": [
      "Save 120 couples of imgs(pos/neg) at ./dataset/train/0050_1/img. \n"
     ]
    },
    {
     "name": "stderr",
     "output_type": "stream",
     "text": [
      "100%|██████████| 120/120 [00:05<00:00, 21.09it/s]\n"
     ]
    },
    {
     "name": "stdout",
     "output_type": "stream",
     "text": [
      "Save 120 couples of imgs(pos/neg) at ./dataset/train/0051_1/img. \n"
     ]
    },
    {
     "name": "stderr",
     "output_type": "stream",
     "text": [
      "100%|██████████| 120/120 [00:01<00:00, 80.25it/s]\n"
     ]
    },
    {
     "name": "stdout",
     "output_type": "stream",
     "text": [
      "Save 120 couples of imgs(pos/neg) at ./dataset/train/0052_1/img. \n"
     ]
    },
    {
     "name": "stderr",
     "output_type": "stream",
     "text": [
      "100%|██████████| 120/120 [00:03<00:00, 31.73it/s]\n"
     ]
    },
    {
     "name": "stdout",
     "output_type": "stream",
     "text": [
      "Save 120 couples of imgs(pos/neg) at ./dataset/train/0053_1/img. \n"
     ]
    },
    {
     "name": "stderr",
     "output_type": "stream",
     "text": [
      "100%|██████████| 120/120 [00:00<00:00, 232.73it/s]\n"
     ]
    },
    {
     "name": "stdout",
     "output_type": "stream",
     "text": [
      "Save 120 couples of imgs(pos/neg) at ./dataset/train/0054_1/img. \n"
     ]
    },
    {
     "name": "stderr",
     "output_type": "stream",
     "text": [
      "100%|██████████| 120/120 [00:01<00:00, 93.03it/s]\n"
     ]
    },
    {
     "name": "stdout",
     "output_type": "stream",
     "text": [
      "Save 120 couples of imgs(pos/neg) at ./dataset/train/0055_1/img. \n"
     ]
    },
    {
     "name": "stderr",
     "output_type": "stream",
     "text": [
      "100%|██████████| 120/120 [00:00<00:00, 217.14it/s]\n"
     ]
    },
    {
     "name": "stdout",
     "output_type": "stream",
     "text": [
      "Save 120 couples of imgs(pos/neg) at ./dataset/train/0056_1/img. \n"
     ]
    },
    {
     "name": "stderr",
     "output_type": "stream",
     "text": [
      "100%|██████████| 120/120 [00:00<00:00, 234.80it/s]\n"
     ]
    },
    {
     "name": "stdout",
     "output_type": "stream",
     "text": [
      "Save 120 couples of imgs(pos/neg) at ./dataset/train/0057_1/img. \n"
     ]
    },
    {
     "name": "stderr",
     "output_type": "stream",
     "text": [
      "100%|██████████| 120/120 [00:04<00:00, 25.60it/s]\n"
     ]
    },
    {
     "name": "stdout",
     "output_type": "stream",
     "text": [
      "Save 120 couples of imgs(pos/neg) at ./dataset/train/0058_1/img. \n"
     ]
    },
    {
     "name": "stderr",
     "output_type": "stream",
     "text": [
      "100%|██████████| 120/120 [00:01<00:00, 71.60it/s]\n"
     ]
    },
    {
     "name": "stdout",
     "output_type": "stream",
     "text": [
      "Save 120 couples of imgs(pos/neg) at ./dataset/train/0059_1/img. \n"
     ]
    },
    {
     "name": "stderr",
     "output_type": "stream",
     "text": [
      "100%|██████████| 120/120 [00:00<00:00, 265.16it/s]\n"
     ]
    },
    {
     "name": "stdout",
     "output_type": "stream",
     "text": [
      "Save 120 couples of imgs(pos/neg) at ./dataset/train/0060_1/img. \n"
     ]
    },
    {
     "name": "stderr",
     "output_type": "stream",
     "text": [
      "100%|██████████| 120/120 [00:01<00:00, 64.14it/s]\n"
     ]
    },
    {
     "name": "stdout",
     "output_type": "stream",
     "text": [
      "Save 120 couples of imgs(pos/neg) at ./dataset/train/0061_1/img. \n"
     ]
    },
    {
     "name": "stderr",
     "output_type": "stream",
     "text": [
      "100%|██████████| 120/120 [00:04<00:00, 25.07it/s]\n"
     ]
    },
    {
     "name": "stdout",
     "output_type": "stream",
     "text": [
      "Save 120 couples of imgs(pos/neg) at ./dataset/train/0062_1/img. \n"
     ]
    },
    {
     "name": "stderr",
     "output_type": "stream",
     "text": [
      "100%|██████████| 120/120 [00:01<00:00, 65.11it/s]\n"
     ]
    },
    {
     "name": "stdout",
     "output_type": "stream",
     "text": [
      "Save 120 couples of imgs(pos/neg) at ./dataset/train/0063_1/img. \n"
     ]
    },
    {
     "name": "stderr",
     "output_type": "stream",
     "text": [
      "100%|██████████| 120/120 [00:00<00:00, 128.40it/s]\n"
     ]
    },
    {
     "name": "stdout",
     "output_type": "stream",
     "text": [
      "Save 120 couples of imgs(pos/neg) at ./dataset/train/0064_1/img. \n"
     ]
    },
    {
     "name": "stderr",
     "output_type": "stream",
     "text": [
      "100%|██████████| 120/120 [00:00<00:00, 261.69it/s]\n"
     ]
    },
    {
     "name": "stdout",
     "output_type": "stream",
     "text": [
      "Save 120 couples of imgs(pos/neg) at ./dataset/train/0065_1/img. \n"
     ]
    },
    {
     "name": "stderr",
     "output_type": "stream",
     "text": [
      "100%|██████████| 120/120 [00:05<00:00, 22.22it/s]\n"
     ]
    },
    {
     "name": "stdout",
     "output_type": "stream",
     "text": [
      "Save 120 couples of imgs(pos/neg) at ./dataset/train/0066_1/img. \n"
     ]
    },
    {
     "name": "stderr",
     "output_type": "stream",
     "text": [
      "100%|██████████| 120/120 [00:04<00:00, 29.68it/s]\n"
     ]
    },
    {
     "name": "stdout",
     "output_type": "stream",
     "text": [
      "Save 120 couples of imgs(pos/neg) at ./dataset/train/0067_1/img. \n"
     ]
    },
    {
     "name": "stderr",
     "output_type": "stream",
     "text": [
      "100%|██████████| 120/120 [00:01<00:00, 100.57it/s]\n"
     ]
    },
    {
     "name": "stdout",
     "output_type": "stream",
     "text": [
      "Save 120 couples of imgs(pos/neg) at ./dataset/train/0068_1/img. \n"
     ]
    },
    {
     "name": "stderr",
     "output_type": "stream",
     "text": [
      "100%|██████████| 120/120 [00:00<00:00, 264.86it/s]\n"
     ]
    },
    {
     "name": "stdout",
     "output_type": "stream",
     "text": [
      "Save 120 couples of imgs(pos/neg) at ./dataset/train/0069_1/img. \n"
     ]
    },
    {
     "name": "stderr",
     "output_type": "stream",
     "text": [
      "100%|██████████| 120/120 [00:00<00:00, 125.67it/s]\n"
     ]
    },
    {
     "name": "stdout",
     "output_type": "stream",
     "text": [
      "Save 120 couples of imgs(pos/neg) at ./dataset/train/0070_1/img. \n"
     ]
    },
    {
     "name": "stderr",
     "output_type": "stream",
     "text": [
      "100%|██████████| 120/120 [00:01<00:00, 92.94it/s]\n"
     ]
    },
    {
     "name": "stdout",
     "output_type": "stream",
     "text": [
      "Save 120 couples of imgs(pos/neg) at ./dataset/train/0071_1/img. \n"
     ]
    },
    {
     "name": "stderr",
     "output_type": "stream",
     "text": [
      "100%|██████████| 120/120 [00:01<00:00, 77.40it/s]\n"
     ]
    },
    {
     "name": "stdout",
     "output_type": "stream",
     "text": [
      "Save 120 couples of imgs(pos/neg) at ./dataset/train/0072_1/img. \n"
     ]
    },
    {
     "name": "stderr",
     "output_type": "stream",
     "text": [
      "100%|██████████| 120/120 [00:04<00:00, 25.29it/s]\n"
     ]
    },
    {
     "name": "stdout",
     "output_type": "stream",
     "text": [
      "Save 120 couples of imgs(pos/neg) at ./dataset/train/0073_1/img. \n"
     ]
    },
    {
     "name": "stderr",
     "output_type": "stream",
     "text": [
      "100%|██████████| 120/120 [00:03<00:00, 38.35it/s]\n"
     ]
    },
    {
     "name": "stdout",
     "output_type": "stream",
     "text": [
      "Save 120 couples of imgs(pos/neg) at ./dataset/train/0074_1/img. \n"
     ]
    },
    {
     "name": "stderr",
     "output_type": "stream",
     "text": [
      "100%|██████████| 120/120 [00:00<00:00, 246.19it/s]\n"
     ]
    },
    {
     "name": "stdout",
     "output_type": "stream",
     "text": [
      "Save 120 couples of imgs(pos/neg) at ./dataset/train/0075_1/img. \n"
     ]
    },
    {
     "name": "stderr",
     "output_type": "stream",
     "text": [
      "100%|██████████| 120/120 [00:00<00:00, 233.14it/s]\n"
     ]
    },
    {
     "name": "stdout",
     "output_type": "stream",
     "text": [
      "Save 120 couples of imgs(pos/neg) at ./dataset/train/0076_1/img. \n"
     ]
    },
    {
     "name": "stderr",
     "output_type": "stream",
     "text": [
      "100%|██████████| 120/120 [00:01<00:00, 80.93it/s]\n"
     ]
    },
    {
     "name": "stdout",
     "output_type": "stream",
     "text": [
      "Save 120 couples of imgs(pos/neg) at ./dataset/train/0077_1/img. \n"
     ]
    },
    {
     "name": "stderr",
     "output_type": "stream",
     "text": [
      "100%|██████████| 120/120 [00:01<00:00, 92.51it/s]\n"
     ]
    },
    {
     "name": "stdout",
     "output_type": "stream",
     "text": [
      "Save 120 couples of imgs(pos/neg) at ./dataset/train/0078_1/img. \n"
     ]
    },
    {
     "name": "stderr",
     "output_type": "stream",
     "text": [
      "100%|██████████| 120/120 [00:00<00:00, 217.83it/s]\n"
     ]
    },
    {
     "name": "stdout",
     "output_type": "stream",
     "text": [
      "Save 120 couples of imgs(pos/neg) at ./dataset/train/0079_1/img. \n"
     ]
    },
    {
     "name": "stderr",
     "output_type": "stream",
     "text": [
      "100%|██████████| 120/120 [00:00<00:00, 224.86it/s]\n"
     ]
    },
    {
     "name": "stdout",
     "output_type": "stream",
     "text": [
      "Save 120 couples of imgs(pos/neg) at ./dataset/train/0080_1/img. \n"
     ]
    },
    {
     "name": "stderr",
     "output_type": "stream",
     "text": [
      "100%|██████████| 120/120 [00:00<00:00, 217.97it/s]\n"
     ]
    },
    {
     "name": "stdout",
     "output_type": "stream",
     "text": [
      "Save 120 couples of imgs(pos/neg) at ./dataset/train/0081_1/img. \n"
     ]
    },
    {
     "name": "stderr",
     "output_type": "stream",
     "text": [
      "100%|██████████| 120/120 [00:01<00:00, 116.67it/s]\n"
     ]
    },
    {
     "name": "stdout",
     "output_type": "stream",
     "text": [
      "Save 120 couples of imgs(pos/neg) at ./dataset/train/0082_1/img. \n"
     ]
    },
    {
     "name": "stderr",
     "output_type": "stream",
     "text": [
      "100%|██████████| 120/120 [00:00<00:00, 212.23it/s]\n"
     ]
    },
    {
     "name": "stdout",
     "output_type": "stream",
     "text": [
      "Save 120 couples of imgs(pos/neg) at ./dataset/train/0083_1/img. \n"
     ]
    },
    {
     "name": "stderr",
     "output_type": "stream",
     "text": [
      "100%|██████████| 120/120 [00:01<00:00, 64.69it/s]\n"
     ]
    },
    {
     "name": "stdout",
     "output_type": "stream",
     "text": [
      "Save 120 couples of imgs(pos/neg) at ./dataset/train/0084_1/img. \n"
     ]
    },
    {
     "name": "stderr",
     "output_type": "stream",
     "text": [
      "100%|██████████| 120/120 [00:00<00:00, 229.28it/s]\n"
     ]
    },
    {
     "name": "stdout",
     "output_type": "stream",
     "text": [
      "Save 120 couples of imgs(pos/neg) at ./dataset/train/0085_1/img. \n"
     ]
    },
    {
     "name": "stderr",
     "output_type": "stream",
     "text": [
      "100%|██████████| 120/120 [00:00<00:00, 206.57it/s]\n"
     ]
    },
    {
     "name": "stdout",
     "output_type": "stream",
     "text": [
      "Save 120 couples of imgs(pos/neg) at ./dataset/train/0086_1/img. \n"
     ]
    },
    {
     "name": "stderr",
     "output_type": "stream",
     "text": [
      "100%|██████████| 120/120 [00:05<00:00, 23.66it/s]\n"
     ]
    },
    {
     "name": "stdout",
     "output_type": "stream",
     "text": [
      "Save 120 couples of imgs(pos/neg) at ./dataset/train/0087_1/img. \n"
     ]
    },
    {
     "name": "stderr",
     "output_type": "stream",
     "text": [
      "100%|██████████| 120/120 [00:00<00:00, 193.56it/s]\n"
     ]
    },
    {
     "name": "stdout",
     "output_type": "stream",
     "text": [
      "Save 120 couples of imgs(pos/neg) at ./dataset/train/0088_1/img. \n"
     ]
    },
    {
     "name": "stderr",
     "output_type": "stream",
     "text": [
      "100%|██████████| 120/120 [00:01<00:00, 78.62it/s]\n"
     ]
    },
    {
     "name": "stdout",
     "output_type": "stream",
     "text": [
      "Save 120 couples of imgs(pos/neg) at ./dataset/train/0089_1/img. \n"
     ]
    },
    {
     "name": "stderr",
     "output_type": "stream",
     "text": [
      "100%|██████████| 120/120 [00:03<00:00, 31.45it/s]\n"
     ]
    },
    {
     "name": "stdout",
     "output_type": "stream",
     "text": [
      "Save 120 couples of imgs(pos/neg) at ./dataset/train/0090_1/img. \n"
     ]
    },
    {
     "name": "stderr",
     "output_type": "stream",
     "text": [
      "100%|██████████| 120/120 [00:03<00:00, 38.25it/s]\n"
     ]
    },
    {
     "name": "stdout",
     "output_type": "stream",
     "text": [
      "Save 120 couples of imgs(pos/neg) at ./dataset/train/0091_1/img. \n"
     ]
    },
    {
     "name": "stderr",
     "output_type": "stream",
     "text": [
      "100%|██████████| 120/120 [00:03<00:00, 34.08it/s]\n"
     ]
    },
    {
     "name": "stdout",
     "output_type": "stream",
     "text": [
      "Save 120 couples of imgs(pos/neg) at ./dataset/train/0092_1/img. \n"
     ]
    },
    {
     "name": "stderr",
     "output_type": "stream",
     "text": [
      "100%|██████████| 239/239 [00:01<00:00, 215.18it/s]\n"
     ]
    },
    {
     "name": "stdout",
     "output_type": "stream",
     "text": [
      "Save 239 couples of imgs(pos/neg) at ./dataset/train/0028_2/img. \n"
     ]
    },
    {
     "name": "stderr",
     "output_type": "stream",
     "text": [
      "100%|██████████| 239/239 [00:01<00:00, 234.45it/s]\n"
     ]
    },
    {
     "name": "stdout",
     "output_type": "stream",
     "text": [
      "Save 239 couples of imgs(pos/neg) at ./dataset/train/0029_2/img. \n"
     ]
    },
    {
     "name": "stderr",
     "output_type": "stream",
     "text": [
      "100%|██████████| 239/239 [00:02<00:00, 108.45it/s]\n"
     ]
    },
    {
     "name": "stdout",
     "output_type": "stream",
     "text": [
      "Save 239 couples of imgs(pos/neg) at ./dataset/train/0030_2/img. \n"
     ]
    },
    {
     "name": "stderr",
     "output_type": "stream",
     "text": [
      "100%|██████████| 239/239 [00:09<00:00, 24.76it/s]\n"
     ]
    },
    {
     "name": "stdout",
     "output_type": "stream",
     "text": [
      "Save 239 couples of imgs(pos/neg) at ./dataset/train/0031_2/img. \n"
     ]
    },
    {
     "name": "stderr",
     "output_type": "stream",
     "text": [
      "100%|██████████| 239/239 [00:00<00:00, 271.43it/s]\n"
     ]
    },
    {
     "name": "stdout",
     "output_type": "stream",
     "text": [
      "Save 239 couples of imgs(pos/neg) at ./dataset/train/0032_2/img. \n"
     ]
    },
    {
     "name": "stderr",
     "output_type": "stream",
     "text": [
      "100%|██████████| 239/239 [00:01<00:00, 136.56it/s]\n"
     ]
    },
    {
     "name": "stdout",
     "output_type": "stream",
     "text": [
      "Save 239 couples of imgs(pos/neg) at ./dataset/train/0033_2/img. \n"
     ]
    },
    {
     "name": "stderr",
     "output_type": "stream",
     "text": [
      "100%|██████████| 239/239 [00:02<00:00, 93.69it/s]\n"
     ]
    },
    {
     "name": "stdout",
     "output_type": "stream",
     "text": [
      "Save 239 couples of imgs(pos/neg) at ./dataset/train/0034_2/img. \n"
     ]
    },
    {
     "name": "stderr",
     "output_type": "stream",
     "text": [
      "100%|██████████| 239/239 [00:02<00:00, 99.91it/s] \n"
     ]
    },
    {
     "name": "stdout",
     "output_type": "stream",
     "text": [
      "Save 239 couples of imgs(pos/neg) at ./dataset/train/0035_2/img. \n"
     ]
    },
    {
     "name": "stderr",
     "output_type": "stream",
     "text": [
      "100%|██████████| 239/239 [00:03<00:00, 67.58it/s]\n"
     ]
    },
    {
     "name": "stdout",
     "output_type": "stream",
     "text": [
      "Save 239 couples of imgs(pos/neg) at ./dataset/train/0036_2/img. \n"
     ]
    },
    {
     "name": "stderr",
     "output_type": "stream",
     "text": [
      "100%|██████████| 239/239 [00:01<00:00, 143.99it/s]\n"
     ]
    },
    {
     "name": "stdout",
     "output_type": "stream",
     "text": [
      "Save 239 couples of imgs(pos/neg) at ./dataset/train/0037_2/img. \n"
     ]
    },
    {
     "name": "stderr",
     "output_type": "stream",
     "text": [
      "100%|██████████| 239/239 [00:01<00:00, 219.05it/s]\n"
     ]
    },
    {
     "name": "stdout",
     "output_type": "stream",
     "text": [
      "Save 239 couples of imgs(pos/neg) at ./dataset/train/0038_2/img. \n"
     ]
    },
    {
     "name": "stderr",
     "output_type": "stream",
     "text": [
      "100%|██████████| 239/239 [00:01<00:00, 139.00it/s]\n"
     ]
    },
    {
     "name": "stdout",
     "output_type": "stream",
     "text": [
      "Save 239 couples of imgs(pos/neg) at ./dataset/train/0039_2/img. \n"
     ]
    },
    {
     "name": "stderr",
     "output_type": "stream",
     "text": [
      "100%|██████████| 239/239 [00:02<00:00, 104.05it/s]\n"
     ]
    },
    {
     "name": "stdout",
     "output_type": "stream",
     "text": [
      "Save 239 couples of imgs(pos/neg) at ./dataset/train/0040_2/img. \n"
     ]
    },
    {
     "name": "stderr",
     "output_type": "stream",
     "text": [
      "100%|██████████| 239/239 [00:01<00:00, 216.31it/s]\n"
     ]
    },
    {
     "name": "stdout",
     "output_type": "stream",
     "text": [
      "Save 239 couples of imgs(pos/neg) at ./dataset/train/0041_2/img. \n"
     ]
    },
    {
     "name": "stderr",
     "output_type": "stream",
     "text": [
      "100%|██████████| 239/239 [00:07<00:00, 31.08it/s]\n"
     ]
    },
    {
     "name": "stdout",
     "output_type": "stream",
     "text": [
      "Save 239 couples of imgs(pos/neg) at ./dataset/train/0042_2/img. \n"
     ]
    },
    {
     "name": "stderr",
     "output_type": "stream",
     "text": [
      "100%|██████████| 239/239 [00:01<00:00, 231.79it/s]\n"
     ]
    },
    {
     "name": "stdout",
     "output_type": "stream",
     "text": [
      "Save 239 couples of imgs(pos/neg) at ./dataset/train/0043_2/img. \n"
     ]
    },
    {
     "name": "stderr",
     "output_type": "stream",
     "text": [
      "100%|██████████| 239/239 [00:06<00:00, 35.68it/s]\n"
     ]
    },
    {
     "name": "stdout",
     "output_type": "stream",
     "text": [
      "Save 239 couples of imgs(pos/neg) at ./dataset/train/0044_2/img. \n"
     ]
    },
    {
     "name": "stderr",
     "output_type": "stream",
     "text": [
      "100%|██████████| 239/239 [00:00<00:00, 276.02it/s]\n"
     ]
    },
    {
     "name": "stdout",
     "output_type": "stream",
     "text": [
      "Save 239 couples of imgs(pos/neg) at ./dataset/train/0045_2/img. \n"
     ]
    },
    {
     "name": "stderr",
     "output_type": "stream",
     "text": [
      "100%|██████████| 239/239 [00:01<00:00, 223.77it/s]\n"
     ]
    },
    {
     "name": "stdout",
     "output_type": "stream",
     "text": [
      "Save 239 couples of imgs(pos/neg) at ./dataset/train/0046_2/img. \n"
     ]
    },
    {
     "name": "stderr",
     "output_type": "stream",
     "text": [
      "100%|██████████| 239/239 [00:09<00:00, 26.38it/s]\n"
     ]
    },
    {
     "name": "stdout",
     "output_type": "stream",
     "text": [
      "Save 239 couples of imgs(pos/neg) at ./dataset/train/0047_2/img. \n"
     ]
    },
    {
     "name": "stderr",
     "output_type": "stream",
     "text": [
      "100%|██████████| 239/239 [00:01<00:00, 167.09it/s]\n"
     ]
    },
    {
     "name": "stdout",
     "output_type": "stream",
     "text": [
      "Save 239 couples of imgs(pos/neg) at ./dataset/train/0048_2/img. \n"
     ]
    },
    {
     "name": "stderr",
     "output_type": "stream",
     "text": [
      "100%|██████████| 239/239 [00:05<00:00, 42.89it/s]\n"
     ]
    },
    {
     "name": "stdout",
     "output_type": "stream",
     "text": [
      "Save 239 couples of imgs(pos/neg) at ./dataset/train/0049_2/img. \n"
     ]
    },
    {
     "name": "stderr",
     "output_type": "stream",
     "text": [
      "100%|██████████| 239/239 [00:01<00:00, 214.13it/s]\n"
     ]
    },
    {
     "name": "stdout",
     "output_type": "stream",
     "text": [
      "Save 239 couples of imgs(pos/neg) at ./dataset/train/0050_2/img. \n"
     ]
    },
    {
     "name": "stderr",
     "output_type": "stream",
     "text": [
      "100%|██████████| 239/239 [00:10<00:00, 22.06it/s]\n"
     ]
    },
    {
     "name": "stdout",
     "output_type": "stream",
     "text": [
      "Save 239 couples of imgs(pos/neg) at ./dataset/train/0051_2/img. \n"
     ]
    },
    {
     "name": "stderr",
     "output_type": "stream",
     "text": [
      "100%|██████████| 239/239 [00:02<00:00, 85.94it/s]\n"
     ]
    },
    {
     "name": "stdout",
     "output_type": "stream",
     "text": [
      "Save 239 couples of imgs(pos/neg) at ./dataset/train/0052_2/img. \n"
     ]
    },
    {
     "name": "stderr",
     "output_type": "stream",
     "text": [
      "100%|██████████| 239/239 [00:07<00:00, 33.52it/s]\n"
     ]
    },
    {
     "name": "stdout",
     "output_type": "stream",
     "text": [
      "Save 239 couples of imgs(pos/neg) at ./dataset/train/0053_2/img. \n"
     ]
    },
    {
     "name": "stderr",
     "output_type": "stream",
     "text": [
      "100%|██████████| 239/239 [00:01<00:00, 236.59it/s]\n"
     ]
    },
    {
     "name": "stdout",
     "output_type": "stream",
     "text": [
      "Save 239 couples of imgs(pos/neg) at ./dataset/train/0054_2/img. \n"
     ]
    },
    {
     "name": "stderr",
     "output_type": "stream",
     "text": [
      "100%|██████████| 239/239 [00:02<00:00, 100.81it/s]\n"
     ]
    },
    {
     "name": "stdout",
     "output_type": "stream",
     "text": [
      "Save 239 couples of imgs(pos/neg) at ./dataset/train/0055_2/img. \n"
     ]
    },
    {
     "name": "stderr",
     "output_type": "stream",
     "text": [
      "100%|██████████| 239/239 [00:01<00:00, 221.80it/s]\n"
     ]
    },
    {
     "name": "stdout",
     "output_type": "stream",
     "text": [
      "Save 239 couples of imgs(pos/neg) at ./dataset/train/0056_2/img. \n"
     ]
    },
    {
     "name": "stderr",
     "output_type": "stream",
     "text": [
      "100%|██████████| 239/239 [00:01<00:00, 237.73it/s]\n"
     ]
    },
    {
     "name": "stdout",
     "output_type": "stream",
     "text": [
      "Save 239 couples of imgs(pos/neg) at ./dataset/train/0057_2/img. \n"
     ]
    },
    {
     "name": "stderr",
     "output_type": "stream",
     "text": [
      "100%|██████████| 239/239 [00:08<00:00, 27.63it/s]\n"
     ]
    },
    {
     "name": "stdout",
     "output_type": "stream",
     "text": [
      "Save 239 couples of imgs(pos/neg) at ./dataset/train/0058_2/img. \n"
     ]
    },
    {
     "name": "stderr",
     "output_type": "stream",
     "text": [
      "100%|██████████| 239/239 [00:03<00:00, 77.93it/s]\n"
     ]
    },
    {
     "name": "stdout",
     "output_type": "stream",
     "text": [
      "Save 239 couples of imgs(pos/neg) at ./dataset/train/0059_2/img. \n"
     ]
    },
    {
     "name": "stderr",
     "output_type": "stream",
     "text": [
      "100%|██████████| 239/239 [00:00<00:00, 267.19it/s]\n"
     ]
    },
    {
     "name": "stdout",
     "output_type": "stream",
     "text": [
      "Save 239 couples of imgs(pos/neg) at ./dataset/train/0060_2/img. \n"
     ]
    },
    {
     "name": "stderr",
     "output_type": "stream",
     "text": [
      "100%|██████████| 239/239 [00:03<00:00, 69.12it/s]\n"
     ]
    },
    {
     "name": "stdout",
     "output_type": "stream",
     "text": [
      "Save 239 couples of imgs(pos/neg) at ./dataset/train/0061_2/img. \n"
     ]
    },
    {
     "name": "stderr",
     "output_type": "stream",
     "text": [
      "100%|██████████| 239/239 [00:09<00:00, 26.06it/s]\n"
     ]
    },
    {
     "name": "stdout",
     "output_type": "stream",
     "text": [
      "Save 239 couples of imgs(pos/neg) at ./dataset/train/0062_2/img. \n"
     ]
    },
    {
     "name": "stderr",
     "output_type": "stream",
     "text": [
      "100%|██████████| 239/239 [00:03<00:00, 68.41it/s]\n"
     ]
    },
    {
     "name": "stdout",
     "output_type": "stream",
     "text": [
      "Save 239 couples of imgs(pos/neg) at ./dataset/train/0063_2/img. \n"
     ]
    },
    {
     "name": "stderr",
     "output_type": "stream",
     "text": [
      "100%|██████████| 239/239 [00:01<00:00, 133.45it/s]\n"
     ]
    },
    {
     "name": "stdout",
     "output_type": "stream",
     "text": [
      "Save 239 couples of imgs(pos/neg) at ./dataset/train/0064_2/img. \n"
     ]
    },
    {
     "name": "stderr",
     "output_type": "stream",
     "text": [
      "100%|██████████| 239/239 [00:00<00:00, 265.81it/s]\n"
     ]
    },
    {
     "name": "stdout",
     "output_type": "stream",
     "text": [
      "Save 239 couples of imgs(pos/neg) at ./dataset/train/0065_2/img. \n"
     ]
    },
    {
     "name": "stderr",
     "output_type": "stream",
     "text": [
      "100%|██████████| 239/239 [00:10<00:00, 23.04it/s]\n"
     ]
    },
    {
     "name": "stdout",
     "output_type": "stream",
     "text": [
      "Save 239 couples of imgs(pos/neg) at ./dataset/train/0066_2/img. \n"
     ]
    },
    {
     "name": "stderr",
     "output_type": "stream",
     "text": [
      "100%|██████████| 239/239 [00:07<00:00, 30.88it/s]\n"
     ]
    },
    {
     "name": "stdout",
     "output_type": "stream",
     "text": [
      "Save 239 couples of imgs(pos/neg) at ./dataset/train/0067_2/img. \n"
     ]
    },
    {
     "name": "stderr",
     "output_type": "stream",
     "text": [
      "100%|██████████| 239/239 [00:02<00:00, 101.68it/s]\n"
     ]
    },
    {
     "name": "stdout",
     "output_type": "stream",
     "text": [
      "Save 239 couples of imgs(pos/neg) at ./dataset/train/0068_2/img. \n"
     ]
    },
    {
     "name": "stderr",
     "output_type": "stream",
     "text": [
      "100%|██████████| 239/239 [00:00<00:00, 270.87it/s]\n"
     ]
    },
    {
     "name": "stdout",
     "output_type": "stream",
     "text": [
      "Save 239 couples of imgs(pos/neg) at ./dataset/train/0069_2/img. \n"
     ]
    },
    {
     "name": "stderr",
     "output_type": "stream",
     "text": [
      "100%|██████████| 239/239 [00:01<00:00, 127.26it/s]\n"
     ]
    },
    {
     "name": "stdout",
     "output_type": "stream",
     "text": [
      "Save 239 couples of imgs(pos/neg) at ./dataset/train/0070_2/img. \n"
     ]
    },
    {
     "name": "stderr",
     "output_type": "stream",
     "text": [
      "100%|██████████| 239/239 [00:02<00:00, 100.04it/s]\n"
     ]
    },
    {
     "name": "stdout",
     "output_type": "stream",
     "text": [
      "Save 239 couples of imgs(pos/neg) at ./dataset/train/0071_2/img. \n"
     ]
    },
    {
     "name": "stderr",
     "output_type": "stream",
     "text": [
      "100%|██████████| 239/239 [00:02<00:00, 84.73it/s]\n"
     ]
    },
    {
     "name": "stdout",
     "output_type": "stream",
     "text": [
      "Save 239 couples of imgs(pos/neg) at ./dataset/train/0072_2/img. \n"
     ]
    },
    {
     "name": "stderr",
     "output_type": "stream",
     "text": [
      "100%|██████████| 239/239 [00:08<00:00, 27.28it/s]\n"
     ]
    },
    {
     "name": "stdout",
     "output_type": "stream",
     "text": [
      "Save 239 couples of imgs(pos/neg) at ./dataset/train/0073_2/img. \n"
     ]
    },
    {
     "name": "stderr",
     "output_type": "stream",
     "text": [
      "100%|██████████| 239/239 [00:05<00:00, 41.97it/s]\n"
     ]
    },
    {
     "name": "stdout",
     "output_type": "stream",
     "text": [
      "Save 239 couples of imgs(pos/neg) at ./dataset/train/0074_2/img. \n"
     ]
    },
    {
     "name": "stderr",
     "output_type": "stream",
     "text": [
      "100%|██████████| 239/239 [00:00<00:00, 269.69it/s]\n"
     ]
    },
    {
     "name": "stdout",
     "output_type": "stream",
     "text": [
      "Save 239 couples of imgs(pos/neg) at ./dataset/train/0075_2/img. \n"
     ]
    },
    {
     "name": "stderr",
     "output_type": "stream",
     "text": [
      "100%|██████████| 239/239 [00:01<00:00, 238.11it/s]\n"
     ]
    },
    {
     "name": "stdout",
     "output_type": "stream",
     "text": [
      "Save 239 couples of imgs(pos/neg) at ./dataset/train/0076_2/img. \n"
     ]
    },
    {
     "name": "stderr",
     "output_type": "stream",
     "text": [
      "100%|██████████| 239/239 [00:02<00:00, 88.70it/s]\n"
     ]
    },
    {
     "name": "stdout",
     "output_type": "stream",
     "text": [
      "Save 239 couples of imgs(pos/neg) at ./dataset/train/0077_2/img. \n"
     ]
    },
    {
     "name": "stderr",
     "output_type": "stream",
     "text": [
      "100%|██████████| 239/239 [00:02<00:00, 99.46it/s] \n"
     ]
    },
    {
     "name": "stdout",
     "output_type": "stream",
     "text": [
      "Save 239 couples of imgs(pos/neg) at ./dataset/train/0078_2/img. \n"
     ]
    },
    {
     "name": "stderr",
     "output_type": "stream",
     "text": [
      "100%|██████████| 239/239 [00:01<00:00, 222.78it/s]\n"
     ]
    },
    {
     "name": "stdout",
     "output_type": "stream",
     "text": [
      "Save 239 couples of imgs(pos/neg) at ./dataset/train/0079_2/img. \n"
     ]
    },
    {
     "name": "stderr",
     "output_type": "stream",
     "text": [
      "100%|██████████| 239/239 [00:01<00:00, 233.39it/s]\n"
     ]
    },
    {
     "name": "stdout",
     "output_type": "stream",
     "text": [
      "Save 239 couples of imgs(pos/neg) at ./dataset/train/0080_2/img. \n"
     ]
    },
    {
     "name": "stderr",
     "output_type": "stream",
     "text": [
      "100%|██████████| 239/239 [00:01<00:00, 224.07it/s]\n"
     ]
    },
    {
     "name": "stdout",
     "output_type": "stream",
     "text": [
      "Save 239 couples of imgs(pos/neg) at ./dataset/train/0081_2/img. \n"
     ]
    },
    {
     "name": "stderr",
     "output_type": "stream",
     "text": [
      "100%|██████████| 239/239 [00:01<00:00, 124.17it/s]\n"
     ]
    },
    {
     "name": "stdout",
     "output_type": "stream",
     "text": [
      "Save 239 couples of imgs(pos/neg) at ./dataset/train/0082_2/img. \n"
     ]
    },
    {
     "name": "stderr",
     "output_type": "stream",
     "text": [
      "100%|██████████| 239/239 [00:01<00:00, 219.63it/s]\n"
     ]
    },
    {
     "name": "stdout",
     "output_type": "stream",
     "text": [
      "Save 239 couples of imgs(pos/neg) at ./dataset/train/0083_2/img. \n"
     ]
    },
    {
     "name": "stderr",
     "output_type": "stream",
     "text": [
      "100%|██████████| 239/239 [00:03<00:00, 71.96it/s]\n"
     ]
    },
    {
     "name": "stdout",
     "output_type": "stream",
     "text": [
      "Save 239 couples of imgs(pos/neg) at ./dataset/train/0084_2/img. \n"
     ]
    },
    {
     "name": "stderr",
     "output_type": "stream",
     "text": [
      "100%|██████████| 239/239 [00:01<00:00, 233.70it/s]\n"
     ]
    },
    {
     "name": "stdout",
     "output_type": "stream",
     "text": [
      "Save 239 couples of imgs(pos/neg) at ./dataset/train/0085_2/img. \n"
     ]
    },
    {
     "name": "stderr",
     "output_type": "stream",
     "text": [
      "100%|██████████| 239/239 [00:01<00:00, 215.84it/s]\n"
     ]
    },
    {
     "name": "stdout",
     "output_type": "stream",
     "text": [
      "Save 239 couples of imgs(pos/neg) at ./dataset/train/0086_2/img. \n"
     ]
    },
    {
     "name": "stderr",
     "output_type": "stream",
     "text": [
      "100%|██████████| 239/239 [00:09<00:00, 25.09it/s]\n"
     ]
    },
    {
     "name": "stdout",
     "output_type": "stream",
     "text": [
      "Save 239 couples of imgs(pos/neg) at ./dataset/train/0087_2/img. \n"
     ]
    },
    {
     "name": "stderr",
     "output_type": "stream",
     "text": [
      "100%|██████████| 239/239 [00:01<00:00, 206.79it/s]\n"
     ]
    },
    {
     "name": "stdout",
     "output_type": "stream",
     "text": [
      "Save 239 couples of imgs(pos/neg) at ./dataset/train/0088_2/img. \n"
     ]
    },
    {
     "name": "stderr",
     "output_type": "stream",
     "text": [
      "100%|██████████| 239/239 [00:02<00:00, 85.14it/s]\n"
     ]
    },
    {
     "name": "stdout",
     "output_type": "stream",
     "text": [
      "Save 239 couples of imgs(pos/neg) at ./dataset/train/0089_2/img. \n"
     ]
    },
    {
     "name": "stderr",
     "output_type": "stream",
     "text": [
      "100%|██████████| 239/239 [00:07<00:00, 33.02it/s]\n"
     ]
    },
    {
     "name": "stdout",
     "output_type": "stream",
     "text": [
      "Save 239 couples of imgs(pos/neg) at ./dataset/train/0090_2/img. \n"
     ]
    },
    {
     "name": "stderr",
     "output_type": "stream",
     "text": [
      "100%|██████████| 239/239 [00:05<00:00, 40.27it/s]\n"
     ]
    },
    {
     "name": "stdout",
     "output_type": "stream",
     "text": [
      "Save 239 couples of imgs(pos/neg) at ./dataset/train/0091_2/img. \n"
     ]
    },
    {
     "name": "stderr",
     "output_type": "stream",
     "text": [
      "100%|██████████| 239/239 [00:06<00:00, 36.19it/s]\n"
     ]
    },
    {
     "name": "stdout",
     "output_type": "stream",
     "text": [
      "Save 239 couples of imgs(pos/neg) at ./dataset/train/0092_2/img. \n"
     ]
    },
    {
     "name": "stderr",
     "output_type": "stream",
     "text": [
      "100%|██████████| 477/477 [00:02<00:00, 223.14it/s]\n"
     ]
    },
    {
     "name": "stdout",
     "output_type": "stream",
     "text": [
      "Save 477 couples of imgs(pos/neg) at ./dataset/train/0028_4/img. \n"
     ]
    },
    {
     "name": "stderr",
     "output_type": "stream",
     "text": [
      "100%|██████████| 477/477 [00:01<00:00, 238.87it/s]\n"
     ]
    },
    {
     "name": "stdout",
     "output_type": "stream",
     "text": [
      "Save 477 couples of imgs(pos/neg) at ./dataset/train/0029_4/img. \n"
     ]
    },
    {
     "name": "stderr",
     "output_type": "stream",
     "text": [
      "100%|██████████| 477/477 [00:04<00:00, 114.02it/s]\n"
     ]
    },
    {
     "name": "stdout",
     "output_type": "stream",
     "text": [
      "Save 477 couples of imgs(pos/neg) at ./dataset/train/0030_4/img. \n"
     ]
    },
    {
     "name": "stderr",
     "output_type": "stream",
     "text": [
      "100%|██████████| 477/477 [00:18<00:00, 25.67it/s]\n"
     ]
    },
    {
     "name": "stdout",
     "output_type": "stream",
     "text": [
      "Save 477 couples of imgs(pos/neg) at ./dataset/train/0031_4/img. \n"
     ]
    },
    {
     "name": "stderr",
     "output_type": "stream",
     "text": [
      "100%|██████████| 477/477 [00:01<00:00, 294.40it/s]\n"
     ]
    },
    {
     "name": "stdout",
     "output_type": "stream",
     "text": [
      "Save 477 couples of imgs(pos/neg) at ./dataset/train/0032_4/img. \n"
     ]
    },
    {
     "name": "stderr",
     "output_type": "stream",
     "text": [
      "100%|██████████| 477/477 [00:03<00:00, 146.44it/s]\n"
     ]
    },
    {
     "name": "stdout",
     "output_type": "stream",
     "text": [
      "Save 477 couples of imgs(pos/neg) at ./dataset/train/0033_4/img. \n"
     ]
    },
    {
     "name": "stderr",
     "output_type": "stream",
     "text": [
      "100%|██████████| 477/477 [00:04<00:00, 99.51it/s] \n"
     ]
    },
    {
     "name": "stdout",
     "output_type": "stream",
     "text": [
      "Save 477 couples of imgs(pos/neg) at ./dataset/train/0034_4/img. \n"
     ]
    },
    {
     "name": "stderr",
     "output_type": "stream",
     "text": [
      "100%|██████████| 477/477 [00:04<00:00, 103.86it/s]\n"
     ]
    },
    {
     "name": "stdout",
     "output_type": "stream",
     "text": [
      "Save 477 couples of imgs(pos/neg) at ./dataset/train/0035_4/img. \n"
     ]
    },
    {
     "name": "stderr",
     "output_type": "stream",
     "text": [
      "100%|██████████| 477/477 [00:06<00:00, 71.98it/s]\n"
     ]
    },
    {
     "name": "stdout",
     "output_type": "stream",
     "text": [
      "Save 477 couples of imgs(pos/neg) at ./dataset/train/0036_4/img. \n"
     ]
    },
    {
     "name": "stderr",
     "output_type": "stream",
     "text": [
      "100%|██████████| 477/477 [00:03<00:00, 152.07it/s]\n"
     ]
    },
    {
     "name": "stdout",
     "output_type": "stream",
     "text": [
      "Save 477 couples of imgs(pos/neg) at ./dataset/train/0037_4/img. \n"
     ]
    },
    {
     "name": "stderr",
     "output_type": "stream",
     "text": [
      "100%|██████████| 477/477 [00:02<00:00, 224.22it/s]\n"
     ]
    },
    {
     "name": "stdout",
     "output_type": "stream",
     "text": [
      "Save 477 couples of imgs(pos/neg) at ./dataset/train/0038_4/img. \n"
     ]
    },
    {
     "name": "stderr",
     "output_type": "stream",
     "text": [
      "100%|██████████| 477/477 [00:03<00:00, 144.17it/s]\n"
     ]
    },
    {
     "name": "stdout",
     "output_type": "stream",
     "text": [
      "Save 477 couples of imgs(pos/neg) at ./dataset/train/0039_4/img. \n"
     ]
    },
    {
     "name": "stderr",
     "output_type": "stream",
     "text": [
      "100%|██████████| 477/477 [00:04<00:00, 109.36it/s]\n"
     ]
    },
    {
     "name": "stdout",
     "output_type": "stream",
     "text": [
      "Save 477 couples of imgs(pos/neg) at ./dataset/train/0040_4/img. \n"
     ]
    },
    {
     "name": "stderr",
     "output_type": "stream",
     "text": [
      "100%|██████████| 477/477 [00:02<00:00, 222.71it/s]\n"
     ]
    },
    {
     "name": "stdout",
     "output_type": "stream",
     "text": [
      "Save 477 couples of imgs(pos/neg) at ./dataset/train/0041_4/img. \n"
     ]
    },
    {
     "name": "stderr",
     "output_type": "stream",
     "text": [
      "100%|██████████| 477/477 [00:14<00:00, 33.08it/s]\n"
     ]
    },
    {
     "name": "stdout",
     "output_type": "stream",
     "text": [
      "Save 477 couples of imgs(pos/neg) at ./dataset/train/0042_4/img. \n"
     ]
    },
    {
     "name": "stderr",
     "output_type": "stream",
     "text": [
      "100%|██████████| 477/477 [00:02<00:00, 236.39it/s]\n"
     ]
    },
    {
     "name": "stdout",
     "output_type": "stream",
     "text": [
      "Save 477 couples of imgs(pos/neg) at ./dataset/train/0043_4/img. \n"
     ]
    },
    {
     "name": "stderr",
     "output_type": "stream",
     "text": [
      "100%|██████████| 477/477 [00:12<00:00, 37.29it/s]\n"
     ]
    },
    {
     "name": "stdout",
     "output_type": "stream",
     "text": [
      "Save 477 couples of imgs(pos/neg) at ./dataset/train/0044_4/img. \n"
     ]
    },
    {
     "name": "stderr",
     "output_type": "stream",
     "text": [
      "100%|██████████| 477/477 [00:01<00:00, 290.65it/s]\n"
     ]
    },
    {
     "name": "stdout",
     "output_type": "stream",
     "text": [
      "Save 477 couples of imgs(pos/neg) at ./dataset/train/0045_4/img. \n"
     ]
    },
    {
     "name": "stderr",
     "output_type": "stream",
     "text": [
      "100%|██████████| 477/477 [00:02<00:00, 227.60it/s]\n"
     ]
    },
    {
     "name": "stdout",
     "output_type": "stream",
     "text": [
      "Save 477 couples of imgs(pos/neg) at ./dataset/train/0046_4/img. \n"
     ]
    },
    {
     "name": "stderr",
     "output_type": "stream",
     "text": [
      "100%|██████████| 477/477 [00:17<00:00, 27.81it/s]\n"
     ]
    },
    {
     "name": "stdout",
     "output_type": "stream",
     "text": [
      "Save 477 couples of imgs(pos/neg) at ./dataset/train/0047_4/img. \n"
     ]
    },
    {
     "name": "stderr",
     "output_type": "stream",
     "text": [
      "100%|██████████| 477/477 [00:02<00:00, 174.21it/s]\n"
     ]
    },
    {
     "name": "stdout",
     "output_type": "stream",
     "text": [
      "Save 477 couples of imgs(pos/neg) at ./dataset/train/0048_4/img. \n"
     ]
    },
    {
     "name": "stderr",
     "output_type": "stream",
     "text": [
      "100%|██████████| 477/477 [00:10<00:00, 45.99it/s]\n"
     ]
    },
    {
     "name": "stdout",
     "output_type": "stream",
     "text": [
      "Save 477 couples of imgs(pos/neg) at ./dataset/train/0049_4/img. \n"
     ]
    },
    {
     "name": "stderr",
     "output_type": "stream",
     "text": [
      "100%|██████████| 477/477 [00:02<00:00, 220.49it/s]\n"
     ]
    },
    {
     "name": "stdout",
     "output_type": "stream",
     "text": [
      "Save 477 couples of imgs(pos/neg) at ./dataset/train/0050_4/img. \n"
     ]
    },
    {
     "name": "stderr",
     "output_type": "stream",
     "text": [
      "100%|██████████| 477/477 [00:20<00:00, 23.80it/s]\n"
     ]
    },
    {
     "name": "stdout",
     "output_type": "stream",
     "text": [
      "Save 477 couples of imgs(pos/neg) at ./dataset/train/0051_4/img. \n"
     ]
    },
    {
     "name": "stderr",
     "output_type": "stream",
     "text": [
      "100%|██████████| 477/477 [00:05<00:00, 91.23it/s]\n"
     ]
    },
    {
     "name": "stdout",
     "output_type": "stream",
     "text": [
      "Save 477 couples of imgs(pos/neg) at ./dataset/train/0052_4/img. \n"
     ]
    },
    {
     "name": "stderr",
     "output_type": "stream",
     "text": [
      "100%|██████████| 477/477 [00:13<00:00, 35.50it/s]\n"
     ]
    },
    {
     "name": "stdout",
     "output_type": "stream",
     "text": [
      "Save 477 couples of imgs(pos/neg) at ./dataset/train/0053_4/img. \n"
     ]
    },
    {
     "name": "stderr",
     "output_type": "stream",
     "text": [
      "100%|██████████| 477/477 [00:01<00:00, 244.06it/s]\n"
     ]
    },
    {
     "name": "stdout",
     "output_type": "stream",
     "text": [
      "Save 477 couples of imgs(pos/neg) at ./dataset/train/0054_4/img. \n"
     ]
    },
    {
     "name": "stderr",
     "output_type": "stream",
     "text": [
      "100%|██████████| 477/477 [00:04<00:00, 105.51it/s]\n"
     ]
    },
    {
     "name": "stdout",
     "output_type": "stream",
     "text": [
      "Save 477 couples of imgs(pos/neg) at ./dataset/train/0055_4/img. \n"
     ]
    },
    {
     "name": "stderr",
     "output_type": "stream",
     "text": [
      "100%|██████████| 477/477 [00:02<00:00, 230.70it/s]\n"
     ]
    },
    {
     "name": "stdout",
     "output_type": "stream",
     "text": [
      "Save 477 couples of imgs(pos/neg) at ./dataset/train/0056_4/img. \n"
     ]
    },
    {
     "name": "stderr",
     "output_type": "stream",
     "text": [
      "100%|██████████| 477/477 [00:01<00:00, 244.74it/s]\n"
     ]
    },
    {
     "name": "stdout",
     "output_type": "stream",
     "text": [
      "Save 477 couples of imgs(pos/neg) at ./dataset/train/0057_4/img. \n"
     ]
    },
    {
     "name": "stderr",
     "output_type": "stream",
     "text": [
      "100%|██████████| 477/477 [00:16<00:00, 29.21it/s]\n"
     ]
    },
    {
     "name": "stdout",
     "output_type": "stream",
     "text": [
      "Save 477 couples of imgs(pos/neg) at ./dataset/train/0058_4/img. \n"
     ]
    },
    {
     "name": "stderr",
     "output_type": "stream",
     "text": [
      "100%|██████████| 477/477 [00:05<00:00, 84.24it/s]\n"
     ]
    },
    {
     "name": "stdout",
     "output_type": "stream",
     "text": [
      "Save 477 couples of imgs(pos/neg) at ./dataset/train/0059_4/img. \n"
     ]
    },
    {
     "name": "stderr",
     "output_type": "stream",
     "text": [
      "100%|██████████| 477/477 [00:01<00:00, 278.04it/s]\n"
     ]
    },
    {
     "name": "stdout",
     "output_type": "stream",
     "text": [
      "Save 477 couples of imgs(pos/neg) at ./dataset/train/0060_4/img. \n"
     ]
    },
    {
     "name": "stderr",
     "output_type": "stream",
     "text": [
      "100%|██████████| 477/477 [00:06<00:00, 75.46it/s]\n"
     ]
    },
    {
     "name": "stdout",
     "output_type": "stream",
     "text": [
      "Save 477 couples of imgs(pos/neg) at ./dataset/train/0061_4/img. \n"
     ]
    },
    {
     "name": "stderr",
     "output_type": "stream",
     "text": [
      "100%|██████████| 477/477 [00:16<00:00, 28.09it/s]\n"
     ]
    },
    {
     "name": "stdout",
     "output_type": "stream",
     "text": [
      "Save 477 couples of imgs(pos/neg) at ./dataset/train/0062_4/img. \n"
     ]
    },
    {
     "name": "stderr",
     "output_type": "stream",
     "text": [
      "100%|██████████| 477/477 [00:06<00:00, 75.32it/s]\n"
     ]
    },
    {
     "name": "stdout",
     "output_type": "stream",
     "text": [
      "Save 477 couples of imgs(pos/neg) at ./dataset/train/0063_4/img. \n"
     ]
    },
    {
     "name": "stderr",
     "output_type": "stream",
     "text": [
      "100%|██████████| 477/477 [00:03<00:00, 143.39it/s]\n"
     ]
    },
    {
     "name": "stdout",
     "output_type": "stream",
     "text": [
      "Save 477 couples of imgs(pos/neg) at ./dataset/train/0064_4/img. \n"
     ]
    },
    {
     "name": "stderr",
     "output_type": "stream",
     "text": [
      "100%|██████████| 477/477 [00:01<00:00, 269.94it/s]\n"
     ]
    },
    {
     "name": "stdout",
     "output_type": "stream",
     "text": [
      "Save 477 couples of imgs(pos/neg) at ./dataset/train/0065_4/img. \n"
     ]
    },
    {
     "name": "stderr",
     "output_type": "stream",
     "text": [
      "100%|██████████| 477/477 [00:19<00:00, 24.84it/s]\n"
     ]
    },
    {
     "name": "stdout",
     "output_type": "stream",
     "text": [
      "Save 477 couples of imgs(pos/neg) at ./dataset/train/0066_4/img. \n"
     ]
    },
    {
     "name": "stderr",
     "output_type": "stream",
     "text": [
      "100%|██████████| 477/477 [00:14<00:00, 33.29it/s]\n"
     ]
    },
    {
     "name": "stdout",
     "output_type": "stream",
     "text": [
      "Save 477 couples of imgs(pos/neg) at ./dataset/train/0067_4/img. \n"
     ]
    },
    {
     "name": "stderr",
     "output_type": "stream",
     "text": [
      "100%|██████████| 477/477 [00:04<00:00, 113.27it/s]\n"
     ]
    },
    {
     "name": "stdout",
     "output_type": "stream",
     "text": [
      "Save 477 couples of imgs(pos/neg) at ./dataset/train/0068_4/img. \n"
     ]
    },
    {
     "name": "stderr",
     "output_type": "stream",
     "text": [
      "100%|██████████| 477/477 [00:01<00:00, 286.46it/s]\n"
     ]
    },
    {
     "name": "stdout",
     "output_type": "stream",
     "text": [
      "Save 477 couples of imgs(pos/neg) at ./dataset/train/0069_4/img. \n"
     ]
    },
    {
     "name": "stderr",
     "output_type": "stream",
     "text": [
      "100%|██████████| 477/477 [00:03<00:00, 140.59it/s]\n"
     ]
    },
    {
     "name": "stdout",
     "output_type": "stream",
     "text": [
      "Save 477 couples of imgs(pos/neg) at ./dataset/train/0070_4/img. \n"
     ]
    },
    {
     "name": "stderr",
     "output_type": "stream",
     "text": [
      "100%|██████████| 477/477 [00:04<00:00, 105.32it/s]\n"
     ]
    },
    {
     "name": "stdout",
     "output_type": "stream",
     "text": [
      "Save 477 couples of imgs(pos/neg) at ./dataset/train/0071_4/img. \n"
     ]
    },
    {
     "name": "stderr",
     "output_type": "stream",
     "text": [
      "100%|██████████| 477/477 [00:05<00:00, 88.73it/s]\n"
     ]
    },
    {
     "name": "stdout",
     "output_type": "stream",
     "text": [
      "Save 477 couples of imgs(pos/neg) at ./dataset/train/0072_4/img. \n"
     ]
    },
    {
     "name": "stderr",
     "output_type": "stream",
     "text": [
      "100%|██████████| 477/477 [00:16<00:00, 28.52it/s]\n"
     ]
    },
    {
     "name": "stdout",
     "output_type": "stream",
     "text": [
      "Save 477 couples of imgs(pos/neg) at ./dataset/train/0073_4/img. \n"
     ]
    },
    {
     "name": "stderr",
     "output_type": "stream",
     "text": [
      "100%|██████████| 477/477 [00:10<00:00, 43.40it/s]\n"
     ]
    },
    {
     "name": "stdout",
     "output_type": "stream",
     "text": [
      "Save 477 couples of imgs(pos/neg) at ./dataset/train/0074_4/img. \n"
     ]
    },
    {
     "name": "stderr",
     "output_type": "stream",
     "text": [
      "100%|██████████| 477/477 [00:01<00:00, 273.84it/s]\n"
     ]
    },
    {
     "name": "stdout",
     "output_type": "stream",
     "text": [
      "Save 477 couples of imgs(pos/neg) at ./dataset/train/0075_4/img. \n"
     ]
    },
    {
     "name": "stderr",
     "output_type": "stream",
     "text": [
      "100%|██████████| 477/477 [00:01<00:00, 247.32it/s]\n"
     ]
    },
    {
     "name": "stdout",
     "output_type": "stream",
     "text": [
      "Save 477 couples of imgs(pos/neg) at ./dataset/train/0076_4/img. \n"
     ]
    },
    {
     "name": "stderr",
     "output_type": "stream",
     "text": [
      "100%|██████████| 477/477 [00:05<00:00, 93.59it/s]\n"
     ]
    },
    {
     "name": "stdout",
     "output_type": "stream",
     "text": [
      "Save 477 couples of imgs(pos/neg) at ./dataset/train/0077_4/img. \n"
     ]
    },
    {
     "name": "stderr",
     "output_type": "stream",
     "text": [
      "100%|██████████| 477/477 [00:04<00:00, 104.40it/s]\n"
     ]
    },
    {
     "name": "stdout",
     "output_type": "stream",
     "text": [
      "Save 477 couples of imgs(pos/neg) at ./dataset/train/0078_4/img. \n"
     ]
    },
    {
     "name": "stderr",
     "output_type": "stream",
     "text": [
      "100%|██████████| 477/477 [00:02<00:00, 232.81it/s]\n"
     ]
    },
    {
     "name": "stdout",
     "output_type": "stream",
     "text": [
      "Save 477 couples of imgs(pos/neg) at ./dataset/train/0079_4/img. \n"
     ]
    },
    {
     "name": "stderr",
     "output_type": "stream",
     "text": [
      "100%|██████████| 477/477 [00:02<00:00, 237.80it/s]\n"
     ]
    },
    {
     "name": "stdout",
     "output_type": "stream",
     "text": [
      "Save 477 couples of imgs(pos/neg) at ./dataset/train/0080_4/img. \n"
     ]
    },
    {
     "name": "stderr",
     "output_type": "stream",
     "text": [
      "100%|██████████| 477/477 [00:02<00:00, 231.45it/s]\n"
     ]
    },
    {
     "name": "stdout",
     "output_type": "stream",
     "text": [
      "Save 477 couples of imgs(pos/neg) at ./dataset/train/0081_4/img. \n"
     ]
    },
    {
     "name": "stderr",
     "output_type": "stream",
     "text": [
      "100%|██████████| 477/477 [00:03<00:00, 129.52it/s]\n"
     ]
    },
    {
     "name": "stdout",
     "output_type": "stream",
     "text": [
      "Save 477 couples of imgs(pos/neg) at ./dataset/train/0082_4/img. \n"
     ]
    },
    {
     "name": "stderr",
     "output_type": "stream",
     "text": [
      "100%|██████████| 477/477 [00:02<00:00, 225.92it/s]\n"
     ]
    },
    {
     "name": "stdout",
     "output_type": "stream",
     "text": [
      "Save 477 couples of imgs(pos/neg) at ./dataset/train/0083_4/img. \n"
     ]
    },
    {
     "name": "stderr",
     "output_type": "stream",
     "text": [
      "100%|██████████| 477/477 [00:06<00:00, 73.20it/s]\n"
     ]
    },
    {
     "name": "stdout",
     "output_type": "stream",
     "text": [
      "Save 477 couples of imgs(pos/neg) at ./dataset/train/0084_4/img. \n"
     ]
    },
    {
     "name": "stderr",
     "output_type": "stream",
     "text": [
      "100%|██████████| 477/477 [00:01<00:00, 244.82it/s]\n"
     ]
    },
    {
     "name": "stdout",
     "output_type": "stream",
     "text": [
      "Save 477 couples of imgs(pos/neg) at ./dataset/train/0085_4/img. \n"
     ]
    },
    {
     "name": "stderr",
     "output_type": "stream",
     "text": [
      "100%|██████████| 477/477 [00:02<00:00, 227.02it/s]\n"
     ]
    },
    {
     "name": "stdout",
     "output_type": "stream",
     "text": [
      "Save 477 couples of imgs(pos/neg) at ./dataset/train/0086_4/img. \n"
     ]
    },
    {
     "name": "stderr",
     "output_type": "stream",
     "text": [
      "100%|██████████| 477/477 [00:18<00:00, 25.78it/s]\n"
     ]
    },
    {
     "name": "stdout",
     "output_type": "stream",
     "text": [
      "Save 477 couples of imgs(pos/neg) at ./dataset/train/0087_4/img. \n"
     ]
    },
    {
     "name": "stderr",
     "output_type": "stream",
     "text": [
      "100%|██████████| 477/477 [00:02<00:00, 215.01it/s]\n"
     ]
    },
    {
     "name": "stdout",
     "output_type": "stream",
     "text": [
      "Save 477 couples of imgs(pos/neg) at ./dataset/train/0088_4/img. \n"
     ]
    },
    {
     "name": "stderr",
     "output_type": "stream",
     "text": [
      "100%|██████████| 477/477 [00:05<00:00, 90.57it/s]\n"
     ]
    },
    {
     "name": "stdout",
     "output_type": "stream",
     "text": [
      "Save 477 couples of imgs(pos/neg) at ./dataset/train/0089_4/img. \n"
     ]
    },
    {
     "name": "stderr",
     "output_type": "stream",
     "text": [
      "100%|██████████| 477/477 [00:13<00:00, 35.86it/s]\n"
     ]
    },
    {
     "name": "stdout",
     "output_type": "stream",
     "text": [
      "Save 477 couples of imgs(pos/neg) at ./dataset/train/0090_4/img. \n"
     ]
    },
    {
     "name": "stderr",
     "output_type": "stream",
     "text": [
      "100%|██████████| 477/477 [00:10<00:00, 43.37it/s]\n"
     ]
    },
    {
     "name": "stdout",
     "output_type": "stream",
     "text": [
      "Save 477 couples of imgs(pos/neg) at ./dataset/train/0091_4/img. \n"
     ]
    },
    {
     "name": "stderr",
     "output_type": "stream",
     "text": [
      "100%|██████████| 477/477 [00:12<00:00, 37.93it/s]"
     ]
    },
    {
     "name": "stdout",
     "output_type": "stream",
     "text": [
      "Save 477 couples of imgs(pos/neg) at ./dataset/train/0092_4/img. \n"
     ]
    },
    {
     "name": "stderr",
     "output_type": "stream",
     "text": [
      "\n"
     ]
    }
   ],
   "source": [
    "for i in [1, 2, 4]:\n",
    "    for j in range(28, 93):\n",
    "        file_num = str(j).zfill(4)\n",
    "        generate_event_images(file_num, domain=\"test\", divider=i)\n",
    "        # generate_traj_data(file_num, divider=i)"
   ]
  }
 ],
 "metadata": {
  "kernelspec": {
   "display_name": "Python 3",
   "language": "python",
   "name": "python3"
  },
  "language_info": {
   "codemirror_mode": {
    "name": "ipython",
    "version": 3
   },
   "file_extension": ".py",
   "mimetype": "text/x-python",
   "name": "python",
   "nbconvert_exporter": "python",
   "pygments_lexer": "ipython3",
   "version": "3.10.12"
  }
 },
 "nbformat": 4,
 "nbformat_minor": 5
}
