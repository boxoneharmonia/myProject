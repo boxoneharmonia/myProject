{
 "cells": [
  {
   "cell_type": "code",
   "execution_count": 2,
   "id": "3647c153-7c5b-4992-8e22-04accfe52683",
   "metadata": {},
   "outputs": [],
   "source": [
    "import numpy as np\n",
    "import os\n",
    "import pandas as pd\n",
    "from tqdm import tqdm\n",
    "import cv2\n",
    "\n",
    "def create_temporal_rgb_frame(df, ts_0, ts_1, height=200, width=200):\n",
    "    \"\"\"\n",
    "    Create a temporal RGB frame from event data within a given time window.\n",
    "\n",
    "    Args:\n",
    "        df (pd.DataFrame): DataFrame containing event data with columns ['t', 'x', 'y', 'p'].\n",
    "        ts_0 (float): Start timestamp (in microseconds).\n",
    "        ts_1 (float): End timestamp (in microseconds).\n",
    "        height (int): Height of the output image.\n",
    "        width (int): Width of the output image.\n",
    "\n",
    "    Returns:\n",
    "        np.ndarray: An (height, width, 3) uint8 RGB image where each color channel encodes events\n",
    "                    from a different third of the time window:\n",
    "                        - Red: events in the first third,\n",
    "                        - Green: events in the middle third,\n",
    "                        - Blue: events in the last third.\n",
    "    \"\"\"\n",
    "    ev_frame = np.zeros([height, width, 3], dtype=np.uint8)\n",
    "    \n",
    "    if df.empty or (ts_1 <= ts_0):\n",
    "        return ev_frame\n",
    "\n",
    "    window = ts_1 - ts_0\n",
    "    w1 = ts_0 + window / 3\n",
    "    w2 = ts_1 - window / 3\n",
    "\n",
    "    # --- red (1/3) ---\n",
    "    red_ev = df.loc[df['t'].between(ts_0, w1)]\n",
    "    if not red_ev.empty:\n",
    "        x = red_ev['x'].to_numpy()\n",
    "        y = red_ev['y'].to_numpy()\n",
    "        t = red_ev['t'].to_numpy()\n",
    "        \n",
    "        alpha = (t - ts_0) / window\n",
    "        ev_frame[y, x, 0] = np.clip(alpha * 255.0, 0, 255)\n",
    "\n",
    "    # --- green (2/3) ---\n",
    "    green_ev = df.loc[df['t'].between(w1, w2)]\n",
    "    if not green_ev.empty:\n",
    "        x = green_ev['x'].to_numpy()\n",
    "        y = green_ev['y'].to_numpy()\n",
    "        t = green_ev['t'].to_numpy()\n",
    "\n",
    "        alpha = (t - ts_0) / window\n",
    "        ev_frame[y, x, 1] = np.clip(alpha * 255.0, 0, 255)\n",
    "\n",
    "    # --- blue (3/3) ---\n",
    "    blue_ev = df.loc[df['t'].between(w2, ts_1)]\n",
    "    if not blue_ev.empty:\n",
    "        x = blue_ev['x'].to_numpy()\n",
    "        y = blue_ev['y'].to_numpy()\n",
    "        t = blue_ev['t'].to_numpy()\n",
    "\n",
    "        alpha = (t - ts_0) / window\n",
    "        ev_frame[y, x, 2] = np.clip(alpha * 255.0, 0, 255)\n",
    "        \n",
    "    return ev_frame\n",
    "\n",
    "def create_temporal_mono_frame(df, ts_0, ts_1, height=200, width=200):\n",
    "    \"\"\"\n",
    "    Create a temporal mono frame from event data within a given time window.\n",
    "\n",
    "    Args:\n",
    "        df (pd.DataFrame): DataFrame containing event data with columns ['t', 'x', 'y', 'p'].\n",
    "        ts_0 (float): Start timestamp (in microseconds).\n",
    "        ts_1 (float): End timestamp (in microseconds).\n",
    "        height (int): Height of the output image.\n",
    "        width (int): Width of the output image.\n",
    "\n",
    "    Returns:\n",
    "        np.ndarray: An (height, width, 1) uint8 Mono image where one channel encodes events\n",
    "    \"\"\"\n",
    "    ev_frame = np.zeros([height, width, 1], dtype=np.uint8)\n",
    "    \n",
    "    if df.empty or (ts_1 <= ts_0):\n",
    "        return ev_frame\n",
    "\n",
    "    x = df['x'].to_numpy()\n",
    "    y = df['y'].to_numpy()\n",
    "    t = df['t'].to_numpy()\n",
    "        \n",
    "    alpha = (t - ts_0) / (ts_1 - ts_0)\n",
    "    ev_frame[y, x, 0] = (255.0 * np.clip(alpha*0.2 + 0.8, 0, 1) + 0.5).clip(0, 255.0).astype(np.uint8) \n",
    "    \n",
    "    return ev_frame\n",
    "\n",
    "def generate_event_images(filename, domain='train' , outdir='./dataset/train', divider=1, img_height=200, img_width=200, mode='mono'):\n",
    "    \"\"\"\n",
    "    Generate and save temporal event images from event-based data.\n",
    "\n",
    "    Args:\n",
    "        filename (str): Name of the .npz file (without extension) containing event data.\n",
    "        domain (str): Subdirectory under './data' and './dataset' (e.g., 'train', 'test').\n",
    "        outdir (str): Output directory to save generated images.\n",
    "        divider (int): Number of subdivisions per timestamp interval for interpolation.\n",
    "        img_height (int): Height of the output images.\n",
    "        img_width (int): Width of the output images.\n",
    "    \"\"\"\n",
    "    datapath = './data'\n",
    "    fpath = os.path.join(datapath, domain, filename + '.npz')\n",
    "    outpath = os.path.join(outdir, filename + '_' + str(divider), 'img')\n",
    "    os.makedirs(outpath, exist_ok=True)\n",
    "    \n",
    "    sequence = np.load(fpath)\n",
    "    events = sequence['events']\n",
    "    timestamps = sequence['timestamps'] \n",
    "    # traj = sequence['traj']\n",
    "    # range_meter = sequence['range_meter']\n",
    "\n",
    "    ev_data = pd.DataFrame(events, columns=['t', 'x', 'y', 'p']).set_index('t').sort_index()\n",
    "    # ts_data = pd.DataFrame(t, columns=['time/s'])\n",
    "    # traj_data = pd.DataFrame(x, columns=['x', 'y', 'z', 'vx', 'vy', 'vz', 'roll', 'pitch', 'yaw','wr', 'wp', 'wy'])\n",
    "    # rm_data = pd.DataFrame(rm, columns=['time/s', 'd/m'])\n",
    "\n",
    "    new_ts_list = []\n",
    "    if divider == 1:\n",
    "        new_ts_list = timestamps\n",
    "        ts_us = new_ts_list * 1e6\n",
    "    else: \n",
    "        for i in range(len(timestamps) - 1):\n",
    "            start_time = timestamps[i]\n",
    "            end_time = timestamps[i+1]\n",
    "            interpolated_times = np.linspace(start_time, end_time, divider, endpoint=False)\n",
    "            new_ts_list.append(interpolated_times)\n",
    "    \n",
    "        new_ts_list.append(np.array([timestamps[-1]]))\n",
    "        ts_us = np.concatenate(new_ts_list) * 1e6\n",
    "        \n",
    "    event_groups_list = []\n",
    "\n",
    "    for i in tqdm(range(len(ts_us))):\n",
    "        if (i != len(ts_us) - 1): \n",
    "            ts_0 = ts_us[i]\n",
    "            ts_1 = ts_us[i+1]\n",
    "            df = ev_data.loc[ts_0 : ts_1 - 1].reset_index()\n",
    "        else:\n",
    "            ts_0 = ts_us[i]\n",
    "            ts_1 = 2 * ts_0 - ts_us[i - 1]\n",
    "            df = ev_data.loc[ts_0 : ts_1 - 1].reset_index()\n",
    "\n",
    "        df_pos = df[df['p'] == True] \n",
    "        df_neg = df[df['p'] == False]\n",
    "        \n",
    "        imgname_pos = os.path.join(outpath, f\"{i:04d}_pos.png\")\n",
    "        imgname_neg = os.path.join(outpath, f\"{i:04d}_neg.png\")\n",
    "\n",
    "        if mode == 'rgb':\n",
    "            rgb_pos = create_temporal_rgb_frame(df_pos, ts_0, ts_1, img_height, img_width)\n",
    "            bgr_pos = cv2.cvtColor(rgb_pos, cv2.COLOR_RGB2BGR)\n",
    "            rgb_neg = create_temporal_rgb_frame(df_neg, ts_0, ts_1, img_height, img_width)\n",
    "            bgr_neg = cv2.cvtColor(rgb_neg, cv2.COLOR_RGB2BGR)\n",
    "            cv2.imwrite(imgname_pos, bgr_pos)\n",
    "            cv2.imwrite(imgname_neg, bgr_neg)\n",
    "        elif mode == 'mono':\n",
    "            mono_pos = create_temporal_mono_frame(df_pos, ts_0, ts_1, img_height, img_width)\n",
    "            mono_neg = create_temporal_mono_frame(df_neg, ts_0, ts_1, img_height, img_width)\n",
    "            cv2.imwrite(imgname_pos, mono_pos)\n",
    "            cv2.imwrite(imgname_neg, mono_neg)\n",
    "        \n",
    "    print(f\"Save {len(ts_us)} couples of imgs(pos/neg) at {outpath}. \")\n",
    "\n",
    "def generate_traj_data(filename, domain='train' , outdir='./dataset', divider=1):\n",
    "    \"\"\"\n",
    "    根据输入的npz文件,产生所有时间窗口的轨迹的插值\n",
    "    Args:\n",
    "        filename (str): 读取的npz文件名 (不含扩展名)。\n",
    "        domain (str): 'train' 或 'test' 等子目录。\n",
    "        outdir (str): 输出数据的根文件夹。\n",
    "        divider (int): 时间戳间隔的细分数量。\n",
    "    \"\"\"\n",
    "    datapath = './data'\n",
    "    fpath = os.path.join(datapath, domain, filename + '.npz')\n",
    "    outpath = os.path.join(outdir, filename + '_' + str(divider), 'data')\n",
    "    os.makedirs(outpath, exist_ok=True)\n",
    "    \n",
    "    sequence = np.load(fpath)\n",
    "    traj = sequence['traj']\n",
    "    timestamps = sequence['timestamps'] \n",
    "    range_meter = sequence['range_meter']\n",
    "\n",
    "    traj_new_list = []\n",
    "    rm_new_list = []\n",
    "\n",
    "    if divider == 1:\n",
    "        ts_new = timestamps\n",
    "        traj_new = traj\n",
    "    else: \n",
    "        ts_new_list = []\n",
    "        for i in range(len(timestamps) - 1):\n",
    "            start_time = timestamps[i]\n",
    "            end_time = timestamps[i+1]\n",
    "            interpolated_times = np.linspace(start_time, end_time, divider, endpoint=False)\n",
    "            ts_new_list.append(interpolated_times)\n",
    "\n",
    "            start_vec = traj[i] \n",
    "            end_vec = traj[i+1] \n",
    "            interpolated_vec = np.linspace(start_vec, end_vec, divider, endpoint=False)\n",
    "            traj_new_list.append(interpolated_vec)\n",
    "    \n",
    "        ts_new_list.append(np.array([timestamps[-1]]))\n",
    "        ts_new = np.concatenate(ts_new_list)\n",
    "        traj_new_list.append(traj[-1].reshape(1, -1))\n",
    "        traj_new = np.concatenate(traj_new_list, axis=0)\n",
    "\n",
    "    range_orig_times = range_meter[:, 0]\n",
    "    range_orig_dists = range_meter[:, 1]\n",
    "    range_new_dists = np.interp(ts_new, range_orig_times, range_orig_dists)\n",
    "    \n",
    "    df = pd.DataFrame(traj_new[:,2:], columns=['z','vx', 'vy', 'vz', 'roll', 'pitch', 'yaw','wr', 'wp', 'wy'])\n",
    "    df['rangemeter'] = range_new_dists\n",
    "    csvpath = os.path.join(outpath, 'trajectory.csv')\n",
    "    df.to_csv(csvpath, index=False)\n",
    "    print(f\"Save {len(df)} lines of trajectory data to {csvpath}.\")"
   ]
  },
  {
   "cell_type": "code",
   "execution_count": 4,
   "id": "80d61c88-4fe4-4056-90f7-8a861293a5a4",
   "metadata": {},
   "outputs": [
    {
     "name": "stdout",
     "output_type": "stream",
     "text": [
      "Save 120 lines of trajectory data to ./dataset/trainv2/0000_1/data/trajectory.csv.\n",
      "Save 120 lines of trajectory data to ./dataset/trainv2/0001_1/data/trajectory.csv.\n",
      "Save 120 lines of trajectory data to ./dataset/trainv2/0002_1/data/trajectory.csv.\n",
      "Save 120 lines of trajectory data to ./dataset/trainv2/0003_1/data/trajectory.csv.\n",
      "Save 120 lines of trajectory data to ./dataset/trainv2/0004_1/data/trajectory.csv.\n",
      "Save 120 lines of trajectory data to ./dataset/trainv2/0005_1/data/trajectory.csv.\n",
      "Save 120 lines of trajectory data to ./dataset/trainv2/0006_1/data/trajectory.csv.\n",
      "Save 120 lines of trajectory data to ./dataset/trainv2/0007_1/data/trajectory.csv.\n",
      "Save 120 lines of trajectory data to ./dataset/trainv2/0008_1/data/trajectory.csv.\n",
      "Save 120 lines of trajectory data to ./dataset/trainv2/0009_1/data/trajectory.csv.\n",
      "Save 120 lines of trajectory data to ./dataset/trainv2/0010_1/data/trajectory.csv.\n",
      "Save 120 lines of trajectory data to ./dataset/trainv2/0011_1/data/trajectory.csv.\n",
      "Save 120 lines of trajectory data to ./dataset/trainv2/0012_1/data/trajectory.csv.\n",
      "Save 120 lines of trajectory data to ./dataset/trainv2/0013_1/data/trajectory.csv.\n",
      "Save 120 lines of trajectory data to ./dataset/trainv2/0014_1/data/trajectory.csv.\n",
      "Save 120 lines of trajectory data to ./dataset/trainv2/0015_1/data/trajectory.csv.\n",
      "Save 120 lines of trajectory data to ./dataset/trainv2/0016_1/data/trajectory.csv.\n",
      "Save 120 lines of trajectory data to ./dataset/trainv2/0017_1/data/trajectory.csv.\n",
      "Save 120 lines of trajectory data to ./dataset/trainv2/0018_1/data/trajectory.csv.\n",
      "Save 120 lines of trajectory data to ./dataset/trainv2/0019_1/data/trajectory.csv.\n",
      "Save 120 lines of trajectory data to ./dataset/trainv2/0020_1/data/trajectory.csv.\n",
      "Save 120 lines of trajectory data to ./dataset/trainv2/0021_1/data/trajectory.csv.\n",
      "Save 120 lines of trajectory data to ./dataset/trainv2/0022_1/data/trajectory.csv.\n",
      "Save 120 lines of trajectory data to ./dataset/trainv2/0023_1/data/trajectory.csv.\n",
      "Save 120 lines of trajectory data to ./dataset/trainv2/0024_1/data/trajectory.csv.\n",
      "Save 120 lines of trajectory data to ./dataset/trainv2/0025_1/data/trajectory.csv.\n",
      "Save 120 lines of trajectory data to ./dataset/trainv2/0026_1/data/trajectory.csv.\n",
      "Save 120 lines of trajectory data to ./dataset/trainv2/0027_1/data/trajectory.csv.\n"
     ]
    }
   ],
   "source": [
    "for i in [1]:\n",
    "    for j in range(0, 28):\n",
    "        file_num = str(j).zfill(4)\n",
    "        # generate_event_images(file_num, domain='train' , outdir='./dataset/train', divider=i, mode='mono')\n",
    "        generate_traj_data(file_num, domain='train' , outdir='./dataset/trainv2', divider=i)"
   ]
  },
  {
   "cell_type": "code",
   "execution_count": null,
   "id": "33fdaf59",
   "metadata": {},
   "outputs": [
    {
     "name": "stderr",
     "output_type": "stream",
     "text": [
      "100%|██████████| 120/120 [00:03<00:00, 36.62it/s]\n"
     ]
    },
    {
     "name": "stdout",
     "output_type": "stream",
     "text": [
      "Save 120 couples of imgs(pos/neg) at ./dataset/pretrainv2/0000_1/img. \n"
     ]
    },
    {
     "name": "stderr",
     "output_type": "stream",
     "text": [
      "100%|██████████| 120/120 [00:02<00:00, 49.92it/s]\n"
     ]
    },
    {
     "name": "stdout",
     "output_type": "stream",
     "text": [
      "Save 120 couples of imgs(pos/neg) at ./dataset/pretrainv2/0001_1/img. \n"
     ]
    },
    {
     "name": "stderr",
     "output_type": "stream",
     "text": [
      "100%|██████████| 120/120 [00:00<00:00, 151.18it/s]\n"
     ]
    },
    {
     "name": "stdout",
     "output_type": "stream",
     "text": [
      "Save 120 couples of imgs(pos/neg) at ./dataset/pretrainv2/0002_1/img. \n"
     ]
    },
    {
     "name": "stderr",
     "output_type": "stream",
     "text": [
      "100%|██████████| 120/120 [00:03<00:00, 37.24it/s]\n"
     ]
    },
    {
     "name": "stdout",
     "output_type": "stream",
     "text": [
      "Save 120 couples of imgs(pos/neg) at ./dataset/pretrainv2/0003_1/img. \n"
     ]
    },
    {
     "name": "stderr",
     "output_type": "stream",
     "text": [
      "100%|██████████| 120/120 [00:00<00:00, 739.85it/s]\n"
     ]
    },
    {
     "name": "stdout",
     "output_type": "stream",
     "text": [
      "Save 120 couples of imgs(pos/neg) at ./dataset/pretrainv2/0004_1/img. \n"
     ]
    },
    {
     "name": "stderr",
     "output_type": "stream",
     "text": [
      "100%|██████████| 120/120 [00:00<00:00, 585.04it/s]\n"
     ]
    },
    {
     "name": "stdout",
     "output_type": "stream",
     "text": [
      "Save 120 couples of imgs(pos/neg) at ./dataset/pretrainv2/0005_1/img. \n"
     ]
    },
    {
     "name": "stderr",
     "output_type": "stream",
     "text": [
      "100%|██████████| 120/120 [00:00<00:00, 137.98it/s]\n"
     ]
    },
    {
     "name": "stdout",
     "output_type": "stream",
     "text": [
      "Save 120 couples of imgs(pos/neg) at ./dataset/pretrainv2/0006_1/img. \n"
     ]
    },
    {
     "name": "stderr",
     "output_type": "stream",
     "text": [
      "100%|██████████| 120/120 [00:02<00:00, 47.37it/s]\n"
     ]
    },
    {
     "name": "stdout",
     "output_type": "stream",
     "text": [
      "Save 120 couples of imgs(pos/neg) at ./dataset/pretrainv2/0007_1/img. \n"
     ]
    },
    {
     "name": "stderr",
     "output_type": "stream",
     "text": [
      "100%|██████████| 120/120 [00:03<00:00, 37.39it/s]\n"
     ]
    },
    {
     "name": "stdout",
     "output_type": "stream",
     "text": [
      "Save 120 couples of imgs(pos/neg) at ./dataset/pretrainv2/0008_1/img. \n"
     ]
    },
    {
     "name": "stderr",
     "output_type": "stream",
     "text": [
      "100%|██████████| 120/120 [00:00<00:00, 750.29it/s]\n"
     ]
    },
    {
     "name": "stdout",
     "output_type": "stream",
     "text": [
      "Save 120 couples of imgs(pos/neg) at ./dataset/pretrainv2/0009_1/img. \n"
     ]
    },
    {
     "name": "stderr",
     "output_type": "stream",
     "text": [
      "100%|██████████| 120/120 [00:00<00:00, 335.78it/s]\n"
     ]
    },
    {
     "name": "stdout",
     "output_type": "stream",
     "text": [
      "Save 120 couples of imgs(pos/neg) at ./dataset/pretrainv2/0010_1/img. \n"
     ]
    },
    {
     "name": "stderr",
     "output_type": "stream",
     "text": [
      "100%|██████████| 120/120 [00:01<00:00, 92.05it/s]\n"
     ]
    },
    {
     "name": "stdout",
     "output_type": "stream",
     "text": [
      "Save 120 couples of imgs(pos/neg) at ./dataset/pretrainv2/0011_1/img. \n"
     ]
    },
    {
     "name": "stderr",
     "output_type": "stream",
     "text": [
      "100%|██████████| 120/120 [00:01<00:00, 112.87it/s]\n"
     ]
    },
    {
     "name": "stdout",
     "output_type": "stream",
     "text": [
      "Save 120 couples of imgs(pos/neg) at ./dataset/pretrainv2/0012_1/img. \n"
     ]
    },
    {
     "name": "stderr",
     "output_type": "stream",
     "text": [
      "100%|██████████| 120/120 [00:03<00:00, 32.96it/s]\n"
     ]
    },
    {
     "name": "stdout",
     "output_type": "stream",
     "text": [
      "Save 120 couples of imgs(pos/neg) at ./dataset/pretrainv2/0013_1/img. \n"
     ]
    },
    {
     "name": "stderr",
     "output_type": "stream",
     "text": [
      "100%|██████████| 120/120 [00:01<00:00, 81.25it/s]\n"
     ]
    },
    {
     "name": "stdout",
     "output_type": "stream",
     "text": [
      "Save 120 couples of imgs(pos/neg) at ./dataset/pretrainv2/0014_1/img. \n"
     ]
    },
    {
     "name": "stderr",
     "output_type": "stream",
     "text": [
      "100%|██████████| 120/120 [00:03<00:00, 32.80it/s]\n"
     ]
    },
    {
     "name": "stdout",
     "output_type": "stream",
     "text": [
      "Save 120 couples of imgs(pos/neg) at ./dataset/pretrainv2/0015_1/img. \n"
     ]
    },
    {
     "name": "stderr",
     "output_type": "stream",
     "text": [
      "100%|██████████| 120/120 [00:03<00:00, 33.31it/s]\n"
     ]
    },
    {
     "name": "stdout",
     "output_type": "stream",
     "text": [
      "Save 120 couples of imgs(pos/neg) at ./dataset/pretrainv2/0016_1/img. \n"
     ]
    },
    {
     "name": "stderr",
     "output_type": "stream",
     "text": [
      "100%|██████████| 120/120 [00:00<00:00, 191.89it/s]\n"
     ]
    },
    {
     "name": "stdout",
     "output_type": "stream",
     "text": [
      "Save 120 couples of imgs(pos/neg) at ./dataset/pretrainv2/0017_1/img. \n"
     ]
    },
    {
     "name": "stderr",
     "output_type": "stream",
     "text": [
      "100%|██████████| 120/120 [00:00<00:00, 767.74it/s]\n"
     ]
    },
    {
     "name": "stdout",
     "output_type": "stream",
     "text": [
      "Save 120 couples of imgs(pos/neg) at ./dataset/pretrainv2/0018_1/img. \n"
     ]
    },
    {
     "name": "stderr",
     "output_type": "stream",
     "text": [
      "100%|██████████| 120/120 [00:00<00:00, 729.32it/s]\n"
     ]
    },
    {
     "name": "stdout",
     "output_type": "stream",
     "text": [
      "Save 120 couples of imgs(pos/neg) at ./dataset/pretrainv2/0019_1/img. \n"
     ]
    },
    {
     "name": "stderr",
     "output_type": "stream",
     "text": [
      "100%|██████████| 120/120 [00:00<00:00, 497.31it/s]\n"
     ]
    },
    {
     "name": "stdout",
     "output_type": "stream",
     "text": [
      "Save 120 couples of imgs(pos/neg) at ./dataset/pretrainv2/0020_1/img. \n"
     ]
    },
    {
     "name": "stderr",
     "output_type": "stream",
     "text": [
      "100%|██████████| 120/120 [00:00<00:00, 535.74it/s]\n"
     ]
    },
    {
     "name": "stdout",
     "output_type": "stream",
     "text": [
      "Save 120 couples of imgs(pos/neg) at ./dataset/pretrainv2/0021_1/img. \n"
     ]
    },
    {
     "name": "stderr",
     "output_type": "stream",
     "text": [
      "100%|██████████| 120/120 [00:00<00:00, 777.40it/s]\n"
     ]
    },
    {
     "name": "stdout",
     "output_type": "stream",
     "text": [
      "Save 120 couples of imgs(pos/neg) at ./dataset/pretrainv2/0022_1/img. \n"
     ]
    },
    {
     "name": "stderr",
     "output_type": "stream",
     "text": [
      "100%|██████████| 120/120 [00:06<00:00, 18.85it/s]\n"
     ]
    },
    {
     "name": "stdout",
     "output_type": "stream",
     "text": [
      "Save 120 couples of imgs(pos/neg) at ./dataset/pretrainv2/0023_1/img. \n"
     ]
    },
    {
     "name": "stderr",
     "output_type": "stream",
     "text": [
      "100%|██████████| 120/120 [00:01<00:00, 109.31it/s]\n"
     ]
    },
    {
     "name": "stdout",
     "output_type": "stream",
     "text": [
      "Save 120 couples of imgs(pos/neg) at ./dataset/pretrainv2/0024_1/img. \n"
     ]
    },
    {
     "name": "stderr",
     "output_type": "stream",
     "text": [
      "100%|██████████| 120/120 [00:00<00:00, 548.18it/s]\n"
     ]
    },
    {
     "name": "stdout",
     "output_type": "stream",
     "text": [
      "Save 120 couples of imgs(pos/neg) at ./dataset/pretrainv2/0025_1/img. \n"
     ]
    },
    {
     "name": "stderr",
     "output_type": "stream",
     "text": [
      "100%|██████████| 120/120 [00:00<00:00, 426.50it/s]\n"
     ]
    },
    {
     "name": "stdout",
     "output_type": "stream",
     "text": [
      "Save 120 couples of imgs(pos/neg) at ./dataset/pretrainv2/0026_1/img. \n"
     ]
    },
    {
     "name": "stderr",
     "output_type": "stream",
     "text": [
      "100%|██████████| 120/120 [00:01<00:00, 89.10it/s]"
     ]
    },
    {
     "name": "stdout",
     "output_type": "stream",
     "text": [
      "Save 120 couples of imgs(pos/neg) at ./dataset/pretrainv2/0027_1/img. \n"
     ]
    },
    {
     "name": "stderr",
     "output_type": "stream",
     "text": [
      "\n"
     ]
    }
   ],
   "source": [
    "for i in [1]:\n",
    "    for j in range(0, 28):\n",
    "        file_num = str(j).zfill(4)\n",
    "        generate_event_images(file_num, domain='train' , outdir='./dataset/pretrainv2', divider=i, mode='mono')"
   ]
  },
  {
   "cell_type": "code",
   "execution_count": 3,
   "id": "bfe8ef24",
   "metadata": {},
   "outputs": [
    {
     "name": "stdout",
     "output_type": "stream",
     "text": [
      "Save 120 lines of trajectory data to ./dataset/testv2/0028_1/data/trajectory.csv.\n",
      "Save 120 lines of trajectory data to ./dataset/testv2/0029_1/data/trajectory.csv.\n",
      "Save 120 lines of trajectory data to ./dataset/testv2/0030_1/data/trajectory.csv.\n",
      "Save 120 lines of trajectory data to ./dataset/testv2/0031_1/data/trajectory.csv.\n",
      "Save 120 lines of trajectory data to ./dataset/testv2/0032_1/data/trajectory.csv.\n",
      "Save 120 lines of trajectory data to ./dataset/testv2/0033_1/data/trajectory.csv.\n",
      "Save 120 lines of trajectory data to ./dataset/testv2/0034_1/data/trajectory.csv.\n",
      "Save 120 lines of trajectory data to ./dataset/testv2/0035_1/data/trajectory.csv.\n",
      "Save 120 lines of trajectory data to ./dataset/testv2/0036_1/data/trajectory.csv.\n",
      "Save 120 lines of trajectory data to ./dataset/testv2/0037_1/data/trajectory.csv.\n",
      "Save 120 lines of trajectory data to ./dataset/testv2/0038_1/data/trajectory.csv.\n",
      "Save 120 lines of trajectory data to ./dataset/testv2/0039_1/data/trajectory.csv.\n",
      "Save 120 lines of trajectory data to ./dataset/testv2/0040_1/data/trajectory.csv.\n",
      "Save 120 lines of trajectory data to ./dataset/testv2/0041_1/data/trajectory.csv.\n",
      "Save 120 lines of trajectory data to ./dataset/testv2/0042_1/data/trajectory.csv.\n",
      "Save 120 lines of trajectory data to ./dataset/testv2/0043_1/data/trajectory.csv.\n",
      "Save 120 lines of trajectory data to ./dataset/testv2/0044_1/data/trajectory.csv.\n",
      "Save 120 lines of trajectory data to ./dataset/testv2/0045_1/data/trajectory.csv.\n",
      "Save 120 lines of trajectory data to ./dataset/testv2/0046_1/data/trajectory.csv.\n",
      "Save 120 lines of trajectory data to ./dataset/testv2/0047_1/data/trajectory.csv.\n",
      "Save 120 lines of trajectory data to ./dataset/testv2/0048_1/data/trajectory.csv.\n",
      "Save 120 lines of trajectory data to ./dataset/testv2/0049_1/data/trajectory.csv.\n",
      "Save 120 lines of trajectory data to ./dataset/testv2/0050_1/data/trajectory.csv.\n",
      "Save 120 lines of trajectory data to ./dataset/testv2/0051_1/data/trajectory.csv.\n",
      "Save 120 lines of trajectory data to ./dataset/testv2/0052_1/data/trajectory.csv.\n",
      "Save 120 lines of trajectory data to ./dataset/testv2/0053_1/data/trajectory.csv.\n",
      "Save 120 lines of trajectory data to ./dataset/testv2/0054_1/data/trajectory.csv.\n",
      "Save 120 lines of trajectory data to ./dataset/testv2/0055_1/data/trajectory.csv.\n",
      "Save 120 lines of trajectory data to ./dataset/testv2/0056_1/data/trajectory.csv.\n",
      "Save 120 lines of trajectory data to ./dataset/testv2/0057_1/data/trajectory.csv.\n",
      "Save 120 lines of trajectory data to ./dataset/testv2/0058_1/data/trajectory.csv.\n",
      "Save 120 lines of trajectory data to ./dataset/testv2/0059_1/data/trajectory.csv.\n",
      "Save 120 lines of trajectory data to ./dataset/testv2/0060_1/data/trajectory.csv.\n",
      "Save 120 lines of trajectory data to ./dataset/testv2/0061_1/data/trajectory.csv.\n",
      "Save 120 lines of trajectory data to ./dataset/testv2/0062_1/data/trajectory.csv.\n",
      "Save 120 lines of trajectory data to ./dataset/testv2/0063_1/data/trajectory.csv.\n",
      "Save 120 lines of trajectory data to ./dataset/testv2/0064_1/data/trajectory.csv.\n",
      "Save 120 lines of trajectory data to ./dataset/testv2/0065_1/data/trajectory.csv.\n",
      "Save 120 lines of trajectory data to ./dataset/testv2/0066_1/data/trajectory.csv.\n",
      "Save 120 lines of trajectory data to ./dataset/testv2/0067_1/data/trajectory.csv.\n",
      "Save 120 lines of trajectory data to ./dataset/testv2/0068_1/data/trajectory.csv.\n",
      "Save 120 lines of trajectory data to ./dataset/testv2/0069_1/data/trajectory.csv.\n",
      "Save 120 lines of trajectory data to ./dataset/testv2/0070_1/data/trajectory.csv.\n",
      "Save 120 lines of trajectory data to ./dataset/testv2/0071_1/data/trajectory.csv.\n",
      "Save 120 lines of trajectory data to ./dataset/testv2/0072_1/data/trajectory.csv.\n",
      "Save 120 lines of trajectory data to ./dataset/testv2/0073_1/data/trajectory.csv.\n",
      "Save 120 lines of trajectory data to ./dataset/testv2/0074_1/data/trajectory.csv.\n",
      "Save 120 lines of trajectory data to ./dataset/testv2/0075_1/data/trajectory.csv.\n",
      "Save 120 lines of trajectory data to ./dataset/testv2/0076_1/data/trajectory.csv.\n",
      "Save 120 lines of trajectory data to ./dataset/testv2/0077_1/data/trajectory.csv.\n",
      "Save 120 lines of trajectory data to ./dataset/testv2/0078_1/data/trajectory.csv.\n",
      "Save 120 lines of trajectory data to ./dataset/testv2/0079_1/data/trajectory.csv.\n",
      "Save 120 lines of trajectory data to ./dataset/testv2/0080_1/data/trajectory.csv.\n",
      "Save 120 lines of trajectory data to ./dataset/testv2/0081_1/data/trajectory.csv.\n",
      "Save 120 lines of trajectory data to ./dataset/testv2/0082_1/data/trajectory.csv.\n",
      "Save 120 lines of trajectory data to ./dataset/testv2/0083_1/data/trajectory.csv.\n",
      "Save 120 lines of trajectory data to ./dataset/testv2/0084_1/data/trajectory.csv.\n",
      "Save 120 lines of trajectory data to ./dataset/testv2/0085_1/data/trajectory.csv.\n",
      "Save 120 lines of trajectory data to ./dataset/testv2/0086_1/data/trajectory.csv.\n",
      "Save 120 lines of trajectory data to ./dataset/testv2/0087_1/data/trajectory.csv.\n",
      "Save 120 lines of trajectory data to ./dataset/testv2/0088_1/data/trajectory.csv.\n",
      "Save 120 lines of trajectory data to ./dataset/testv2/0089_1/data/trajectory.csv.\n",
      "Save 120 lines of trajectory data to ./dataset/testv2/0090_1/data/trajectory.csv.\n",
      "Save 120 lines of trajectory data to ./dataset/testv2/0091_1/data/trajectory.csv.\n",
      "Save 120 lines of trajectory data to ./dataset/testv2/0092_1/data/trajectory.csv.\n"
     ]
    }
   ],
   "source": [
    "for i in [1]:\n",
    "    for j in range(28, 93):\n",
    "        file_num = str(j).zfill(4)\n",
    "        # generate_event_images(file_num, domain=\"test\", outdir='./dataset/testv2', divider=i, mode='mono')\n",
    "        generate_traj_data(file_num, domain=\"test\", outdir='./dataset/testv2', divider=i)"
   ]
  }
 ],
 "metadata": {
  "kernelspec": {
   "display_name": "Python 3",
   "language": "python",
   "name": "python3"
  },
  "language_info": {
   "codemirror_mode": {
    "name": "ipython",
    "version": 3
   },
   "file_extension": ".py",
   "mimetype": "text/x-python",
   "name": "python",
   "nbconvert_exporter": "python",
   "pygments_lexer": "ipython3",
   "version": "3.10.12"
  }
 },
 "nbformat": 4,
 "nbformat_minor": 5
}
