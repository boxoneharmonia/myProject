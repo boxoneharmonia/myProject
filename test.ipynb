{
 "cells": [
  {
   "cell_type": "code",
   "execution_count": 1,
   "id": "0d79a433",
   "metadata": {},
   "outputs": [
    {
     "name": "stderr",
     "output_type": "stream",
     "text": [
      "INFO:__main__:Test on device cuda:0\n",
      "INFO:__main__:Random seed value: 19260817\n",
      "INFO:__main__:Loading pretrained weights from ./weight/event_bert_v2.pth\n",
      "INFO:src.dataset:Dataset initialized with 97 sequences from ./dataset/validv2.\n",
      "INFO:__main__:Test dataloader created with 97 batches.\n"
     ]
    },
    {
     "name": "stdout",
     "output_type": "stream",
     "text": [
      "Batch: [   1/97  ], Loss: 0.041127 (Avg: 0.041127), Elapsed: 576.10 ms\n",
      " predicted traj tensor([30.4445, 44.0935, 74.5682])\n",
      "ground truth traj tensor([ -4.0603, 153.7304,  51.2831], device='cuda:0')\n",
      "Batch: [  10/97  ], Loss: 0.024228 (Avg: 0.032449), Elapsed: 24.26 ms\n",
      " predicted traj tensor([ 11.3226, 107.8370,  74.1511])\n",
      "ground truth traj tensor([ -4.0603, 153.7304,  57.0480], device='cuda:0')\n",
      "Batch: [  19/97  ], Loss: 0.026412 (Avg: 0.029006), Elapsed: 24.34 ms\n",
      " predicted traj tensor([ 10.1112, 117.6925,  71.8115])\n",
      "ground truth traj tensor([ -4.0603, 153.7304,  62.8129], device='cuda:0')\n",
      "Batch: [  28/97  ], Loss: 0.029806 (Avg: 0.028792), Elapsed: 23.87 ms\n",
      " predicted traj tensor([ 10.8636, 121.0539,  69.3896])\n",
      "ground truth traj tensor([ -4.0603, 153.7304,  68.5778], device='cuda:0')\n",
      "Batch: [  37/97  ], Loss: 0.032924 (Avg: 0.029475), Elapsed: 24.16 ms\n",
      " predicted traj tensor([ 11.1952, 122.7120,  66.5419])\n",
      "ground truth traj tensor([ -4.0603, 153.7304,  74.3427], device='cuda:0')\n",
      "Batch: [  46/97  ], Loss: 0.033269 (Avg: 0.030130), Elapsed: 23.43 ms\n",
      " predicted traj tensor([ 10.1097, 118.2279,  62.8471])\n",
      "ground truth traj tensor([ -3.9217, 147.3003,  72.0773], device='cuda:0')\n",
      "Batch: [  55/97  ], Loss: 0.034237 (Avg: 0.030742), Elapsed: 24.15 ms\n",
      " predicted traj tensor([  8.0038, 112.0177,  58.4586])\n",
      "ground truth traj tensor([ -3.6258, 134.4603,  62.7886], device='cuda:0')\n",
      "Batch: [  64/97  ], Loss: 0.038191 (Avg: 0.031520), Elapsed: 25.38 ms\n",
      " predicted traj tensor([  8.6217, 103.6885,  53.2942])\n",
      "ground truth traj tensor([ -3.2893, 120.9404,  53.9317], device='cuda:0')\n",
      "Batch: [  73/97  ], Loss: 0.039711 (Avg: 0.032490), Elapsed: 23.62 ms\n",
      " predicted traj tensor([ 7.9349, 92.6063, 46.7039])\n",
      "ground truth traj tensor([ -2.9151, 106.7681,  45.5213], device='cuda:0')\n",
      "Batch: [  82/97  ], Loss: 0.035130 (Avg: 0.033034), Elapsed: 23.72 ms\n",
      " predicted traj tensor([ 5.3812, 81.0755, 38.3050])\n",
      "ground truth traj tensor([-2.5089, 91.9713, 37.5688], device='cuda:0')\n",
      "Batch: [  91/97  ], Loss: 0.018340 (Avg: 0.032365), Elapsed: 24.15 ms\n",
      " predicted traj tensor([ 2.8973, 72.0251, 30.2056])\n",
      "ground truth traj tensor([-2.0718, 76.5783, 30.0826], device='cuda:0')\n",
      "Batch: [  97/97  ], Loss: 0.014014 (Avg: 0.031176), Elapsed: 23.06 ms\n",
      "\r"
     ]
    },
    {
     "name": "stderr",
     "output_type": "stream",
     "text": [
      "INFO:src.valid:Validation finished.\n",
      "INFO:__main__:Test completed successfully.\n"
     ]
    }
   ],
   "source": [
    "%reload_ext autoreload\n",
    "%autoreload 2\n",
    "%run test.py"
   ]
  }
 ],
 "metadata": {
  "kernelspec": {
   "display_name": "Python 3",
   "language": "python",
   "name": "python3"
  },
  "language_info": {
   "codemirror_mode": {
    "name": "ipython",
    "version": 3
   },
   "file_extension": ".py",
   "mimetype": "text/x-python",
   "name": "python",
   "nbconvert_exporter": "python",
   "pygments_lexer": "ipython3",
   "version": "3.10.12"
  }
 },
 "nbformat": 4,
 "nbformat_minor": 5
}
