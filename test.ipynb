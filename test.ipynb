{
 "cells": [
  {
   "cell_type": "code",
   "execution_count": 1,
   "id": "0d79a433",
   "metadata": {},
   "outputs": [
    {
     "name": "stderr",
     "output_type": "stream",
     "text": [
      "INFO:__main__:Test on device cuda:0\n",
      "INFO:__main__:Random seed value: 42\n",
      "INFO:__main__:Loading pretrained weights from ./weight/event_bert.pth\n",
      "INFO:src.dataset:Dataset initialized with 454 sequences from ./dataset/validt.\n",
      "INFO:__main__:Test dataloader created with 454 batches.\n"
     ]
    },
    {
     "name": "stdout",
     "output_type": "stream",
     "text": [
      "Batch: [   1/454 ], Loss: 0.031675 (Avg: 0.031675), Elapsed: 505.28 ms\n",
      " predicted traj tensor([ -42.3849, -110.1429,   61.0336])\n",
      "ground truth traj tensor([  26.0433, -119.1901,   48.0280], device='cuda:0')\n",
      "Batch: [  46/454 ], Loss: 0.034666 (Avg: 0.079830), Elapsed: 20.83 ms\n",
      " predicted traj tensor([ -31.9837, -130.2413,   60.6393])\n",
      "ground truth traj tensor([  29.6942, -113.2059,   35.3176], device='cuda:0')\n",
      "Batch: [  91/454 ], Loss: 0.027308 (Avg: 0.052232), Elapsed: 20.82 ms\n",
      " predicted traj tensor([  64.2880, -132.7394,   64.1310])\n",
      "ground truth traj tensor([  33.2141, -108.0132,   25.9393], device='cuda:0')\n",
      "Batch: [ 136/454 ], Loss: 0.020409 (Avg: 0.044958), Elapsed: 20.88 ms\n",
      " predicted traj tensor([  31.5006, -130.6936,   66.8681])\n",
      "ground truth traj tensor([  33.2141, -108.0132,   34.2201], device='cuda:0')\n",
      "Batch: [ 181/454 ], Loss: 0.031464 (Avg: 0.039761), Elapsed: 21.01 ms\n",
      " predicted traj tensor([ -12.0282, -122.4655,   59.4986])\n",
      "ground truth traj tensor([  33.2141, -108.0132,   42.5009], device='cuda:0')\n",
      "Batch: [ 226/454 ], Loss: 0.028925 (Avg: 0.037629), Elapsed: 20.80 ms\n",
      " predicted traj tensor([  -1.6309, -114.1519,   67.0675])\n",
      "ground truth traj tensor([  33.2141, -108.0132,   50.7817], device='cuda:0')\n",
      "Batch: [ 271/454 ], Loss: 0.020112 (Avg: 0.035479), Elapsed: 20.88 ms\n",
      " predicted traj tensor([  50.1971, -118.3157,   72.8039])\n",
      "ground truth traj tensor([  33.2141, -108.0132,   59.0624], device='cuda:0')\n",
      "Batch: [ 316/454 ], Loss: 0.027516 (Avg: 0.032276), Elapsed: 20.85 ms\n",
      " predicted traj tensor([ 19.2735, -84.3815,  45.6145])\n",
      "ground truth traj tensor([ 31.6062, -98.2594,  54.5362], device='cuda:0')\n",
      "Batch: [ 361/454 ], Loss: 0.037343 (Avg: 0.032182), Elapsed: 20.92 ms\n",
      " predicted traj tensor([  9.9044, -79.9176,  33.4986])\n",
      "ground truth traj tensor([ 27.6301, -79.9747,  41.2837], device='cuda:0')\n",
      "Batch: [ 406/454 ], Loss: 0.053021 (Avg: 0.034477), Elapsed: 20.80 ms\n",
      " predicted traj tensor([ 17.5860, -46.1553,  20.2545])\n",
      "ground truth traj tensor([ 22.2381, -60.3481,  29.1910], device='cuda:0')\n",
      "Batch: [ 451/454 ], Loss: 0.030744 (Avg: 0.035658), Elapsed: 20.92 ms\n",
      " predicted traj tensor([ 14.6408, -32.3760,  14.8392])\n",
      "ground truth traj tensor([ 15.5475, -39.4784,  18.3679], device='cuda:0')\n",
      "Batch: [ 454/454 ], Loss: 0.019874 (Avg: 0.035575), Elapsed: 21.13 ms\n",
      "\r"
     ]
    },
    {
     "name": "stderr",
     "output_type": "stream",
     "text": [
      "INFO:src.valid:Validation finished.\n",
      "INFO:__main__:Test completed successfully.\n"
     ]
    }
   ],
   "source": [
    "%reload_ext autoreload\n",
    "%autoreload 2\n",
    "%run test.py"
   ]
  }
 ],
 "metadata": {
  "kernelspec": {
   "display_name": "Python 3",
   "language": "python",
   "name": "python3"
  },
  "language_info": {
   "codemirror_mode": {
    "name": "ipython",
    "version": 3
   },
   "file_extension": ".py",
   "mimetype": "text/x-python",
   "name": "python",
   "nbconvert_exporter": "python",
   "pygments_lexer": "ipython3",
   "version": "3.10.12"
  }
 },
 "nbformat": 4,
 "nbformat_minor": 5
}
