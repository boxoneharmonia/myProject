{
 "cells": [
  {
   "cell_type": "code",
   "execution_count": 1,
   "id": "0d79a433",
   "metadata": {},
   "outputs": [
    {
     "name": "stderr",
     "output_type": "stream",
     "text": [
      "INFO:__main__:Test on device cuda:0\n",
      "INFO:__main__:Random seed value: 42\n",
      "INFO:__main__:Loading pretrained weights from ./weight/event_bert_v2.pth\n",
      "INFO:src.dataset:Dataset initialized with 115 sequences from ./dataset/validv2.\n",
      "INFO:__main__:Test dataloader created with 115 batches.\n"
     ]
    },
    {
     "name": "stdout",
     "output_type": "stream",
     "text": [
      "Batch: [   1/115 ], Loss: 0.091343 (Avg: 0.091343), Elapsed: 511.19 ms\n",
      " predicted traj tensor([-10.8969, 123.8346,  54.6014])\n",
      "ground truth traj tensor([-148.0106,   17.5070,   67.5726], device='cuda:0')\n",
      "Batch: [  12/115 ], Loss: 0.090864 (Avg: 0.093411), Elapsed: 25.18 ms\n",
      " predicted traj tensor([-32.8887, 113.1769,  54.5254])\n",
      "ground truth traj tensor([-148.0106,   17.5070,   72.9789], device='cuda:0')\n",
      "Batch: [  23/115 ], Loss: 0.059814 (Avg: 0.082707), Elapsed: 24.77 ms\n",
      " predicted traj tensor([-72.0219,  40.8562,  53.8948])\n",
      "ground truth traj tensor([-148.0106,   17.5070,   78.3853], device='cuda:0')\n",
      "Batch: [  34/115 ], Loss: 0.056878 (Avg: 0.075943), Elapsed: 24.91 ms\n",
      " predicted traj tensor([-82.4452,  38.5441,  52.1165])\n",
      "ground truth traj tensor([-141.7619,   16.8243,   76.0910], device='cuda:0')\n",
      "Batch: [  45/115 ], Loss: 0.047364 (Avg: 0.070259), Elapsed: 24.52 ms\n",
      " predicted traj tensor([-92.5827,  -5.3913,  48.5547])\n",
      "ground truth traj tensor([-128.0678,   15.2988,   65.6239], device='cuda:0')\n",
      "Batch: [  56/115 ], Loss: 0.052836 (Avg: 0.065725), Elapsed: 25.35 ms\n",
      " predicted traj tensor([-85.3734,  42.5787,  44.0016])\n",
      "ground truth traj tensor([-113.6438,   13.6545,   55.6283], device='cuda:0')\n",
      "Batch: [  67/115 ], Loss: 0.054516 (Avg: 0.061258), Elapsed: 24.87 ms\n",
      " predicted traj tensor([-73.1198,  33.8380,  39.8329])\n",
      "ground truth traj tensor([-98.5039,  11.8963,  46.1365], device='cuda:0')\n",
      "Batch: [  78/115 ], Loss: 0.017722 (Avg: 0.058800), Elapsed: 24.45 ms\n",
      " predicted traj tensor([-78.9119,  17.9984,  34.4921])\n",
      "ground truth traj tensor([-82.6701,  10.0290,  37.1731], device='cuda:0')\n",
      "Batch: [  89/115 ], Loss: 0.077999 (Avg: 0.057170), Elapsed: 24.78 ms\n",
      " predicted traj tensor([-61.7108,  32.0289,  28.6636])\n",
      "ground truth traj tensor([-66.1858,   8.0560,  28.7368], device='cuda:0')\n",
      "Batch: [ 100/115 ], Loss: 0.085228 (Avg: 0.056723), Elapsed: 24.68 ms\n",
      " predicted traj tensor([-65.7606,   3.1022,  20.8145])\n",
      "ground truth traj tensor([-49.0703,   5.9826,  20.8501], device='cuda:0')\n",
      "Batch: [ 111/115 ], Loss: 0.046035 (Avg: 0.055862), Elapsed: 24.59 ms\n",
      " predicted traj tensor([-21.2716,  10.0791,  14.1967])\n",
      "ground truth traj tensor([-31.3396,   3.8146,  13.5402], device='cuda:0')\n",
      "Batch: [ 115/115 ], Loss: 0.126121 (Avg: 0.056030), Elapsed: 23.60 ms\n",
      "\r"
     ]
    },
    {
     "name": "stderr",
     "output_type": "stream",
     "text": [
      "INFO:src.valid:Validation finished.\n",
      "INFO:__main__:Test completed successfully.\n"
     ]
    }
   ],
   "source": [
    "%reload_ext autoreload\n",
    "%autoreload 2\n",
    "%run test.py"
   ]
  }
 ],
 "metadata": {
  "kernelspec": {
   "display_name": "Python 3",
   "language": "python",
   "name": "python3"
  },
  "language_info": {
   "codemirror_mode": {
    "name": "ipython",
    "version": 3
   },
   "file_extension": ".py",
   "mimetype": "text/x-python",
   "name": "python",
   "nbconvert_exporter": "python",
   "pygments_lexer": "ipython3",
   "version": "3.10.12"
  }
 },
 "nbformat": 4,
 "nbformat_minor": 5
}
