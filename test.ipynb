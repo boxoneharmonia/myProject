{
 "cells": [
  {
   "cell_type": "code",
   "execution_count": 1,
   "id": "0d79a433",
   "metadata": {},
   "outputs": [
    {
     "name": "stderr",
     "output_type": "stream",
     "text": [
      "INFO:__main__:Test on device cuda:0\n",
      "INFO:__main__:Random seed value: 42\n",
      "INFO:__main__:Loading pretrained weights from ./weight/event_bert.pth\n",
      "INFO:src.dataset:Dataset initialized with 454 sequences from ./dataset/validt.\n",
      "INFO:__main__:Test dataloader created with 454 batches.\n"
     ]
    },
    {
     "name": "stdout",
     "output_type": "stream",
     "text": [
      "Batch: [   1/454 ], Loss: 1.212520 (Avg: 1.212520), 0.031041 (Avg: 0.031041), 0.004929 (Avg: 0.004929), Elapsed: 511.69 ms\n",
      " predicted traj tensor([ -34.5711, -138.9669,   68.2825])\n",
      "ground truth traj tensor([  26.0433, -119.1901,   48.0280])\n",
      "Batch: [  46/454 ], Loss: 1.571092 (Avg: 1.518002), 0.054093 (Avg: 0.046853), 0.003449 (Avg: 0.003664), Elapsed: 20.98 ms\n",
      " predicted traj tensor([ -71.7627, -129.5329,   68.6931])\n",
      "ground truth traj tensor([  29.6942, -113.2059,   35.3176])\n",
      "Batch: [  91/454 ], Loss: 1.261630 (Avg: 1.466901), 0.050561 (Avg: 0.050066), 0.002522 (Avg: 0.003267), Elapsed: 21.11 ms\n",
      " predicted traj tensor([ -48.2828, -142.3239,   68.7924])\n",
      "ground truth traj tensor([  33.2141, -108.0132,   25.9393])\n",
      "Batch: [ 136/454 ], Loss: 0.992554 (Avg: 1.344145), 0.041943 (Avg: 0.048481), 0.002348 (Avg: 0.003045), Elapsed: 21.13 ms\n",
      " predicted traj tensor([ -19.2945, -150.3644,   67.0201])\n",
      "ground truth traj tensor([  33.2141, -108.0132,   34.2201])\n",
      "Batch: [ 181/454 ], Loss: 0.977915 (Avg: 1.268625), 0.038835 (Avg: 0.046816), 0.002330 (Avg: 0.002982), Elapsed: 20.98 ms\n",
      " predicted traj tensor([  -5.5264, -149.4002,   66.5437])\n",
      "ground truth traj tensor([  33.2141, -108.0132,   42.5009])\n",
      "Batch: [ 226/454 ], Loss: 1.377984 (Avg: 1.191827), 0.036073 (Avg: 0.044020), 0.003647 (Avg: 0.002655), Elapsed: 21.18 ms\n",
      " predicted traj tensor([  16.4768, -149.6226,   67.3839])\n",
      "ground truth traj tensor([  33.2141, -108.0132,   50.7817])\n",
      "Batch: [ 271/454 ], Loss: 1.519363 (Avg: 1.283513), 0.035472 (Avg: 0.043312), 0.001210 (Avg: 0.002968), Elapsed: 21.23 ms\n",
      " predicted traj tensor([  21.9836, -139.7122,   66.3264])\n",
      "ground truth traj tensor([  33.2141, -108.0132,   59.0624])\n",
      "Batch: [ 316/454 ], Loss: 0.723116 (Avg: 1.229662), 0.039506 (Avg: 0.041996), 0.000891 (Avg: 0.002635), Elapsed: 21.13 ms\n",
      " predicted traj tensor([  18.0548, -115.4358,   65.6803])\n",
      "ground truth traj tensor([ 31.6062, -98.2594,  54.5362])\n",
      "Batch: [ 361/454 ], Loss: 0.985337 (Avg: 1.169423), 0.059001 (Avg: 0.042322), 0.001614 (Avg: 0.002512), Elapsed: 20.96 ms\n",
      " predicted traj tensor([  18.3981, -101.4400,   55.2567])\n",
      "ground truth traj tensor([ 27.6301, -79.9747,  41.2837])\n",
      "Batch: [ 406/454 ], Loss: 1.753417 (Avg: 1.187592), 0.113893 (Avg: 0.046679), 0.001537 (Avg: 0.002416), Elapsed: 21.04 ms\n",
      " predicted traj tensor([ 23.7129, -95.0290,  51.3812])\n",
      "ground truth traj tensor([ 22.2381, -60.3481,  29.1910])\n",
      "Batch: [ 451/454 ], Loss: 0.337462 (Avg: 1.193791), 0.036100 (Avg: 0.051054), 0.002418 (Avg: 0.002406), Elapsed: 21.20 ms\n",
      " predicted traj tensor([ 21.2215, -46.7906,  23.2785])\n",
      "ground truth traj tensor([ 15.5475, -39.4784,  18.3679])\n",
      "Batch: [ 454/454 ], Loss: 0.306427 (Avg: 1.188103), 0.035292 (Avg: 0.050961), 0.002287 (Avg: 0.002405), Elapsed: 20.98 ms\n",
      "\r"
     ]
    },
    {
     "name": "stderr",
     "output_type": "stream",
     "text": [
      "INFO:src.valid:Validation finished.\n",
      "INFO:__main__:Test completed successfully.\n"
     ]
    }
   ],
   "source": [
    "%reload_ext autoreload\n",
    "%autoreload 2\n",
    "%run test.py"
   ]
  }
 ],
 "metadata": {
  "kernelspec": {
   "display_name": "Python 3",
   "language": "python",
   "name": "python3"
  },
  "language_info": {
   "codemirror_mode": {
    "name": "ipython",
    "version": 3
   },
   "file_extension": ".py",
   "mimetype": "text/x-python",
   "name": "python",
   "nbconvert_exporter": "python",
   "pygments_lexer": "ipython3",
   "version": "3.10.12"
  }
 },
 "nbformat": 4,
 "nbformat_minor": 5
}
